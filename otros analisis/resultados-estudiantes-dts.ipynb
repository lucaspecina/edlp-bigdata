{
 "cells": [
  {
   "cell_type": "code",
   "execution_count": 1,
   "metadata": {},
   "outputs": [
    {
     "name": "stderr",
     "output_type": "stream",
     "text": [
      "<frozen importlib._bootstrap>:219: RuntimeWarning:\n",
      "\n",
      "numpy.ufunc size changed, may indicate binary incompatibility. Expected 192 from C header, got 216 from PyObject\n",
      "\n",
      "<frozen importlib._bootstrap>:219: RuntimeWarning:\n",
      "\n",
      "numpy.ufunc size changed, may indicate binary incompatibility. Expected 192 from C header, got 216 from PyObject\n",
      "\n"
     ]
    }
   ],
   "source": [
    "import pandas as pd\n",
    "import numpy as np\n",
    "import matplotlib.pyplot as plt\n",
    "import seaborn as sns\n",
    "import plotly.express as px"
   ]
  },
  {
   "cell_type": "code",
   "execution_count": 117,
   "metadata": {},
   "outputs": [
    {
     "data": {
      "text/html": [
       "<div>\n",
       "<style scoped>\n",
       "    .dataframe tbody tr th:only-of-type {\n",
       "        vertical-align: middle;\n",
       "    }\n",
       "\n",
       "    .dataframe tbody tr th {\n",
       "        vertical-align: top;\n",
       "    }\n",
       "\n",
       "    .dataframe thead th {\n",
       "        text-align: right;\n",
       "    }\n",
       "</style>\n",
       "<table border=\"1\" class=\"dataframe\">\n",
       "  <thead>\n",
       "    <tr style=\"text-align: right;\">\n",
       "      <th></th>\n",
       "      <th>fecha</th>\n",
       "      <th>competencia</th>\n",
       "      <th>local</th>\n",
       "      <th>resultado</th>\n",
       "      <th>visitante</th>\n",
       "    </tr>\n",
       "  </thead>\n",
       "  <tbody>\n",
       "    <tr>\n",
       "      <th>0</th>\n",
       "      <td>16/04/04</td>\n",
       "      <td>LPA</td>\n",
       "      <td>Vélez Sarsfield</td>\n",
       "      <td>3 - 1</td>\n",
       "      <td>Estudiantes</td>\n",
       "    </tr>\n",
       "    <tr>\n",
       "      <th>1</th>\n",
       "      <td>24/04/04</td>\n",
       "      <td>LPA</td>\n",
       "      <td>Estudiantes</td>\n",
       "      <td>2 - 2</td>\n",
       "      <td>Boca Juniors</td>\n",
       "    </tr>\n",
       "    <tr>\n",
       "      <th>2</th>\n",
       "      <td>01/05/04</td>\n",
       "      <td>LPA</td>\n",
       "      <td>Chacarita Juniors</td>\n",
       "      <td>2 - 0</td>\n",
       "      <td>Estudiantes</td>\n",
       "    </tr>\n",
       "    <tr>\n",
       "      <th>3</th>\n",
       "      <td>07/05/04</td>\n",
       "      <td>LPA</td>\n",
       "      <td>Estudiantes</td>\n",
       "      <td>1 - 0</td>\n",
       "      <td>Racing Club</td>\n",
       "    </tr>\n",
       "    <tr>\n",
       "      <th>4</th>\n",
       "      <td>15/05/04</td>\n",
       "      <td>LPA</td>\n",
       "      <td>Lanús</td>\n",
       "      <td>0 - 2</td>\n",
       "      <td>Estudiantes</td>\n",
       "    </tr>\n",
       "    <tr>\n",
       "      <th>5</th>\n",
       "      <td>21/05/04</td>\n",
       "      <td>LPA</td>\n",
       "      <td>Estudiantes</td>\n",
       "      <td>2 - 1</td>\n",
       "      <td>Talleres de Córdoba</td>\n",
       "    </tr>\n",
       "    <tr>\n",
       "      <th>6</th>\n",
       "      <td>27/05/04</td>\n",
       "      <td>LPA</td>\n",
       "      <td>Atlético Rafaela</td>\n",
       "      <td>3 - 1</td>\n",
       "      <td>Estudiantes</td>\n",
       "    </tr>\n",
       "    <tr>\n",
       "      <th>7</th>\n",
       "      <td>12/06/04</td>\n",
       "      <td>LPA</td>\n",
       "      <td>Estudiantes</td>\n",
       "      <td>1 - 1</td>\n",
       "      <td>Nueva Chicago</td>\n",
       "    </tr>\n",
       "    <tr>\n",
       "      <th>8</th>\n",
       "      <td>18/06/04</td>\n",
       "      <td>LPA</td>\n",
       "      <td>Estudiantes</td>\n",
       "      <td>0 - 2</td>\n",
       "      <td>Banfield</td>\n",
       "    </tr>\n",
       "    <tr>\n",
       "      <th>9</th>\n",
       "      <td>25/06/04</td>\n",
       "      <td>LPA</td>\n",
       "      <td>Newell's Old Boys</td>\n",
       "      <td>0 - 0</td>\n",
       "      <td>Estudiantes</td>\n",
       "    </tr>\n",
       "    <tr>\n",
       "      <th>10</th>\n",
       "      <td>14/08/04</td>\n",
       "      <td>LPA</td>\n",
       "      <td>Estudiantes</td>\n",
       "      <td>1 - 1</td>\n",
       "      <td>Huracán Tres Arroyos</td>\n",
       "    </tr>\n",
       "    <tr>\n",
       "      <th>11</th>\n",
       "      <td>21/08/04</td>\n",
       "      <td>LPA</td>\n",
       "      <td>Colón</td>\n",
       "      <td>1 - 1</td>\n",
       "      <td>Estudiantes</td>\n",
       "    </tr>\n",
       "    <tr>\n",
       "      <th>12</th>\n",
       "      <td>24/08/04</td>\n",
       "      <td>LPA</td>\n",
       "      <td>Estudiantes</td>\n",
       "      <td>1 - 0</td>\n",
       "      <td>Banfield</td>\n",
       "    </tr>\n",
       "    <tr>\n",
       "      <th>13</th>\n",
       "      <td>28/08/04</td>\n",
       "      <td>LPA</td>\n",
       "      <td>Argentinos Juniors</td>\n",
       "      <td>0 - 1</td>\n",
       "      <td>Estudiantes</td>\n",
       "    </tr>\n",
       "    <tr>\n",
       "      <th>14</th>\n",
       "      <td>11/09/04</td>\n",
       "      <td>LPA</td>\n",
       "      <td>Estudiantes</td>\n",
       "      <td>3 - 1</td>\n",
       "      <td>Instituto</td>\n",
       "    </tr>\n",
       "    <tr>\n",
       "      <th>15</th>\n",
       "      <td>18/09/04</td>\n",
       "      <td>LPA</td>\n",
       "      <td>River Plate</td>\n",
       "      <td>1 - 1</td>\n",
       "      <td>Estudiantes</td>\n",
       "    </tr>\n",
       "    <tr>\n",
       "      <th>16</th>\n",
       "      <td>22/09/04</td>\n",
       "      <td>LPA</td>\n",
       "      <td>Racing Club</td>\n",
       "      <td>0 - 1</td>\n",
       "      <td>Estudiantes</td>\n",
       "    </tr>\n",
       "    <tr>\n",
       "      <th>17</th>\n",
       "      <td>25/09/04</td>\n",
       "      <td>LPA</td>\n",
       "      <td>Estudiantes</td>\n",
       "      <td>0 - 0</td>\n",
       "      <td>Arsenal</td>\n",
       "    </tr>\n",
       "    <tr>\n",
       "      <th>18</th>\n",
       "      <td>30/09/04</td>\n",
       "      <td>LPA</td>\n",
       "      <td>Newell's Old Boys</td>\n",
       "      <td>1 - 0</td>\n",
       "      <td>Estudiantes</td>\n",
       "    </tr>\n",
       "    <tr>\n",
       "      <th>19</th>\n",
       "      <td>15/10/04</td>\n",
       "      <td>LPA</td>\n",
       "      <td>Estudiantes</td>\n",
       "      <td>1 - 1</td>\n",
       "      <td>Quilmes</td>\n",
       "    </tr>\n",
       "    <tr>\n",
       "      <th>20</th>\n",
       "      <td>19/10/04</td>\n",
       "      <td>LPA</td>\n",
       "      <td>Almagro</td>\n",
       "      <td>0 - 1</td>\n",
       "      <td>Estudiantes</td>\n",
       "    </tr>\n",
       "    <tr>\n",
       "      <th>21</th>\n",
       "      <td>23/10/04</td>\n",
       "      <td>LPA</td>\n",
       "      <td>Estudiantes</td>\n",
       "      <td>5 - 0</td>\n",
       "      <td>Lanús</td>\n",
       "    </tr>\n",
       "    <tr>\n",
       "      <th>22</th>\n",
       "      <td>30/10/04</td>\n",
       "      <td>LPA</td>\n",
       "      <td>San Lorenzo</td>\n",
       "      <td>0 - 0</td>\n",
       "      <td>Estudiantes</td>\n",
       "    </tr>\n",
       "    <tr>\n",
       "      <th>23</th>\n",
       "      <td>06/11/04</td>\n",
       "      <td>LPA</td>\n",
       "      <td>Estudiantes</td>\n",
       "      <td>3 - 2</td>\n",
       "      <td>Olimpo</td>\n",
       "    </tr>\n",
       "    <tr>\n",
       "      <th>24</th>\n",
       "      <td>12/11/04</td>\n",
       "      <td>LPA</td>\n",
       "      <td>Boca Juniors</td>\n",
       "      <td>0 - 0</td>\n",
       "      <td>Estudiantes</td>\n",
       "    </tr>\n",
       "    <tr>\n",
       "      <th>25</th>\n",
       "      <td>20/11/04</td>\n",
       "      <td>LPA</td>\n",
       "      <td>Estudiantes</td>\n",
       "      <td>0 - 0</td>\n",
       "      <td>Gimnasia La Plata</td>\n",
       "    </tr>\n",
       "    <tr>\n",
       "      <th>26</th>\n",
       "      <td>25/11/04</td>\n",
       "      <td>LPA</td>\n",
       "      <td>Independiente</td>\n",
       "      <td>2 - 2</td>\n",
       "      <td>Estudiantes</td>\n",
       "    </tr>\n",
       "    <tr>\n",
       "      <th>27</th>\n",
       "      <td>04/12/04</td>\n",
       "      <td>LPA</td>\n",
       "      <td>Estudiantes</td>\n",
       "      <td>0 - 2</td>\n",
       "      <td>Vélez Sarsfield</td>\n",
       "    </tr>\n",
       "    <tr>\n",
       "      <th>28</th>\n",
       "      <td>10/12/04</td>\n",
       "      <td>LPA</td>\n",
       "      <td>Rosario Central</td>\n",
       "      <td>2 - 1</td>\n",
       "      <td>Estudiantes</td>\n",
       "    </tr>\n",
       "    <tr>\n",
       "      <th>29</th>\n",
       "      <td>12/02/05</td>\n",
       "      <td>LPA</td>\n",
       "      <td>Huracán Tres Arroyos</td>\n",
       "      <td>0 - 1</td>\n",
       "      <td>Estudiantes</td>\n",
       "    </tr>\n",
       "  </tbody>\n",
       "</table>\n",
       "</div>"
      ],
      "text/plain": [
       "       fecha competencia                 local resultado             visitante\n",
       "0   16/04/04         LPA       Vélez Sarsfield     3 - 1           Estudiantes\n",
       "1   24/04/04         LPA           Estudiantes     2 - 2          Boca Juniors\n",
       "2   01/05/04         LPA     Chacarita Juniors     2 - 0           Estudiantes\n",
       "3   07/05/04         LPA           Estudiantes     1 - 0           Racing Club\n",
       "4   15/05/04         LPA                 Lanús     0 - 2           Estudiantes\n",
       "5   21/05/04         LPA           Estudiantes     2 - 1   Talleres de Córdoba\n",
       "6   27/05/04         LPA      Atlético Rafaela     3 - 1           Estudiantes\n",
       "7   12/06/04         LPA           Estudiantes     1 - 1         Nueva Chicago\n",
       "8   18/06/04         LPA           Estudiantes     0 - 2              Banfield\n",
       "9   25/06/04         LPA     Newell's Old Boys     0 - 0           Estudiantes\n",
       "10  14/08/04         LPA           Estudiantes     1 - 1  Huracán Tres Arroyos\n",
       "11  21/08/04         LPA                 Colón     1 - 1           Estudiantes\n",
       "12  24/08/04         LPA           Estudiantes     1 - 0              Banfield\n",
       "13  28/08/04         LPA    Argentinos Juniors     0 - 1           Estudiantes\n",
       "14  11/09/04         LPA           Estudiantes     3 - 1             Instituto\n",
       "15  18/09/04         LPA           River Plate     1 - 1           Estudiantes\n",
       "16  22/09/04         LPA           Racing Club     0 - 1           Estudiantes\n",
       "17  25/09/04         LPA           Estudiantes     0 - 0               Arsenal\n",
       "18  30/09/04         LPA     Newell's Old Boys     1 - 0           Estudiantes\n",
       "19  15/10/04         LPA           Estudiantes     1 - 1               Quilmes\n",
       "20  19/10/04         LPA               Almagro     0 - 1           Estudiantes\n",
       "21  23/10/04         LPA           Estudiantes     5 - 0                 Lanús\n",
       "22  30/10/04         LPA           San Lorenzo     0 - 0           Estudiantes\n",
       "23  06/11/04         LPA           Estudiantes     3 - 2                Olimpo\n",
       "24  12/11/04         LPA          Boca Juniors     0 - 0           Estudiantes\n",
       "25  20/11/04         LPA           Estudiantes     0 - 0     Gimnasia La Plata\n",
       "26  25/11/04         LPA         Independiente     2 - 2           Estudiantes\n",
       "27  04/12/04         LPA           Estudiantes     0 - 2       Vélez Sarsfield\n",
       "28  10/12/04         LPA       Rosario Central     2 - 1           Estudiantes\n",
       "29  12/02/05         LPA  Huracán Tres Arroyos     0 - 1           Estudiantes"
      ]
     },
     "execution_count": 117,
     "metadata": {},
     "output_type": "execute_result"
    }
   ],
   "source": [
    "resultados = pd.read_csv('/Users/lucaspecina/Desktop/resultados estudiantes - Sheet1.csv')\n",
    "resultados.head(30)"
   ]
  },
  {
   "cell_type": "code",
   "execution_count": 118,
   "metadata": {},
   "outputs": [
    {
     "name": "stdout",
     "output_type": "stream",
     "text": [
      "<class 'pandas.core.frame.DataFrame'>\n",
      "RangeIndex: 734 entries, 0 to 733\n",
      "Data columns (total 5 columns):\n",
      " #   Column       Non-Null Count  Dtype \n",
      "---  ------       --------------  ----- \n",
      " 0   fecha        734 non-null    object\n",
      " 1   competencia  734 non-null    object\n",
      " 2   local        734 non-null    object\n",
      " 3   resultado    734 non-null    object\n",
      " 4   visitante    734 non-null    object\n",
      "dtypes: object(5)\n",
      "memory usage: 28.8+ KB\n"
     ]
    }
   ],
   "source": [
    "resultados.info()"
   ]
  },
  {
   "cell_type": "code",
   "execution_count": 119,
   "metadata": {},
   "outputs": [],
   "source": [
    "# ARMAR COLUMNA DE GANADO / EMPATADO / PERDIDO (0,1,3)\n",
    "'''\n",
    "1. splitear el resultado\n",
    "2. ver si estudiantes esta en local o visitante\n",
    "3. comparar los resultados'''\n",
    "\n",
    "resultados = resultados[resultados.resultado!='CANC.']\n",
    "\n",
    "resultados[['goles_local','goles_visitante']] = resultados.resultado.str.split(' - ',expand=True)\n",
    "\n",
    "resultados = resultados[(resultados.goles_local.apply(lambda x: x.isnumeric())) & (resultados.goles_visitante.apply(lambda x: x.isnumeric()))]\n",
    "\n",
    "resultados.loc[:,'goles_local'] = resultados.loc[:,'goles_local'].astype('float')\n",
    "resultados.loc[:,'goles_visitante'] = resultados.loc[:,'goles_visitante'].astype('float')"
   ]
  },
  {
   "cell_type": "code",
   "execution_count": 120,
   "metadata": {
    "scrolled": false
   },
   "outputs": [
    {
     "data": {
      "text/html": [
       "<div>\n",
       "<style scoped>\n",
       "    .dataframe tbody tr th:only-of-type {\n",
       "        vertical-align: middle;\n",
       "    }\n",
       "\n",
       "    .dataframe tbody tr th {\n",
       "        vertical-align: top;\n",
       "    }\n",
       "\n",
       "    .dataframe thead th {\n",
       "        text-align: right;\n",
       "    }\n",
       "</style>\n",
       "<table border=\"1\" class=\"dataframe\">\n",
       "  <thead>\n",
       "    <tr style=\"text-align: right;\">\n",
       "      <th></th>\n",
       "      <th>fecha</th>\n",
       "      <th>competencia</th>\n",
       "      <th>local</th>\n",
       "      <th>resultado</th>\n",
       "      <th>visitante</th>\n",
       "      <th>goles_local</th>\n",
       "      <th>goles_visitante</th>\n",
       "      <th>puntos</th>\n",
       "      <th>puntos_acum</th>\n",
       "      <th>puntos_2</th>\n",
       "      <th>puntos_2_acum</th>\n",
       "    </tr>\n",
       "  </thead>\n",
       "  <tbody>\n",
       "    <tr>\n",
       "      <th>0</th>\n",
       "      <td>2004-04-16</td>\n",
       "      <td>LPA</td>\n",
       "      <td>Vélez Sarsfield</td>\n",
       "      <td>3 - 1</td>\n",
       "      <td>Estudiantes</td>\n",
       "      <td>3.0</td>\n",
       "      <td>1.0</td>\n",
       "      <td>0</td>\n",
       "      <td>0</td>\n",
       "      <td>-1</td>\n",
       "      <td>-1</td>\n",
       "    </tr>\n",
       "    <tr>\n",
       "      <th>1</th>\n",
       "      <td>2004-04-24</td>\n",
       "      <td>LPA</td>\n",
       "      <td>Estudiantes</td>\n",
       "      <td>2 - 2</td>\n",
       "      <td>Boca Juniors</td>\n",
       "      <td>2.0</td>\n",
       "      <td>2.0</td>\n",
       "      <td>1</td>\n",
       "      <td>1</td>\n",
       "      <td>0</td>\n",
       "      <td>-1</td>\n",
       "    </tr>\n",
       "    <tr>\n",
       "      <th>2</th>\n",
       "      <td>2004-05-01</td>\n",
       "      <td>LPA</td>\n",
       "      <td>Chacarita Juniors</td>\n",
       "      <td>2 - 0</td>\n",
       "      <td>Estudiantes</td>\n",
       "      <td>2.0</td>\n",
       "      <td>0.0</td>\n",
       "      <td>0</td>\n",
       "      <td>1</td>\n",
       "      <td>-1</td>\n",
       "      <td>-2</td>\n",
       "    </tr>\n",
       "    <tr>\n",
       "      <th>3</th>\n",
       "      <td>2004-05-07</td>\n",
       "      <td>LPA</td>\n",
       "      <td>Estudiantes</td>\n",
       "      <td>1 - 0</td>\n",
       "      <td>Racing Club</td>\n",
       "      <td>1.0</td>\n",
       "      <td>0.0</td>\n",
       "      <td>3</td>\n",
       "      <td>4</td>\n",
       "      <td>2</td>\n",
       "      <td>0</td>\n",
       "    </tr>\n",
       "    <tr>\n",
       "      <th>4</th>\n",
       "      <td>2004-05-15</td>\n",
       "      <td>LPA</td>\n",
       "      <td>Lanús</td>\n",
       "      <td>0 - 2</td>\n",
       "      <td>Estudiantes</td>\n",
       "      <td>0.0</td>\n",
       "      <td>2.0</td>\n",
       "      <td>3</td>\n",
       "      <td>7</td>\n",
       "      <td>2</td>\n",
       "      <td>2</td>\n",
       "    </tr>\n",
       "    <tr>\n",
       "      <th>...</th>\n",
       "      <td>...</td>\n",
       "      <td>...</td>\n",
       "      <td>...</td>\n",
       "      <td>...</td>\n",
       "      <td>...</td>\n",
       "      <td>...</td>\n",
       "      <td>...</td>\n",
       "      <td>...</td>\n",
       "      <td>...</td>\n",
       "      <td>...</td>\n",
       "      <td>...</td>\n",
       "    </tr>\n",
       "    <tr>\n",
       "      <th>729</th>\n",
       "      <td>2020-03-01</td>\n",
       "      <td>LPA</td>\n",
       "      <td>Lanús</td>\n",
       "      <td>1 - 1</td>\n",
       "      <td>Estudiantes</td>\n",
       "      <td>1.0</td>\n",
       "      <td>1.0</td>\n",
       "      <td>1</td>\n",
       "      <td>1165</td>\n",
       "      <td>0</td>\n",
       "      <td>450</td>\n",
       "    </tr>\n",
       "    <tr>\n",
       "      <th>730</th>\n",
       "      <td>2020-03-09</td>\n",
       "      <td>LPA</td>\n",
       "      <td>Estudiantes</td>\n",
       "      <td>1 - 2</td>\n",
       "      <td>Racing Club</td>\n",
       "      <td>1.0</td>\n",
       "      <td>2.0</td>\n",
       "      <td>0</td>\n",
       "      <td>1165</td>\n",
       "      <td>-1</td>\n",
       "      <td>449</td>\n",
       "    </tr>\n",
       "    <tr>\n",
       "      <th>731</th>\n",
       "      <td>2020-10-21</td>\n",
       "      <td>AMI</td>\n",
       "      <td>Estudiantes</td>\n",
       "      <td>3 - 1</td>\n",
       "      <td>Estudiantes Río Cuarto</td>\n",
       "      <td>3.0</td>\n",
       "      <td>1.0</td>\n",
       "      <td>3</td>\n",
       "      <td>1168</td>\n",
       "      <td>2</td>\n",
       "      <td>451</td>\n",
       "    </tr>\n",
       "    <tr>\n",
       "      <th>732</th>\n",
       "      <td>2020-10-31</td>\n",
       "      <td>LPA</td>\n",
       "      <td>Aldosivi</td>\n",
       "      <td>0 - 0</td>\n",
       "      <td>Estudiantes</td>\n",
       "      <td>0.0</td>\n",
       "      <td>0.0</td>\n",
       "      <td>1</td>\n",
       "      <td>1169</td>\n",
       "      <td>0</td>\n",
       "      <td>451</td>\n",
       "    </tr>\n",
       "    <tr>\n",
       "      <th>733</th>\n",
       "      <td>2020-11-07</td>\n",
       "      <td>LPA</td>\n",
       "      <td>San Lorenzo</td>\n",
       "      <td>2 - 0</td>\n",
       "      <td>Estudiantes</td>\n",
       "      <td>2.0</td>\n",
       "      <td>0.0</td>\n",
       "      <td>0</td>\n",
       "      <td>1169</td>\n",
       "      <td>-1</td>\n",
       "      <td>450</td>\n",
       "    </tr>\n",
       "  </tbody>\n",
       "</table>\n",
       "<p>719 rows × 11 columns</p>\n",
       "</div>"
      ],
      "text/plain": [
       "         fecha competencia              local resultado  \\\n",
       "0   2004-04-16         LPA    Vélez Sarsfield     3 - 1   \n",
       "1   2004-04-24         LPA        Estudiantes     2 - 2   \n",
       "2   2004-05-01         LPA  Chacarita Juniors     2 - 0   \n",
       "3   2004-05-07         LPA        Estudiantes     1 - 0   \n",
       "4   2004-05-15         LPA              Lanús     0 - 2   \n",
       "..         ...         ...                ...       ...   \n",
       "729 2020-03-01         LPA              Lanús     1 - 1   \n",
       "730 2020-03-09         LPA        Estudiantes     1 - 2   \n",
       "731 2020-10-21         AMI        Estudiantes     3 - 1   \n",
       "732 2020-10-31         LPA           Aldosivi     0 - 0   \n",
       "733 2020-11-07         LPA        San Lorenzo     2 - 0   \n",
       "\n",
       "                  visitante  goles_local  goles_visitante  puntos  \\\n",
       "0               Estudiantes          3.0              1.0       0   \n",
       "1              Boca Juniors          2.0              2.0       1   \n",
       "2               Estudiantes          2.0              0.0       0   \n",
       "3               Racing Club          1.0              0.0       3   \n",
       "4               Estudiantes          0.0              2.0       3   \n",
       "..                      ...          ...              ...     ...   \n",
       "729             Estudiantes          1.0              1.0       1   \n",
       "730             Racing Club          1.0              2.0       0   \n",
       "731  Estudiantes Río Cuarto          3.0              1.0       3   \n",
       "732             Estudiantes          0.0              0.0       1   \n",
       "733             Estudiantes          2.0              0.0       0   \n",
       "\n",
       "     puntos_acum  puntos_2  puntos_2_acum  \n",
       "0              0        -1             -1  \n",
       "1              1         0             -1  \n",
       "2              1        -1             -2  \n",
       "3              4         2              0  \n",
       "4              7         2              2  \n",
       "..           ...       ...            ...  \n",
       "729         1165         0            450  \n",
       "730         1165        -1            449  \n",
       "731         1168         2            451  \n",
       "732         1169         0            451  \n",
       "733         1169        -1            450  \n",
       "\n",
       "[719 rows x 11 columns]"
      ]
     },
     "execution_count": 120,
     "metadata": {},
     "output_type": "execute_result"
    }
   ],
   "source": [
    "def puntos_sumados(x):\n",
    "    if (x.local=='Estudiantes'):\n",
    "        if (x.goles_local>x.goles_visitante):\n",
    "            return 3\n",
    "        elif (x.goles_local<x.goles_visitante):\n",
    "            return 0\n",
    "        else:\n",
    "            return 1\n",
    "        \n",
    "    elif (x.visitante=='Estudiantes'):\n",
    "        if (x.goles_local>x.goles_visitante):\n",
    "            return 0\n",
    "        elif (x.goles_local<x.goles_visitante):\n",
    "            return 3\n",
    "        else:\n",
    "            return 1\n",
    "\n",
    "resultados['puntos'] = resultados.apply( lambda x: puntos_sumados(x) ,axis='columns')\n",
    "\n",
    "resultados['puntos_acum'] = resultados.puntos.cumsum()\n",
    "\n",
    "resultados['puntos_2'] = np.where(resultados.puntos==3.0,2,np.where(resultados.puntos==1,0,-1))\n",
    "\n",
    "resultados['puntos_2_acum'] = resultados.puntos_2.cumsum()\n",
    "\n",
    "resultados['fecha'] = pd.to_datetime(resultados.fecha, format='%d/%m/%y')\n",
    "\n",
    "resultados"
   ]
  },
  {
   "cell_type": "code",
   "execution_count": null,
   "metadata": {},
   "outputs": [],
   "source": []
  },
  {
   "cell_type": "code",
   "execution_count": 121,
   "metadata": {},
   "outputs": [],
   "source": [
    "# https://www.livefutbol.com/equipos/estudiantes/9/\n",
    "resultados['tecnico'] = 'vacio'\n",
    "\n",
    "resultados.loc[resultados.fecha < '2004-06-25', 'tecnico'] = 'Bilardo'\n",
    "\n",
    "resultados.loc[(resultados.fecha > '2004-07-01') & \\\n",
    "               (resultados.fecha < '2005-07-05'), 'tecnico'] = 'Merlo'\n",
    "\n",
    "resultados.loc[(resultados.fecha > '2005-07-06') & \\\n",
    "               (resultados.fecha < '2006-06-30'), 'tecnico'] = 'Burruchaga'\n",
    "\n",
    "resultados.loc[(resultados.fecha > '2006-05-18') & \\\n",
    "               (resultados.fecha < '2007-12-08'), 'tecnico'] = 'Simeone'\n",
    "\n",
    "resultados.loc[(resultados.fecha > '2008-01-01') & \\\n",
    "               (resultados.fecha < '2008-09-17'), 'tecnico'] = 'Sensini'\n",
    "\n",
    "resultados.loc[(resultados.fecha > '2008-09-20') & \\\n",
    "               (resultados.fecha < '2009-03-08'), 'tecnico'] = 'Astrada'\n",
    "\n",
    "resultados.loc[(resultados.fecha > '2009-03-15') & \\\n",
    "               (resultados.fecha < '2011-02-03'), 'tecnico'] = 'Sabella'\n",
    "\n",
    "resultados.loc[(resultados.fecha > '2011-02-07') & \\\n",
    "               (resultados.fecha < '2011-05-30'), 'tecnico'] = 'Berizzo'\n",
    "\n",
    "resultados.loc[(resultados.fecha > '2011-06-22') & \\\n",
    "               (resultados.fecha < '2011-11-08'), 'tecnico'] = 'Russo'\n",
    "\n",
    "resultados.loc[(resultados.fecha > '2011-11-08') & \\\n",
    "               (resultados.fecha < '2012-04-27'), 'tecnico'] = 'Azconzabal'\n",
    "\n",
    "resultados.loc[(resultados.fecha > '2012-07-01') & \\\n",
    "               (resultados.fecha < '2013-03-13'), 'tecnico'] = 'Cagna'\n",
    "\n",
    "resultados.loc[(resultados.fecha > '2013-04-05') & \\\n",
    "               (resultados.fecha < '2015-04-15'), 'tecnico'] = 'Pellegrino'\n",
    "\n",
    "resultados.loc[(resultados.fecha > '2015-04-16') & \\\n",
    "               (resultados.fecha < '2015-12-07'), 'tecnico'] = 'Milito'\n",
    "\n",
    "resultados.loc[(resultados.fecha > '2016-01-01') & \\\n",
    "               (resultados.fecha < '2017-06-05'), 'tecnico'] = 'Vivas'\n",
    "\n",
    "resultados.loc[(resultados.fecha > '2017-06-05') & \\\n",
    "               (resultados.fecha < '2017-06-30'), 'tecnico'] = 'Benitez'\n",
    "\n",
    "resultados.loc[(resultados.fecha > '2017-07-01') & \\\n",
    "               (resultados.fecha < '2017-09-19'), 'tecnico'] = 'Matosas'\n",
    "\n",
    "resultados.loc[(resultados.fecha > '2017-09-26') & \\\n",
    "               (resultados.fecha < '2018-05-08'), 'tecnico'] = 'Bernardi'\n",
    "\n",
    "resultados.loc[(resultados.fecha > '2018-05-09') & \\\n",
    "               (resultados.fecha < '2019-02-25'), 'tecnico'] = 'Benitez2'\n",
    "\n",
    "resultados.loc[(resultados.fecha > '2019-03-12') & \\\n",
    "               (resultados.fecha < '2020-03-04'), 'tecnico'] = 'Milito2'\n",
    "\n",
    "resultados.loc[(resultados.fecha > '2020-03-07') & \\\n",
    "               (resultados.fecha < '2020-12-31'), 'tecnico'] = 'Desabato'\n"
   ]
  },
  {
   "cell_type": "code",
   "execution_count": 130,
   "metadata": {},
   "outputs": [
    {
     "data": {
      "text/html": [
       "<div>\n",
       "<style scoped>\n",
       "    .dataframe tbody tr th:only-of-type {\n",
       "        vertical-align: middle;\n",
       "    }\n",
       "\n",
       "    .dataframe tbody tr th {\n",
       "        vertical-align: top;\n",
       "    }\n",
       "\n",
       "    .dataframe thead th {\n",
       "        text-align: right;\n",
       "    }\n",
       "</style>\n",
       "<table border=\"1\" class=\"dataframe\">\n",
       "  <thead>\n",
       "    <tr style=\"text-align: right;\">\n",
       "      <th></th>\n",
       "      <th>fecha</th>\n",
       "      <th>competencia</th>\n",
       "      <th>local</th>\n",
       "      <th>resultado</th>\n",
       "      <th>visitante</th>\n",
       "      <th>goles_local</th>\n",
       "      <th>goles_visitante</th>\n",
       "      <th>puntos</th>\n",
       "      <th>puntos_acum</th>\n",
       "      <th>puntos_2</th>\n",
       "      <th>puntos_2_acum</th>\n",
       "      <th>tecnico</th>\n",
       "    </tr>\n",
       "  </thead>\n",
       "  <tbody>\n",
       "    <tr>\n",
       "      <th>724</th>\n",
       "      <td>2020-01-25</td>\n",
       "      <td>LPA</td>\n",
       "      <td>San Lorenzo</td>\n",
       "      <td>1 - 1</td>\n",
       "      <td>Estudiantes</td>\n",
       "      <td>1.0</td>\n",
       "      <td>1.0</td>\n",
       "      <td>1</td>\n",
       "      <td>1160</td>\n",
       "      <td>0</td>\n",
       "      <td>450</td>\n",
       "      <td>Milito2</td>\n",
       "    </tr>\n",
       "    <tr>\n",
       "      <th>725</th>\n",
       "      <td>2020-02-01</td>\n",
       "      <td>LPA</td>\n",
       "      <td>Estudiantes</td>\n",
       "      <td>3 - 1</td>\n",
       "      <td>Unión</td>\n",
       "      <td>3.0</td>\n",
       "      <td>1.0</td>\n",
       "      <td>3</td>\n",
       "      <td>1163</td>\n",
       "      <td>2</td>\n",
       "      <td>452</td>\n",
       "      <td>Milito2</td>\n",
       "    </tr>\n",
       "    <tr>\n",
       "      <th>726</th>\n",
       "      <td>2020-02-08</td>\n",
       "      <td>LPA</td>\n",
       "      <td>Newell's Old Boys</td>\n",
       "      <td>0 - 0</td>\n",
       "      <td>Estudiantes</td>\n",
       "      <td>0.0</td>\n",
       "      <td>0.0</td>\n",
       "      <td>1</td>\n",
       "      <td>1164</td>\n",
       "      <td>0</td>\n",
       "      <td>452</td>\n",
       "      <td>Milito2</td>\n",
       "    </tr>\n",
       "    <tr>\n",
       "      <th>727</th>\n",
       "      <td>2020-02-17</td>\n",
       "      <td>LPA</td>\n",
       "      <td>Estudiantes</td>\n",
       "      <td>1 - 2</td>\n",
       "      <td>Defensa y Justicia</td>\n",
       "      <td>1.0</td>\n",
       "      <td>2.0</td>\n",
       "      <td>0</td>\n",
       "      <td>1164</td>\n",
       "      <td>-1</td>\n",
       "      <td>451</td>\n",
       "      <td>Milito2</td>\n",
       "    </tr>\n",
       "    <tr>\n",
       "      <th>728</th>\n",
       "      <td>2020-02-23</td>\n",
       "      <td>LPA</td>\n",
       "      <td>Estudiantes</td>\n",
       "      <td>0 - 2</td>\n",
       "      <td>River Plate</td>\n",
       "      <td>0.0</td>\n",
       "      <td>2.0</td>\n",
       "      <td>0</td>\n",
       "      <td>1164</td>\n",
       "      <td>-1</td>\n",
       "      <td>450</td>\n",
       "      <td>Milito2</td>\n",
       "    </tr>\n",
       "    <tr>\n",
       "      <th>729</th>\n",
       "      <td>2020-03-01</td>\n",
       "      <td>LPA</td>\n",
       "      <td>Lanús</td>\n",
       "      <td>1 - 1</td>\n",
       "      <td>Estudiantes</td>\n",
       "      <td>1.0</td>\n",
       "      <td>1.0</td>\n",
       "      <td>1</td>\n",
       "      <td>1165</td>\n",
       "      <td>0</td>\n",
       "      <td>450</td>\n",
       "      <td>Milito2</td>\n",
       "    </tr>\n",
       "    <tr>\n",
       "      <th>730</th>\n",
       "      <td>2020-03-09</td>\n",
       "      <td>LPA</td>\n",
       "      <td>Estudiantes</td>\n",
       "      <td>1 - 2</td>\n",
       "      <td>Racing Club</td>\n",
       "      <td>1.0</td>\n",
       "      <td>2.0</td>\n",
       "      <td>0</td>\n",
       "      <td>1165</td>\n",
       "      <td>-1</td>\n",
       "      <td>449</td>\n",
       "      <td>Desabato</td>\n",
       "    </tr>\n",
       "    <tr>\n",
       "      <th>731</th>\n",
       "      <td>2020-10-21</td>\n",
       "      <td>AMI</td>\n",
       "      <td>Estudiantes</td>\n",
       "      <td>3 - 1</td>\n",
       "      <td>Estudiantes Río Cuarto</td>\n",
       "      <td>3.0</td>\n",
       "      <td>1.0</td>\n",
       "      <td>3</td>\n",
       "      <td>1168</td>\n",
       "      <td>2</td>\n",
       "      <td>451</td>\n",
       "      <td>Desabato</td>\n",
       "    </tr>\n",
       "    <tr>\n",
       "      <th>732</th>\n",
       "      <td>2020-10-31</td>\n",
       "      <td>LPA</td>\n",
       "      <td>Aldosivi</td>\n",
       "      <td>0 - 0</td>\n",
       "      <td>Estudiantes</td>\n",
       "      <td>0.0</td>\n",
       "      <td>0.0</td>\n",
       "      <td>1</td>\n",
       "      <td>1169</td>\n",
       "      <td>0</td>\n",
       "      <td>451</td>\n",
       "      <td>Desabato</td>\n",
       "    </tr>\n",
       "    <tr>\n",
       "      <th>733</th>\n",
       "      <td>2020-11-07</td>\n",
       "      <td>LPA</td>\n",
       "      <td>San Lorenzo</td>\n",
       "      <td>2 - 0</td>\n",
       "      <td>Estudiantes</td>\n",
       "      <td>2.0</td>\n",
       "      <td>0.0</td>\n",
       "      <td>0</td>\n",
       "      <td>1169</td>\n",
       "      <td>-1</td>\n",
       "      <td>450</td>\n",
       "      <td>Desabato</td>\n",
       "    </tr>\n",
       "  </tbody>\n",
       "</table>\n",
       "</div>"
      ],
      "text/plain": [
       "         fecha competencia              local resultado  \\\n",
       "724 2020-01-25         LPA        San Lorenzo     1 - 1   \n",
       "725 2020-02-01         LPA        Estudiantes     3 - 1   \n",
       "726 2020-02-08         LPA  Newell's Old Boys     0 - 0   \n",
       "727 2020-02-17         LPA        Estudiantes     1 - 2   \n",
       "728 2020-02-23         LPA        Estudiantes     0 - 2   \n",
       "729 2020-03-01         LPA              Lanús     1 - 1   \n",
       "730 2020-03-09         LPA        Estudiantes     1 - 2   \n",
       "731 2020-10-21         AMI        Estudiantes     3 - 1   \n",
       "732 2020-10-31         LPA           Aldosivi     0 - 0   \n",
       "733 2020-11-07         LPA        San Lorenzo     2 - 0   \n",
       "\n",
       "                  visitante  goles_local  goles_visitante  puntos  \\\n",
       "724             Estudiantes          1.0              1.0       1   \n",
       "725                   Unión          3.0              1.0       3   \n",
       "726             Estudiantes          0.0              0.0       1   \n",
       "727      Defensa y Justicia          1.0              2.0       0   \n",
       "728             River Plate          0.0              2.0       0   \n",
       "729             Estudiantes          1.0              1.0       1   \n",
       "730             Racing Club          1.0              2.0       0   \n",
       "731  Estudiantes Río Cuarto          3.0              1.0       3   \n",
       "732             Estudiantes          0.0              0.0       1   \n",
       "733             Estudiantes          2.0              0.0       0   \n",
       "\n",
       "     puntos_acum  puntos_2  puntos_2_acum   tecnico  \n",
       "724         1160         0            450   Milito2  \n",
       "725         1163         2            452   Milito2  \n",
       "726         1164         0            452   Milito2  \n",
       "727         1164        -1            451   Milito2  \n",
       "728         1164        -1            450   Milito2  \n",
       "729         1165         0            450   Milito2  \n",
       "730         1165        -1            449  Desabato  \n",
       "731         1168         2            451  Desabato  \n",
       "732         1169         0            451  Desabato  \n",
       "733         1169        -1            450  Desabato  "
      ]
     },
     "execution_count": 130,
     "metadata": {},
     "output_type": "execute_result"
    }
   ],
   "source": [
    "resultados.tail(10)"
   ]
  },
  {
   "cell_type": "code",
   "execution_count": 123,
   "metadata": {},
   "outputs": [
    {
     "data": {
      "application/vnd.plotly.v1+json": {
       "config": {
        "plotlyServerURL": "https://plotly.com"
       },
       "data": [
        {
         "hovertemplate": "tecnico=Bilardo<br>fecha=%{x}<br>puntos_2_acum=%{y}<extra></extra>",
         "legendgroup": "Bilardo",
         "line": {
          "color": "#636efa",
          "dash": "solid"
         },
         "mode": "lines",
         "name": "Bilardo",
         "orientation": "v",
         "showlegend": true,
         "type": "scatter",
         "x": [
          "2004-04-16T00:00:00",
          "2004-04-24T00:00:00",
          "2004-05-01T00:00:00",
          "2004-05-07T00:00:00",
          "2004-05-15T00:00:00",
          "2004-05-21T00:00:00",
          "2004-05-27T00:00:00",
          "2004-06-12T00:00:00",
          "2004-06-18T00:00:00"
         ],
         "xaxis": "x",
         "y": [
          -1,
          -1,
          -2,
          0,
          2,
          4,
          3,
          3,
          2
         ],
         "yaxis": "y"
        },
        {
         "hovertemplate": "tecnico=vacio<br>fecha=%{x}<br>puntos_2_acum=%{y}<extra></extra>",
         "legendgroup": "vacio",
         "line": {
          "color": "#EF553B",
          "dash": "solid"
         },
         "mode": "lines",
         "name": "vacio",
         "orientation": "v",
         "showlegend": true,
         "type": "scatter",
         "x": [
          "2004-06-25T00:00:00",
          "2008-09-17T00:00:00",
          "2008-09-20T00:00:00",
          "2009-03-10T00:00:00",
          "2009-03-14T00:00:00",
          "2011-06-02T00:00:00",
          "2011-06-06T00:00:00",
          "2011-06-12T00:00:00",
          "2011-06-19T00:00:00",
          "2012-04-27T00:00:00",
          "2012-05-06T00:00:00",
          "2012-05-11T00:00:00",
          "2012-05-19T00:00:00",
          "2012-05-28T00:00:00",
          "2012-06-10T00:00:00",
          "2012-06-16T00:00:00",
          "2012-06-24T00:00:00",
          "2013-03-17T00:00:00",
          "2013-03-30T00:00:00",
          "2017-09-19T00:00:00",
          "2017-09-25T00:00:00",
          "2019-03-03T00:00:00",
          "2019-03-10T00:00:00"
         ],
         "xaxis": "x",
         "y": [
          2,
          128,
          127,
          143,
          142,
          253,
          253,
          253,
          252,
          263,
          262,
          264,
          266,
          266,
          265,
          267,
          267,
          272,
          271,
          413,
          412,
          434,
          436
         ],
         "yaxis": "y"
        },
        {
         "hovertemplate": "tecnico=Merlo<br>fecha=%{x}<br>puntos_2_acum=%{y}<extra></extra>",
         "legendgroup": "Merlo",
         "line": {
          "color": "#00cc96",
          "dash": "solid"
         },
         "mode": "lines",
         "name": "Merlo",
         "orientation": "v",
         "showlegend": true,
         "type": "scatter",
         "x": [
          "2004-08-14T00:00:00",
          "2004-08-21T00:00:00",
          "2004-08-24T00:00:00",
          "2004-08-28T00:00:00",
          "2004-09-11T00:00:00",
          "2004-09-18T00:00:00",
          "2004-09-22T00:00:00",
          "2004-09-25T00:00:00",
          "2004-09-30T00:00:00",
          "2004-10-15T00:00:00",
          "2004-10-19T00:00:00",
          "2004-10-23T00:00:00",
          "2004-10-30T00:00:00",
          "2004-11-06T00:00:00",
          "2004-11-12T00:00:00",
          "2004-11-20T00:00:00",
          "2004-11-25T00:00:00",
          "2004-12-04T00:00:00",
          "2004-12-10T00:00:00",
          "2005-02-12T00:00:00",
          "2005-02-19T00:00:00",
          "2005-02-26T00:00:00",
          "2005-03-05T00:00:00",
          "2005-03-12T00:00:00",
          "2005-03-19T00:00:00",
          "2005-04-02T00:00:00",
          "2005-04-07T00:00:00",
          "2005-04-16T00:00:00",
          "2005-04-22T00:00:00",
          "2005-04-29T00:00:00",
          "2005-05-07T00:00:00",
          "2005-05-12T00:00:00",
          "2005-05-21T00:00:00",
          "2005-05-28T00:00:00",
          "2005-06-11T00:00:00",
          "2005-06-17T00:00:00",
          "2005-06-25T00:00:00",
          "2005-07-02T00:00:00"
         ],
         "xaxis": "x",
         "y": [
          2,
          2,
          4,
          6,
          8,
          8,
          10,
          10,
          9,
          9,
          11,
          13,
          13,
          15,
          15,
          15,
          15,
          14,
          13,
          15,
          17,
          17,
          16,
          18,
          20,
          20,
          20,
          22,
          24,
          26,
          26,
          25,
          27,
          27,
          26,
          26,
          25,
          25
         ],
         "yaxis": "y"
        },
        {
         "hovertemplate": "tecnico=Burruchaga<br>fecha=%{x}<br>puntos_2_acum=%{y}<extra></extra>",
         "legendgroup": "Burruchaga",
         "line": {
          "color": "#ab63fa",
          "dash": "solid"
         },
         "mode": "lines",
         "name": "Burruchaga",
         "orientation": "v",
         "showlegend": true,
         "type": "scatter",
         "x": [
          "2005-08-09T00:00:00",
          "2005-08-13T00:00:00",
          "2005-08-18T00:00:00",
          "2005-08-24T00:00:00",
          "2005-08-27T00:00:00",
          "2005-09-01T00:00:00",
          "2005-09-05T00:00:00",
          "2005-09-08T00:00:00",
          "2005-09-16T00:00:00",
          "2005-09-24T00:00:00",
          "2005-09-29T00:00:00",
          "2005-10-03T00:00:00",
          "2005-10-15T00:00:00",
          "2005-10-20T00:00:00",
          "2005-11-05T00:00:00",
          "2005-11-11T00:00:00",
          "2005-11-15T00:00:00",
          "2005-11-19T00:00:00",
          "2005-11-26T00:00:00",
          "2005-12-02T00:00:00",
          "2005-12-09T00:00:00",
          "2006-01-26T00:00:00",
          "2006-01-30T00:00:00",
          "2006-02-02T00:00:00",
          "2006-02-06T00:00:00",
          "2006-02-11T00:00:00",
          "2006-02-16T00:00:00",
          "2006-02-20T00:00:00",
          "2006-02-24T00:00:00",
          "2006-02-28T00:00:00",
          "2006-03-04T00:00:00",
          "2006-03-08T00:00:00",
          "2006-03-11T00:00:00",
          "2006-03-16T00:00:00",
          "2006-03-20T00:00:00",
          "2006-03-25T00:00:00",
          "2006-03-28T00:00:00",
          "2006-03-31T00:00:00",
          "2006-04-03T00:00:00",
          "2006-04-07T00:00:00",
          "2006-04-12T00:00:00",
          "2006-04-15T00:00:00",
          "2006-04-21T00:00:00",
          "2006-04-24T00:00:00",
          "2006-04-29T00:00:00",
          "2006-05-03T00:00:00",
          "2006-05-06T00:00:00",
          "2006-05-09T00:00:00",
          "2006-05-13T00:00:00"
         ],
         "xaxis": "x",
         "y": [
          24,
          23,
          22,
          24,
          26,
          26,
          25,
          27,
          29,
          31,
          30,
          32,
          31,
          33,
          35,
          37,
          37,
          36,
          35,
          35,
          35,
          37,
          39,
          39,
          38,
          38,
          40,
          42,
          41,
          40,
          39,
          38,
          40,
          39,
          41,
          40,
          42,
          42,
          42,
          41,
          43,
          45,
          45,
          47,
          46,
          45,
          45,
          47,
          47
         ],
         "yaxis": "y"
        },
        {
         "hovertemplate": "tecnico=Simeone<br>fecha=%{x}<br>puntos_2_acum=%{y}<extra></extra>",
         "legendgroup": "Simeone",
         "line": {
          "color": "#FFA15A",
          "dash": "solid"
         },
         "mode": "lines",
         "name": "Simeone",
         "orientation": "v",
         "showlegend": true,
         "type": "scatter",
         "x": [
          "2006-08-05T00:00:00",
          "2006-08-12T00:00:00",
          "2006-08-19T00:00:00",
          "2006-08-26T00:00:00",
          "2006-09-02T00:00:00",
          "2006-09-07T00:00:00",
          "2006-09-16T00:00:00",
          "2006-09-21T00:00:00",
          "2006-09-29T00:00:00",
          "2006-10-06T00:00:00",
          "2006-10-14T00:00:00",
          "2006-10-21T00:00:00",
          "2006-10-27T00:00:00",
          "2006-11-03T00:00:00",
          "2006-11-10T00:00:00",
          "2006-11-17T00:00:00",
          "2006-11-24T00:00:00",
          "2006-12-02T00:00:00",
          "2006-12-09T00:00:00",
          "2006-12-12T00:00:00",
          "2007-02-11T00:00:00",
          "2007-02-16T00:00:00",
          "2007-02-22T00:00:00",
          "2007-03-02T00:00:00",
          "2007-03-09T00:00:00",
          "2007-03-15T00:00:00",
          "2007-03-24T00:00:00",
          "2007-03-31T00:00:00",
          "2007-04-06T00:00:00",
          "2007-04-14T00:00:00",
          "2007-04-21T00:00:00",
          "2007-04-26T00:00:00",
          "2007-05-03T00:00:00",
          "2007-05-11T00:00:00",
          "2007-05-19T00:00:00",
          "2007-05-25T00:00:00",
          "2007-06-03T00:00:00",
          "2007-06-09T00:00:00",
          "2007-06-17T00:00:00",
          "2007-08-03T00:00:00",
          "2007-08-08T00:00:00",
          "2007-08-12T00:00:00",
          "2007-08-19T00:00:00",
          "2007-08-25T00:00:00",
          "2007-08-29T00:00:00",
          "2007-09-02T00:00:00",
          "2007-09-05T00:00:00",
          "2007-09-09T00:00:00",
          "2007-09-12T00:00:00",
          "2007-09-15T00:00:00",
          "2007-09-23T00:00:00",
          "2007-09-28T00:00:00",
          "2007-10-03T00:00:00",
          "2007-10-07T00:00:00",
          "2007-10-21T00:00:00",
          "2007-11-04T00:00:00",
          "2007-11-11T00:00:00",
          "2007-11-25T00:00:00",
          "2007-11-30T00:00:00",
          "2007-12-07T00:00:00"
         ],
         "xaxis": "x",
         "y": [
          49,
          51,
          53,
          52,
          51,
          51,
          50,
          52,
          54,
          56,
          58,
          60,
          62,
          64,
          66,
          68,
          70,
          70,
          72,
          74,
          76,
          76,
          76,
          78,
          77,
          79,
          81,
          81,
          83,
          83,
          85,
          87,
          89,
          89,
          91,
          91,
          90,
          92,
          92,
          94,
          93,
          95,
          94,
          94,
          93,
          92,
          94,
          96,
          95,
          95,
          94,
          94,
          94,
          96,
          96,
          98,
          100,
          100,
          102,
          104
         ],
         "yaxis": "y"
        },
        {
         "hovertemplate": "tecnico=Sensini<br>fecha=%{x}<br>puntos_2_acum=%{y}<extra></extra>",
         "legendgroup": "Sensini",
         "line": {
          "color": "#19d3f3",
          "dash": "solid"
         },
         "mode": "lines",
         "name": "Sensini",
         "orientation": "v",
         "showlegend": true,
         "type": "scatter",
         "x": [
          "2008-02-08T00:00:00",
          "2008-02-12T00:00:00",
          "2008-02-16T00:00:00",
          "2008-02-22T00:00:00",
          "2008-02-26T00:00:00",
          "2008-03-01T00:00:00",
          "2008-03-05T00:00:00",
          "2008-03-09T00:00:00",
          "2008-03-14T00:00:00",
          "2008-03-18T00:00:00",
          "2008-03-22T00:00:00",
          "2008-03-29T00:00:00",
          "2008-04-02T00:00:00",
          "2008-04-05T00:00:00",
          "2008-04-11T00:00:00",
          "2008-04-15T00:00:00",
          "2008-04-20T00:00:00",
          "2008-04-25T00:00:00",
          "2008-04-29T00:00:00",
          "2008-05-03T00:00:00",
          "2008-05-06T00:00:00",
          "2008-05-11T00:00:00",
          "2008-05-17T00:00:00",
          "2008-05-25T00:00:00",
          "2008-06-01T00:00:00",
          "2008-06-08T00:00:00",
          "2008-06-22T00:00:00",
          "2008-08-05T00:00:00",
          "2008-08-09T00:00:00",
          "2008-08-15T00:00:00",
          "2008-08-24T00:00:00",
          "2008-08-31T00:00:00",
          "2008-09-14T00:00:00"
         ],
         "xaxis": "x",
         "y": [
          106,
          105,
          107,
          109,
          109,
          108,
          110,
          110,
          112,
          114,
          116,
          118,
          118,
          118,
          120,
          122,
          122,
          124,
          123,
          122,
          124,
          126,
          128,
          128,
          128,
          128,
          130,
          129,
          128,
          128,
          127,
          129,
          128
         ],
         "yaxis": "y"
        },
        {
         "hovertemplate": "tecnico=Astrada<br>fecha=%{x}<br>puntos_2_acum=%{y}<extra></extra>",
         "legendgroup": "Astrada",
         "line": {
          "color": "#FF6692",
          "dash": "solid"
         },
         "mode": "lines",
         "name": "Astrada",
         "orientation": "v",
         "showlegend": true,
         "type": "scatter",
         "x": [
          "2008-09-23T00:00:00",
          "2008-09-28T00:00:00",
          "2008-10-02T00:00:00",
          "2008-10-05T00:00:00",
          "2008-10-17T00:00:00",
          "2008-10-21T00:00:00",
          "2008-10-25T00:00:00",
          "2008-10-28T00:00:00",
          "2008-11-01T00:00:00",
          "2008-11-05T00:00:00",
          "2008-11-08T00:00:00",
          "2008-11-13T00:00:00",
          "2008-11-16T00:00:00",
          "2008-11-20T00:00:00",
          "2008-11-23T00:00:00",
          "2008-11-26T00:00:00",
          "2008-12-03T00:00:00",
          "2008-12-07T00:00:00",
          "2008-12-10T00:00:00",
          "2008-12-13T00:00:00",
          "2009-01-29T00:00:00",
          "2009-02-04T00:00:00",
          "2009-02-07T00:00:00",
          "2009-02-14T00:00:00",
          "2009-02-19T00:00:00",
          "2009-02-22T00:00:00",
          "2009-02-26T00:00:00",
          "2009-03-01T00:00:00",
          "2009-03-06T00:00:00"
         ],
         "xaxis": "x",
         "y": [
          129,
          131,
          131,
          133,
          135,
          137,
          137,
          139,
          138,
          138,
          140,
          140,
          139,
          141,
          143,
          142,
          142,
          144,
          143,
          143,
          142,
          144,
          144,
          143,
          142,
          144,
          146,
          145,
          144
         ],
         "yaxis": "y"
        },
        {
         "hovertemplate": "tecnico=Sabella<br>fecha=%{x}<br>puntos_2_acum=%{y}<extra></extra>",
         "legendgroup": "Sabella",
         "line": {
          "color": "#B6E880",
          "dash": "solid"
         },
         "mode": "lines",
         "name": "Sabella",
         "orientation": "v",
         "showlegend": true,
         "type": "scatter",
         "x": [
          "2009-03-19T00:00:00",
          "2009-03-22T00:00:00",
          "2009-04-05T00:00:00",
          "2009-04-08T00:00:00",
          "2009-04-12T00:00:00",
          "2009-04-17T00:00:00",
          "2009-04-22T00:00:00",
          "2009-04-25T00:00:00",
          "2009-05-02T00:00:00",
          "2009-05-07T00:00:00",
          "2009-05-10T00:00:00",
          "2009-05-14T00:00:00",
          "2009-05-17T00:00:00",
          "2009-05-23T00:00:00",
          "2009-05-28T00:00:00",
          "2009-05-31T00:00:00",
          "2009-06-13T00:00:00",
          "2009-06-18T00:00:00",
          "2009-06-21T00:00:00",
          "2009-06-25T00:00:00",
          "2009-07-01T00:00:00",
          "2009-07-04T00:00:00",
          "2009-07-08T00:00:00",
          "2009-07-15T00:00:00",
          "2009-08-22T00:00:00",
          "2009-08-29T00:00:00",
          "2009-09-02T00:00:00",
          "2009-09-13T00:00:00",
          "2009-09-18T00:00:00",
          "2009-09-26T00:00:00",
          "2009-10-03T00:00:00",
          "2009-10-09T00:00:00",
          "2009-10-18T00:00:00",
          "2009-10-23T00:00:00",
          "2009-10-27T00:00:00",
          "2009-11-02T00:00:00",
          "2009-11-08T00:00:00",
          "2009-11-11T00:00:00",
          "2009-11-16T00:00:00",
          "2009-11-20T00:00:00",
          "2009-11-25T00:00:00",
          "2009-11-28T00:00:00",
          "2009-12-03T00:00:00",
          "2009-12-15T00:00:00",
          "2010-01-29T00:00:00",
          "2010-02-03T00:00:00",
          "2010-02-07T00:00:00",
          "2010-02-11T00:00:00",
          "2010-02-14T00:00:00",
          "2010-02-18T00:00:00",
          "2010-02-22T00:00:00",
          "2010-02-26T00:00:00",
          "2010-03-03T00:00:00",
          "2010-03-06T00:00:00",
          "2010-03-09T00:00:00",
          "2010-03-13T00:00:00",
          "2010-03-19T00:00:00",
          "2010-03-23T00:00:00",
          "2010-03-26T00:00:00",
          "2010-03-30T00:00:00",
          "2010-04-04T00:00:00",
          "2010-04-08T00:00:00",
          "2010-04-12T00:00:00",
          "2010-04-17T00:00:00",
          "2010-04-20T00:00:00",
          "2010-04-24T00:00:00",
          "2010-04-27T00:00:00",
          "2010-05-02T00:00:00",
          "2010-05-05T00:00:00",
          "2010-05-09T00:00:00",
          "2010-05-13T00:00:00",
          "2010-05-16T00:00:00",
          "2010-05-20T00:00:00",
          "2010-08-07T00:00:00",
          "2010-08-15T00:00:00",
          "2010-08-20T00:00:00",
          "2010-08-25T00:00:00",
          "2010-09-03T00:00:00",
          "2010-09-08T00:00:00",
          "2010-09-11T00:00:00",
          "2010-09-16T00:00:00",
          "2010-09-19T00:00:00",
          "2010-09-22T00:00:00",
          "2010-09-25T00:00:00",
          "2010-09-29T00:00:00",
          "2010-10-03T00:00:00",
          "2010-10-08T00:00:00",
          "2010-10-16T00:00:00",
          "2010-10-22T00:00:00",
          "2010-11-05T00:00:00",
          "2010-11-13T00:00:00",
          "2010-11-20T00:00:00",
          "2010-11-28T00:00:00",
          "2010-12-04T00:00:00",
          "2010-12-08T00:00:00",
          "2010-12-12T00:00:00"
         ],
         "xaxis": "x",
         "y": [
          144,
          144,
          144,
          146,
          148,
          148,
          148,
          150,
          152,
          154,
          154,
          154,
          156,
          158,
          160,
          159,
          161,
          163,
          162,
          164,
          166,
          168,
          168,
          170,
          172,
          174,
          174,
          176,
          178,
          180,
          179,
          179,
          178,
          180,
          182,
          181,
          183,
          182,
          181,
          183,
          182,
          182,
          182,
          184,
          186,
          185,
          187,
          189,
          188,
          187,
          189,
          189,
          188,
          188,
          188,
          190,
          192,
          194,
          196,
          198,
          198,
          200,
          202,
          204,
          206,
          208,
          210,
          212,
          214,
          214,
          213,
          215,
          217,
          219,
          221,
          221,
          220,
          222,
          222,
          224,
          223,
          222,
          222,
          224,
          226,
          228,
          230,
          230,
          230,
          232,
          231,
          233,
          235,
          237,
          239,
          241
         ],
         "yaxis": "y"
        },
        {
         "hovertemplate": "tecnico=Berizzo<br>fecha=%{x}<br>puntos_2_acum=%{y}<extra></extra>",
         "legendgroup": "Berizzo",
         "line": {
          "color": "#FF97FF",
          "dash": "solid"
         },
         "mode": "lines",
         "name": "Berizzo",
         "orientation": "v",
         "showlegend": true,
         "type": "scatter",
         "x": [
          "2011-02-11T00:00:00",
          "2011-02-16T00:00:00",
          "2011-02-20T00:00:00",
          "2011-02-23T00:00:00",
          "2011-02-27T00:00:00",
          "2011-03-05T00:00:00",
          "2011-03-09T00:00:00",
          "2011-03-13T00:00:00",
          "2011-03-17T00:00:00",
          "2011-03-20T00:00:00",
          "2011-03-25T00:00:00",
          "2011-03-30T00:00:00",
          "2011-04-03T00:00:00",
          "2011-04-08T00:00:00",
          "2011-04-13T00:00:00",
          "2011-04-17T00:00:00",
          "2011-04-23T00:00:00",
          "2011-04-27T00:00:00",
          "2011-04-30T00:00:00",
          "2011-05-08T00:00:00",
          "2011-05-15T00:00:00",
          "2011-05-29T00:00:00"
         ],
         "xaxis": "x",
         "y": [
          245,
          244,
          246,
          248,
          247,
          249,
          251,
          250,
          252,
          254,
          256,
          256,
          255,
          255,
          254,
          254,
          253,
          253,
          252,
          252,
          252,
          251
         ],
         "yaxis": "y"
        },
        {
         "hovertemplate": "tecnico=Russo<br>fecha=%{x}<br>puntos_2_acum=%{y}<extra></extra>",
         "legendgroup": "Russo",
         "line": {
          "color": "#FECB52",
          "dash": "solid"
         },
         "mode": "lines",
         "name": "Russo",
         "orientation": "v",
         "showlegend": true,
         "type": "scatter",
         "x": [
          "2011-08-07T00:00:00",
          "2011-08-15T00:00:00",
          "2011-08-20T00:00:00",
          "2011-08-26T00:00:00",
          "2011-08-30T00:00:00",
          "2011-09-03T00:00:00",
          "2011-09-06T00:00:00",
          "2011-09-10T00:00:00",
          "2011-09-18T00:00:00",
          "2011-09-22T00:00:00",
          "2011-09-25T00:00:00",
          "2011-10-02T00:00:00",
          "2011-10-16T00:00:00",
          "2011-10-25T00:00:00",
          "2011-10-31T00:00:00",
          "2011-11-05T00:00:00"
         ],
         "xaxis": "x",
         "y": [
          252,
          251,
          250,
          250,
          249,
          248,
          250,
          249,
          251,
          250,
          249,
          249,
          251,
          250,
          250,
          249
         ],
         "yaxis": "y"
        },
        {
         "hovertemplate": "tecnico=Azconzabal<br>fecha=%{x}<br>puntos_2_acum=%{y}<extra></extra>",
         "legendgroup": "Azconzabal",
         "line": {
          "color": "#636efa",
          "dash": "solid"
         },
         "mode": "lines",
         "name": "Azconzabal",
         "orientation": "v",
         "showlegend": true,
         "type": "scatter",
         "x": [
          "2011-11-24T00:00:00",
          "2011-11-27T00:00:00",
          "2011-12-02T00:00:00",
          "2011-12-06T00:00:00",
          "2011-12-11T00:00:00",
          "2012-02-04T00:00:00",
          "2012-02-11T00:00:00",
          "2012-02-19T00:00:00",
          "2012-02-25T00:00:00",
          "2012-03-03T00:00:00",
          "2012-03-09T00:00:00",
          "2012-03-17T00:00:00",
          "2012-03-25T00:00:00",
          "2012-04-01T00:00:00",
          "2012-04-08T00:00:00",
          "2012-04-13T00:00:00",
          "2012-04-21T00:00:00"
         ],
         "xaxis": "x",
         "y": [
          251,
          253,
          255,
          255,
          257,
          259,
          259,
          259,
          261,
          263,
          265,
          265,
          267,
          266,
          265,
          265,
          264
         ],
         "yaxis": "y"
        },
        {
         "hovertemplate": "tecnico=Cagna<br>fecha=%{x}<br>puntos_2_acum=%{y}<extra></extra>",
         "legendgroup": "Cagna",
         "line": {
          "color": "#EF553B",
          "dash": "solid"
         },
         "mode": "lines",
         "name": "Cagna",
         "orientation": "v",
         "showlegend": true,
         "type": "scatter",
         "x": [
          "2012-08-06T00:00:00",
          "2012-08-11T00:00:00",
          "2012-08-18T00:00:00",
          "2012-08-27T00:00:00",
          "2012-09-01T00:00:00",
          "2012-09-08T00:00:00",
          "2012-09-15T00:00:00",
          "2012-09-24T00:00:00",
          "2012-09-29T00:00:00",
          "2012-10-06T00:00:00",
          "2012-10-21T00:00:00",
          "2012-10-27T00:00:00",
          "2012-11-03T00:00:00",
          "2012-11-10T00:00:00",
          "2012-11-13T00:00:00",
          "2012-11-17T00:00:00",
          "2012-11-25T00:00:00",
          "2012-12-03T00:00:00",
          "2012-12-08T00:00:00",
          "2013-02-09T00:00:00",
          "2013-02-17T00:00:00",
          "2013-02-22T00:00:00",
          "2013-03-02T00:00:00",
          "2013-03-09T00:00:00"
         ],
         "xaxis": "x",
         "y": [
          269,
          268,
          270,
          269,
          268,
          268,
          270,
          272,
          271,
          273,
          273,
          272,
          272,
          274,
          273,
          275,
          275,
          277,
          276,
          274,
          273,
          273,
          273,
          272
         ],
         "yaxis": "y"
        },
        {
         "hovertemplate": "tecnico=Pellegrino<br>fecha=%{x}<br>puntos_2_acum=%{y}<extra></extra>",
         "legendgroup": "Pellegrino",
         "line": {
          "color": "#00cc96",
          "dash": "solid"
         },
         "mode": "lines",
         "name": "Pellegrino",
         "orientation": "v",
         "showlegend": true,
         "type": "scatter",
         "x": [
          "2013-04-08T00:00:00",
          "2013-04-14T00:00:00",
          "2013-04-20T00:00:00",
          "2013-04-27T00:00:00",
          "2013-05-02T00:00:00",
          "2013-05-06T00:00:00",
          "2013-05-13T00:00:00",
          "2013-05-18T00:00:00",
          "2013-05-27T00:00:00",
          "2013-06-01T00:00:00",
          "2013-06-15T00:00:00",
          "2013-06-19T00:00:00",
          "2013-06-22T00:00:00",
          "2013-07-23T00:00:00",
          "2013-08-02T00:00:00",
          "2013-08-07T00:00:00",
          "2013-08-14T00:00:00",
          "2013-08-19T00:00:00",
          "2013-08-25T00:00:00",
          "2013-08-31T00:00:00",
          "2013-09-07T00:00:00",
          "2013-09-15T00:00:00",
          "2013-09-22T00:00:00",
          "2013-09-27T00:00:00",
          "2013-10-05T00:00:00",
          "2013-10-13T00:00:00",
          "2013-10-18T00:00:00",
          "2013-10-28T00:00:00",
          "2013-11-03T00:00:00",
          "2013-11-09T00:00:00",
          "2013-11-16T00:00:00",
          "2013-11-25T00:00:00",
          "2013-12-01T00:00:00",
          "2013-12-08T00:00:00",
          "2014-02-07T00:00:00",
          "2014-02-15T00:00:00",
          "2014-02-19T00:00:00",
          "2014-02-23T00:00:00",
          "2014-03-02T00:00:00",
          "2014-03-05T00:00:00",
          "2014-03-08T00:00:00",
          "2014-03-16T00:00:00",
          "2014-03-22T00:00:00",
          "2014-03-28T00:00:00",
          "2014-04-01T00:00:00",
          "2014-04-07T00:00:00",
          "2014-04-12T00:00:00",
          "2014-04-16T00:00:00",
          "2014-04-19T00:00:00",
          "2014-04-27T00:00:00",
          "2014-05-03T00:00:00",
          "2014-05-10T00:00:00",
          "2014-05-18T00:00:00",
          "2014-07-19T00:00:00",
          "2014-07-26T00:00:00",
          "2014-08-11T00:00:00",
          "2014-08-16T00:00:00",
          "2014-08-24T00:00:00",
          "2014-08-27T00:00:00",
          "2014-08-30T00:00:00",
          "2014-09-03T00:00:00",
          "2014-09-06T00:00:00",
          "2014-09-13T00:00:00",
          "2014-09-16T00:00:00",
          "2014-09-20T00:00:00",
          "2014-09-26T00:00:00",
          "2014-10-01T00:00:00",
          "2014-10-05T00:00:00",
          "2014-10-11T00:00:00",
          "2014-10-14T00:00:00",
          "2014-10-18T00:00:00",
          "2014-10-26T00:00:00",
          "2014-10-29T00:00:00",
          "2014-11-06T00:00:00",
          "2014-11-09T00:00:00",
          "2014-11-12T00:00:00",
          "2014-11-16T00:00:00",
          "2014-11-23T00:00:00",
          "2014-11-29T00:00:00",
          "2014-12-05T00:00:00",
          "2015-02-05T00:00:00",
          "2015-02-12T00:00:00",
          "2015-02-16T00:00:00",
          "2015-02-21T00:00:00",
          "2015-02-25T00:00:00",
          "2015-03-01T00:00:00",
          "2015-03-05T00:00:00",
          "2015-03-09T00:00:00",
          "2015-03-12T00:00:00",
          "2015-03-15T00:00:00",
          "2015-03-18T00:00:00",
          "2015-03-22T00:00:00",
          "2015-03-29T00:00:00",
          "2015-04-03T00:00:00",
          "2015-04-09T00:00:00",
          "2015-04-13T00:00:00"
         ],
         "xaxis": "x",
         "y": [
          270,
          270,
          269,
          271,
          273,
          273,
          275,
          277,
          277,
          277,
          276,
          278,
          278,
          280,
          282,
          284,
          283,
          283,
          285,
          285,
          285,
          284,
          284,
          284,
          284,
          286,
          285,
          287,
          289,
          289,
          288,
          290,
          290,
          289,
          291,
          293,
          295,
          294,
          294,
          294,
          294,
          296,
          296,
          296,
          296,
          298,
          300,
          300,
          300,
          299,
          301,
          303,
          302,
          304,
          303,
          302,
          304,
          303,
          305,
          304,
          304,
          306,
          305,
          307,
          307,
          309,
          311,
          313,
          312,
          314,
          314,
          316,
          315,
          314,
          316,
          318,
          318,
          318,
          317,
          319,
          317,
          319,
          321,
          323,
          325,
          327,
          327,
          326,
          325,
          325,
          327,
          326,
          325,
          325,
          324,
          323
         ],
         "yaxis": "y"
        },
        {
         "hovertemplate": "tecnico=Milito<br>fecha=%{x}<br>puntos_2_acum=%{y}<extra></extra>",
         "legendgroup": "Milito",
         "line": {
          "color": "#ab63fa",
          "dash": "solid"
         },
         "mode": "lines",
         "name": "Milito",
         "orientation": "v",
         "showlegend": true,
         "type": "scatter",
         "x": [
          "2015-04-17T00:00:00",
          "2015-04-21T00:00:00",
          "2015-05-02T00:00:00",
          "2015-05-05T00:00:00",
          "2015-05-08T00:00:00",
          "2015-05-12T00:00:00",
          "2015-05-23T00:00:00",
          "2015-05-31T00:00:00",
          "2015-06-04T00:00:00",
          "2015-06-08T00:00:00",
          "2015-07-10T00:00:00",
          "2015-07-20T00:00:00",
          "2015-07-26T00:00:00",
          "2015-08-01T00:00:00",
          "2015-08-15T00:00:00",
          "2015-08-23T00:00:00",
          "2015-08-30T00:00:00",
          "2015-09-07T00:00:00",
          "2015-09-13T00:00:00",
          "2015-09-19T00:00:00",
          "2015-09-23T00:00:00",
          "2015-09-28T00:00:00",
          "2015-10-03T00:00:00",
          "2015-10-17T00:00:00",
          "2015-10-31T00:00:00",
          "2015-11-07T00:00:00",
          "2015-11-20T00:00:00",
          "2015-11-28T00:00:00",
          "2015-12-05T00:00:00"
         ],
         "xaxis": "x",
         "y": [
          323,
          325,
          325,
          327,
          329,
          328,
          330,
          330,
          332,
          334,
          334,
          336,
          335,
          337,
          337,
          339,
          339,
          341,
          341,
          343,
          342,
          341,
          343,
          345,
          344,
          346,
          345,
          347,
          349
         ],
         "yaxis": "y"
        },
        {
         "hovertemplate": "tecnico=Vivas<br>fecha=%{x}<br>puntos_2_acum=%{y}<extra></extra>",
         "legendgroup": "Vivas",
         "line": {
          "color": "#FFA15A",
          "dash": "solid"
         },
         "mode": "lines",
         "name": "Vivas",
         "orientation": "v",
         "showlegend": true,
         "type": "scatter",
         "x": [
          "2016-01-14T00:00:00",
          "2016-01-27T00:00:00",
          "2016-01-31T00:00:00",
          "2016-02-08T00:00:00",
          "2016-02-13T00:00:00",
          "2016-02-18T00:00:00",
          "2016-02-23T00:00:00",
          "2016-02-27T00:00:00",
          "2016-03-05T00:00:00",
          "2016-03-13T00:00:00",
          "2016-03-18T00:00:00",
          "2016-04-01T00:00:00",
          "2016-04-11T00:00:00",
          "2016-04-17T00:00:00",
          "2016-04-23T00:00:00",
          "2016-04-29T00:00:00",
          "2016-05-07T00:00:00",
          "2016-05-15T00:00:00",
          "2016-05-22T00:00:00",
          "2016-05-28T00:00:00",
          "2016-07-16T00:00:00",
          "2016-08-13T00:00:00",
          "2016-08-24T00:00:00",
          "2016-08-28T00:00:00",
          "2016-09-11T00:00:00",
          "2016-09-15T00:00:00",
          "2016-09-18T00:00:00",
          "2016-09-25T00:00:00",
          "2016-10-02T00:00:00",
          "2016-10-15T00:00:00",
          "2016-10-23T00:00:00",
          "2016-10-29T00:00:00",
          "2016-11-05T00:00:00",
          "2016-11-19T00:00:00",
          "2016-11-26T00:00:00",
          "2016-12-04T00:00:00",
          "2016-12-11T00:00:00",
          "2016-12-17T00:00:00",
          "2017-01-15T00:00:00",
          "2017-01-21T00:00:00",
          "2017-01-27T00:00:00",
          "2017-03-09T00:00:00",
          "2017-03-14T00:00:00",
          "2017-03-19T00:00:00",
          "2017-03-25T00:00:00",
          "2017-04-02T00:00:00",
          "2017-04-07T00:00:00",
          "2017-04-11T00:00:00",
          "2017-04-15T00:00:00",
          "2017-04-19T00:00:00",
          "2017-04-23T00:00:00",
          "2017-04-28T00:00:00",
          "2017-05-02T00:00:00",
          "2017-05-06T00:00:00",
          "2017-05-13T00:00:00",
          "2017-05-18T00:00:00",
          "2017-05-22T00:00:00",
          "2017-05-25T00:00:00",
          "2017-05-29T00:00:00",
          "2017-06-03T00:00:00"
         ],
         "xaxis": "x",
         "y": [
          351,
          353,
          355,
          354,
          356,
          356,
          358,
          360,
          359,
          361,
          363,
          365,
          367,
          369,
          369,
          369,
          369,
          371,
          371,
          373,
          375,
          377,
          379,
          381,
          383,
          382,
          384,
          386,
          386,
          388,
          390,
          392,
          392,
          394,
          393,
          393,
          392,
          391,
          393,
          392,
          391,
          392,
          391,
          393,
          393,
          395,
          397,
          396,
          396,
          398,
          398,
          398,
          397,
          397,
          399,
          401,
          400,
          402,
          404,
          403
         ],
         "yaxis": "y"
        },
        {
         "hovertemplate": "tecnico=Benitez<br>fecha=%{x}<br>puntos_2_acum=%{y}<extra></extra>",
         "legendgroup": "Benitez",
         "line": {
          "color": "#19d3f3",
          "dash": "solid"
         },
         "mode": "lines",
         "name": "Benitez",
         "orientation": "v",
         "showlegend": true,
         "type": "scatter",
         "x": [
          "2017-06-11T00:00:00",
          "2017-06-17T00:00:00",
          "2017-06-22T00:00:00",
          "2017-06-27T00:00:00"
         ],
         "xaxis": "x",
         "y": [
          402,
          404,
          406,
          408
         ],
         "yaxis": "y"
        },
        {
         "hovertemplate": "tecnico=Matosas<br>fecha=%{x}<br>puntos_2_acum=%{y}<extra></extra>",
         "legendgroup": "Matosas",
         "line": {
          "color": "#FF6692",
          "dash": "solid"
         },
         "mode": "lines",
         "name": "Matosas",
         "orientation": "v",
         "showlegend": true,
         "type": "scatter",
         "x": [
          "2017-07-13T00:00:00",
          "2017-08-03T00:00:00",
          "2017-08-23T00:00:00",
          "2017-08-28T00:00:00",
          "2017-09-09T00:00:00",
          "2017-09-15T00:00:00"
         ],
         "xaxis": "x",
         "y": [
          410,
          412,
          413,
          415,
          414,
          414
         ],
         "yaxis": "y"
        },
        {
         "hovertemplate": "tecnico=Bernardi<br>fecha=%{x}<br>puntos_2_acum=%{y}<extra></extra>",
         "legendgroup": "Bernardi",
         "line": {
          "color": "#B6E880",
          "dash": "solid"
         },
         "mode": "lines",
         "name": "Bernardi",
         "orientation": "v",
         "showlegend": true,
         "type": "scatter",
         "x": [
          "2017-09-30T00:00:00",
          "2017-10-14T00:00:00",
          "2017-10-28T00:00:00",
          "2017-11-05T00:00:00",
          "2017-11-19T00:00:00",
          "2017-11-26T00:00:00",
          "2017-12-03T00:00:00",
          "2017-12-10T00:00:00",
          "2018-01-29T00:00:00",
          "2018-02-04T00:00:00",
          "2018-02-10T00:00:00",
          "2018-02-16T00:00:00",
          "2018-02-23T00:00:00",
          "2018-02-28T00:00:00",
          "2018-03-05T00:00:00",
          "2018-03-11T00:00:00",
          "2018-03-14T00:00:00",
          "2018-03-18T00:00:00",
          "2018-03-31T00:00:00",
          "2018-04-05T00:00:00",
          "2018-04-09T00:00:00",
          "2018-04-15T00:00:00",
          "2018-04-20T00:00:00",
          "2018-04-24T00:00:00",
          "2018-05-01T00:00:00",
          "2018-05-06T00:00:00"
         ],
         "xaxis": "x",
         "y": [
          414,
          414,
          413,
          415,
          414,
          416,
          418,
          417,
          421,
          423,
          423,
          425,
          424,
          424,
          426,
          426,
          428,
          427,
          427,
          426,
          425,
          427,
          426,
          425,
          425,
          424
         ],
         "yaxis": "y"
        },
        {
         "hovertemplate": "tecnico=Benitez2<br>fecha=%{x}<br>puntos_2_acum=%{y}<extra></extra>",
         "legendgroup": "Benitez2",
         "line": {
          "color": "#FF97FF",
          "dash": "solid"
         },
         "mode": "lines",
         "name": "Benitez2",
         "orientation": "v",
         "showlegend": true,
         "type": "scatter",
         "x": [
          "2018-05-11T00:00:00",
          "2018-05-14T00:00:00",
          "2018-05-24T00:00:00",
          "2018-07-24T00:00:00",
          "2018-08-07T00:00:00",
          "2018-08-12T00:00:00",
          "2018-08-20T00:00:00",
          "2018-08-24T00:00:00",
          "2018-09-02T00:00:00",
          "2018-09-14T00:00:00",
          "2018-10-03T00:00:00",
          "2018-10-08T00:00:00",
          "2018-10-21T00:00:00",
          "2018-10-24T00:00:00",
          "2018-10-28T00:00:00",
          "2018-11-03T00:00:00",
          "2018-11-10T00:00:00",
          "2018-11-18T00:00:00",
          "2018-11-23T00:00:00",
          "2018-12-01T00:00:00",
          "2018-12-08T00:00:00",
          "2019-01-28T00:00:00",
          "2019-02-04T00:00:00",
          "2019-02-09T00:00:00",
          "2019-02-18T00:00:00",
          "2019-02-24T00:00:00"
         ],
         "xaxis": "x",
         "y": [
          423,
          423,
          425,
          431,
          433,
          432,
          434,
          433,
          433,
          432,
          431,
          430,
          430,
          432,
          434,
          436,
          436,
          436,
          435,
          435,
          435,
          436,
          435,
          437,
          436,
          435
         ],
         "yaxis": "y"
        },
        {
         "hovertemplate": "tecnico=Milito2<br>fecha=%{x}<br>puntos_2_acum=%{y}<extra></extra>",
         "legendgroup": "Milito2",
         "line": {
          "color": "#FECB52",
          "dash": "solid"
         },
         "mode": "lines",
         "name": "Milito2",
         "orientation": "v",
         "showlegend": true,
         "type": "scatter",
         "x": [
          "2019-03-18T00:00:00",
          "2019-04-01T00:00:00",
          "2019-04-06T00:00:00",
          "2019-04-14T00:00:00",
          "2019-04-19T00:00:00",
          "2019-04-27T00:00:00",
          "2019-05-04T00:00:00",
          "2019-05-22T00:00:00",
          "2019-07-20T00:00:00",
          "2019-07-28T00:00:00",
          "2019-08-04T00:00:00",
          "2019-08-19T00:00:00",
          "2019-08-25T00:00:00",
          "2019-08-30T00:00:00",
          "2019-09-15T00:00:00",
          "2019-09-21T00:00:00",
          "2019-09-28T00:00:00",
          "2019-10-05T00:00:00",
          "2019-10-16T00:00:00",
          "2019-10-21T00:00:00",
          "2019-10-29T00:00:00",
          "2019-11-02T00:00:00",
          "2019-11-08T00:00:00",
          "2019-11-25T00:00:00",
          "2019-11-30T00:00:00",
          "2019-12-09T00:00:00",
          "2020-01-25T00:00:00",
          "2020-02-01T00:00:00",
          "2020-02-08T00:00:00",
          "2020-02-17T00:00:00",
          "2020-02-23T00:00:00",
          "2020-03-01T00:00:00"
         ],
         "xaxis": "x",
         "y": [
          438,
          438,
          438,
          437,
          439,
          439,
          439,
          441,
          443,
          445,
          444,
          446,
          445,
          444,
          443,
          445,
          444,
          444,
          443,
          445,
          447,
          449,
          451,
          450,
          450,
          450,
          450,
          452,
          452,
          451,
          450,
          450
         ],
         "yaxis": "y"
        },
        {
         "hovertemplate": "tecnico=Desabato<br>fecha=%{x}<br>puntos_2_acum=%{y}<extra></extra>",
         "legendgroup": "Desabato",
         "line": {
          "color": "#636efa",
          "dash": "solid"
         },
         "mode": "lines",
         "name": "Desabato",
         "orientation": "v",
         "showlegend": true,
         "type": "scatter",
         "x": [
          "2020-03-09T00:00:00",
          "2020-10-31T00:00:00",
          "2020-11-07T00:00:00"
         ],
         "xaxis": "x",
         "y": [
          449,
          451,
          450
         ],
         "yaxis": "y"
        }
       ],
       "layout": {
        "legend": {
         "title": {
          "text": "tecnico"
         },
         "tracegroupgap": 0
        },
        "margin": {
         "t": 60
        },
        "template": {
         "data": {
          "bar": [
           {
            "error_x": {
             "color": "#2a3f5f"
            },
            "error_y": {
             "color": "#2a3f5f"
            },
            "marker": {
             "line": {
              "color": "#E5ECF6",
              "width": 0.5
             }
            },
            "type": "bar"
           }
          ],
          "barpolar": [
           {
            "marker": {
             "line": {
              "color": "#E5ECF6",
              "width": 0.5
             }
            },
            "type": "barpolar"
           }
          ],
          "carpet": [
           {
            "aaxis": {
             "endlinecolor": "#2a3f5f",
             "gridcolor": "white",
             "linecolor": "white",
             "minorgridcolor": "white",
             "startlinecolor": "#2a3f5f"
            },
            "baxis": {
             "endlinecolor": "#2a3f5f",
             "gridcolor": "white",
             "linecolor": "white",
             "minorgridcolor": "white",
             "startlinecolor": "#2a3f5f"
            },
            "type": "carpet"
           }
          ],
          "choropleth": [
           {
            "colorbar": {
             "outlinewidth": 0,
             "ticks": ""
            },
            "type": "choropleth"
           }
          ],
          "contour": [
           {
            "colorbar": {
             "outlinewidth": 0,
             "ticks": ""
            },
            "colorscale": [
             [
              0,
              "#0d0887"
             ],
             [
              0.1111111111111111,
              "#46039f"
             ],
             [
              0.2222222222222222,
              "#7201a8"
             ],
             [
              0.3333333333333333,
              "#9c179e"
             ],
             [
              0.4444444444444444,
              "#bd3786"
             ],
             [
              0.5555555555555556,
              "#d8576b"
             ],
             [
              0.6666666666666666,
              "#ed7953"
             ],
             [
              0.7777777777777778,
              "#fb9f3a"
             ],
             [
              0.8888888888888888,
              "#fdca26"
             ],
             [
              1,
              "#f0f921"
             ]
            ],
            "type": "contour"
           }
          ],
          "contourcarpet": [
           {
            "colorbar": {
             "outlinewidth": 0,
             "ticks": ""
            },
            "type": "contourcarpet"
           }
          ],
          "heatmap": [
           {
            "colorbar": {
             "outlinewidth": 0,
             "ticks": ""
            },
            "colorscale": [
             [
              0,
              "#0d0887"
             ],
             [
              0.1111111111111111,
              "#46039f"
             ],
             [
              0.2222222222222222,
              "#7201a8"
             ],
             [
              0.3333333333333333,
              "#9c179e"
             ],
             [
              0.4444444444444444,
              "#bd3786"
             ],
             [
              0.5555555555555556,
              "#d8576b"
             ],
             [
              0.6666666666666666,
              "#ed7953"
             ],
             [
              0.7777777777777778,
              "#fb9f3a"
             ],
             [
              0.8888888888888888,
              "#fdca26"
             ],
             [
              1,
              "#f0f921"
             ]
            ],
            "type": "heatmap"
           }
          ],
          "heatmapgl": [
           {
            "colorbar": {
             "outlinewidth": 0,
             "ticks": ""
            },
            "colorscale": [
             [
              0,
              "#0d0887"
             ],
             [
              0.1111111111111111,
              "#46039f"
             ],
             [
              0.2222222222222222,
              "#7201a8"
             ],
             [
              0.3333333333333333,
              "#9c179e"
             ],
             [
              0.4444444444444444,
              "#bd3786"
             ],
             [
              0.5555555555555556,
              "#d8576b"
             ],
             [
              0.6666666666666666,
              "#ed7953"
             ],
             [
              0.7777777777777778,
              "#fb9f3a"
             ],
             [
              0.8888888888888888,
              "#fdca26"
             ],
             [
              1,
              "#f0f921"
             ]
            ],
            "type": "heatmapgl"
           }
          ],
          "histogram": [
           {
            "marker": {
             "colorbar": {
              "outlinewidth": 0,
              "ticks": ""
             }
            },
            "type": "histogram"
           }
          ],
          "histogram2d": [
           {
            "colorbar": {
             "outlinewidth": 0,
             "ticks": ""
            },
            "colorscale": [
             [
              0,
              "#0d0887"
             ],
             [
              0.1111111111111111,
              "#46039f"
             ],
             [
              0.2222222222222222,
              "#7201a8"
             ],
             [
              0.3333333333333333,
              "#9c179e"
             ],
             [
              0.4444444444444444,
              "#bd3786"
             ],
             [
              0.5555555555555556,
              "#d8576b"
             ],
             [
              0.6666666666666666,
              "#ed7953"
             ],
             [
              0.7777777777777778,
              "#fb9f3a"
             ],
             [
              0.8888888888888888,
              "#fdca26"
             ],
             [
              1,
              "#f0f921"
             ]
            ],
            "type": "histogram2d"
           }
          ],
          "histogram2dcontour": [
           {
            "colorbar": {
             "outlinewidth": 0,
             "ticks": ""
            },
            "colorscale": [
             [
              0,
              "#0d0887"
             ],
             [
              0.1111111111111111,
              "#46039f"
             ],
             [
              0.2222222222222222,
              "#7201a8"
             ],
             [
              0.3333333333333333,
              "#9c179e"
             ],
             [
              0.4444444444444444,
              "#bd3786"
             ],
             [
              0.5555555555555556,
              "#d8576b"
             ],
             [
              0.6666666666666666,
              "#ed7953"
             ],
             [
              0.7777777777777778,
              "#fb9f3a"
             ],
             [
              0.8888888888888888,
              "#fdca26"
             ],
             [
              1,
              "#f0f921"
             ]
            ],
            "type": "histogram2dcontour"
           }
          ],
          "mesh3d": [
           {
            "colorbar": {
             "outlinewidth": 0,
             "ticks": ""
            },
            "type": "mesh3d"
           }
          ],
          "parcoords": [
           {
            "line": {
             "colorbar": {
              "outlinewidth": 0,
              "ticks": ""
             }
            },
            "type": "parcoords"
           }
          ],
          "pie": [
           {
            "automargin": true,
            "type": "pie"
           }
          ],
          "scatter": [
           {
            "marker": {
             "colorbar": {
              "outlinewidth": 0,
              "ticks": ""
             }
            },
            "type": "scatter"
           }
          ],
          "scatter3d": [
           {
            "line": {
             "colorbar": {
              "outlinewidth": 0,
              "ticks": ""
             }
            },
            "marker": {
             "colorbar": {
              "outlinewidth": 0,
              "ticks": ""
             }
            },
            "type": "scatter3d"
           }
          ],
          "scattercarpet": [
           {
            "marker": {
             "colorbar": {
              "outlinewidth": 0,
              "ticks": ""
             }
            },
            "type": "scattercarpet"
           }
          ],
          "scattergeo": [
           {
            "marker": {
             "colorbar": {
              "outlinewidth": 0,
              "ticks": ""
             }
            },
            "type": "scattergeo"
           }
          ],
          "scattergl": [
           {
            "marker": {
             "colorbar": {
              "outlinewidth": 0,
              "ticks": ""
             }
            },
            "type": "scattergl"
           }
          ],
          "scattermapbox": [
           {
            "marker": {
             "colorbar": {
              "outlinewidth": 0,
              "ticks": ""
             }
            },
            "type": "scattermapbox"
           }
          ],
          "scatterpolar": [
           {
            "marker": {
             "colorbar": {
              "outlinewidth": 0,
              "ticks": ""
             }
            },
            "type": "scatterpolar"
           }
          ],
          "scatterpolargl": [
           {
            "marker": {
             "colorbar": {
              "outlinewidth": 0,
              "ticks": ""
             }
            },
            "type": "scatterpolargl"
           }
          ],
          "scatterternary": [
           {
            "marker": {
             "colorbar": {
              "outlinewidth": 0,
              "ticks": ""
             }
            },
            "type": "scatterternary"
           }
          ],
          "surface": [
           {
            "colorbar": {
             "outlinewidth": 0,
             "ticks": ""
            },
            "colorscale": [
             [
              0,
              "#0d0887"
             ],
             [
              0.1111111111111111,
              "#46039f"
             ],
             [
              0.2222222222222222,
              "#7201a8"
             ],
             [
              0.3333333333333333,
              "#9c179e"
             ],
             [
              0.4444444444444444,
              "#bd3786"
             ],
             [
              0.5555555555555556,
              "#d8576b"
             ],
             [
              0.6666666666666666,
              "#ed7953"
             ],
             [
              0.7777777777777778,
              "#fb9f3a"
             ],
             [
              0.8888888888888888,
              "#fdca26"
             ],
             [
              1,
              "#f0f921"
             ]
            ],
            "type": "surface"
           }
          ],
          "table": [
           {
            "cells": {
             "fill": {
              "color": "#EBF0F8"
             },
             "line": {
              "color": "white"
             }
            },
            "header": {
             "fill": {
              "color": "#C8D4E3"
             },
             "line": {
              "color": "white"
             }
            },
            "type": "table"
           }
          ]
         },
         "layout": {
          "annotationdefaults": {
           "arrowcolor": "#2a3f5f",
           "arrowhead": 0,
           "arrowwidth": 1
          },
          "coloraxis": {
           "colorbar": {
            "outlinewidth": 0,
            "ticks": ""
           }
          },
          "colorscale": {
           "diverging": [
            [
             0,
             "#8e0152"
            ],
            [
             0.1,
             "#c51b7d"
            ],
            [
             0.2,
             "#de77ae"
            ],
            [
             0.3,
             "#f1b6da"
            ],
            [
             0.4,
             "#fde0ef"
            ],
            [
             0.5,
             "#f7f7f7"
            ],
            [
             0.6,
             "#e6f5d0"
            ],
            [
             0.7,
             "#b8e186"
            ],
            [
             0.8,
             "#7fbc41"
            ],
            [
             0.9,
             "#4d9221"
            ],
            [
             1,
             "#276419"
            ]
           ],
           "sequential": [
            [
             0,
             "#0d0887"
            ],
            [
             0.1111111111111111,
             "#46039f"
            ],
            [
             0.2222222222222222,
             "#7201a8"
            ],
            [
             0.3333333333333333,
             "#9c179e"
            ],
            [
             0.4444444444444444,
             "#bd3786"
            ],
            [
             0.5555555555555556,
             "#d8576b"
            ],
            [
             0.6666666666666666,
             "#ed7953"
            ],
            [
             0.7777777777777778,
             "#fb9f3a"
            ],
            [
             0.8888888888888888,
             "#fdca26"
            ],
            [
             1,
             "#f0f921"
            ]
           ],
           "sequentialminus": [
            [
             0,
             "#0d0887"
            ],
            [
             0.1111111111111111,
             "#46039f"
            ],
            [
             0.2222222222222222,
             "#7201a8"
            ],
            [
             0.3333333333333333,
             "#9c179e"
            ],
            [
             0.4444444444444444,
             "#bd3786"
            ],
            [
             0.5555555555555556,
             "#d8576b"
            ],
            [
             0.6666666666666666,
             "#ed7953"
            ],
            [
             0.7777777777777778,
             "#fb9f3a"
            ],
            [
             0.8888888888888888,
             "#fdca26"
            ],
            [
             1,
             "#f0f921"
            ]
           ]
          },
          "colorway": [
           "#636efa",
           "#EF553B",
           "#00cc96",
           "#ab63fa",
           "#FFA15A",
           "#19d3f3",
           "#FF6692",
           "#B6E880",
           "#FF97FF",
           "#FECB52"
          ],
          "font": {
           "color": "#2a3f5f"
          },
          "geo": {
           "bgcolor": "white",
           "lakecolor": "white",
           "landcolor": "#E5ECF6",
           "showlakes": true,
           "showland": true,
           "subunitcolor": "white"
          },
          "hoverlabel": {
           "align": "left"
          },
          "hovermode": "closest",
          "mapbox": {
           "style": "light"
          },
          "paper_bgcolor": "white",
          "plot_bgcolor": "#E5ECF6",
          "polar": {
           "angularaxis": {
            "gridcolor": "white",
            "linecolor": "white",
            "ticks": ""
           },
           "bgcolor": "#E5ECF6",
           "radialaxis": {
            "gridcolor": "white",
            "linecolor": "white",
            "ticks": ""
           }
          },
          "scene": {
           "xaxis": {
            "backgroundcolor": "#E5ECF6",
            "gridcolor": "white",
            "gridwidth": 2,
            "linecolor": "white",
            "showbackground": true,
            "ticks": "",
            "zerolinecolor": "white"
           },
           "yaxis": {
            "backgroundcolor": "#E5ECF6",
            "gridcolor": "white",
            "gridwidth": 2,
            "linecolor": "white",
            "showbackground": true,
            "ticks": "",
            "zerolinecolor": "white"
           },
           "zaxis": {
            "backgroundcolor": "#E5ECF6",
            "gridcolor": "white",
            "gridwidth": 2,
            "linecolor": "white",
            "showbackground": true,
            "ticks": "",
            "zerolinecolor": "white"
           }
          },
          "shapedefaults": {
           "line": {
            "color": "#2a3f5f"
           }
          },
          "ternary": {
           "aaxis": {
            "gridcolor": "white",
            "linecolor": "white",
            "ticks": ""
           },
           "baxis": {
            "gridcolor": "white",
            "linecolor": "white",
            "ticks": ""
           },
           "bgcolor": "#E5ECF6",
           "caxis": {
            "gridcolor": "white",
            "linecolor": "white",
            "ticks": ""
           }
          },
          "title": {
           "x": 0.05
          },
          "xaxis": {
           "automargin": true,
           "gridcolor": "white",
           "linecolor": "white",
           "ticks": "",
           "title": {
            "standoff": 15
           },
           "zerolinecolor": "white",
           "zerolinewidth": 2
          },
          "yaxis": {
           "automargin": true,
           "gridcolor": "white",
           "linecolor": "white",
           "ticks": "",
           "title": {
            "standoff": 15
           },
           "zerolinecolor": "white",
           "zerolinewidth": 2
          }
         }
        },
        "xaxis": {
         "anchor": "y",
         "domain": [
          0,
          1
         ],
         "title": {
          "text": "fecha"
         }
        },
        "yaxis": {
         "anchor": "x",
         "domain": [
          0,
          1
         ],
         "title": {
          "text": "puntos_2_acum"
         }
        }
       }
      },
      "text/html": [
       "<div>                            <div id=\"2cdd671f-f412-4c59-b236-7df957914721\" class=\"plotly-graph-div\" style=\"height:525px; width:100%;\"></div>            <script type=\"text/javascript\">                require([\"plotly\"], function(Plotly) {                    window.PLOTLYENV=window.PLOTLYENV || {};                                    if (document.getElementById(\"2cdd671f-f412-4c59-b236-7df957914721\")) {                    Plotly.newPlot(                        \"2cdd671f-f412-4c59-b236-7df957914721\",                        [{\"hovertemplate\": \"tecnico=Bilardo<br>fecha=%{x}<br>puntos_2_acum=%{y}<extra></extra>\", \"legendgroup\": \"Bilardo\", \"line\": {\"color\": \"#636efa\", \"dash\": \"solid\"}, \"mode\": \"lines\", \"name\": \"Bilardo\", \"orientation\": \"v\", \"showlegend\": true, \"type\": \"scatter\", \"x\": [\"2004-04-16T00:00:00\", \"2004-04-24T00:00:00\", \"2004-05-01T00:00:00\", \"2004-05-07T00:00:00\", \"2004-05-15T00:00:00\", \"2004-05-21T00:00:00\", \"2004-05-27T00:00:00\", \"2004-06-12T00:00:00\", \"2004-06-18T00:00:00\"], \"xaxis\": \"x\", \"y\": [-1, -1, -2, 0, 2, 4, 3, 3, 2], \"yaxis\": \"y\"}, {\"hovertemplate\": \"tecnico=vacio<br>fecha=%{x}<br>puntos_2_acum=%{y}<extra></extra>\", \"legendgroup\": \"vacio\", \"line\": {\"color\": \"#EF553B\", \"dash\": \"solid\"}, \"mode\": \"lines\", \"name\": \"vacio\", \"orientation\": \"v\", \"showlegend\": true, \"type\": \"scatter\", \"x\": [\"2004-06-25T00:00:00\", \"2008-09-17T00:00:00\", \"2008-09-20T00:00:00\", \"2009-03-10T00:00:00\", \"2009-03-14T00:00:00\", \"2011-06-02T00:00:00\", \"2011-06-06T00:00:00\", \"2011-06-12T00:00:00\", \"2011-06-19T00:00:00\", \"2012-04-27T00:00:00\", \"2012-05-06T00:00:00\", \"2012-05-11T00:00:00\", \"2012-05-19T00:00:00\", \"2012-05-28T00:00:00\", \"2012-06-10T00:00:00\", \"2012-06-16T00:00:00\", \"2012-06-24T00:00:00\", \"2013-03-17T00:00:00\", \"2013-03-30T00:00:00\", \"2017-09-19T00:00:00\", \"2017-09-25T00:00:00\", \"2019-03-03T00:00:00\", \"2019-03-10T00:00:00\"], \"xaxis\": \"x\", \"y\": [2, 128, 127, 143, 142, 253, 253, 253, 252, 263, 262, 264, 266, 266, 265, 267, 267, 272, 271, 413, 412, 434, 436], \"yaxis\": \"y\"}, {\"hovertemplate\": \"tecnico=Merlo<br>fecha=%{x}<br>puntos_2_acum=%{y}<extra></extra>\", \"legendgroup\": \"Merlo\", \"line\": {\"color\": \"#00cc96\", \"dash\": \"solid\"}, \"mode\": \"lines\", \"name\": \"Merlo\", \"orientation\": \"v\", \"showlegend\": true, \"type\": \"scatter\", \"x\": [\"2004-08-14T00:00:00\", \"2004-08-21T00:00:00\", \"2004-08-24T00:00:00\", \"2004-08-28T00:00:00\", \"2004-09-11T00:00:00\", \"2004-09-18T00:00:00\", \"2004-09-22T00:00:00\", \"2004-09-25T00:00:00\", \"2004-09-30T00:00:00\", \"2004-10-15T00:00:00\", \"2004-10-19T00:00:00\", \"2004-10-23T00:00:00\", \"2004-10-30T00:00:00\", \"2004-11-06T00:00:00\", \"2004-11-12T00:00:00\", \"2004-11-20T00:00:00\", \"2004-11-25T00:00:00\", \"2004-12-04T00:00:00\", \"2004-12-10T00:00:00\", \"2005-02-12T00:00:00\", \"2005-02-19T00:00:00\", \"2005-02-26T00:00:00\", \"2005-03-05T00:00:00\", \"2005-03-12T00:00:00\", \"2005-03-19T00:00:00\", \"2005-04-02T00:00:00\", \"2005-04-07T00:00:00\", \"2005-04-16T00:00:00\", \"2005-04-22T00:00:00\", \"2005-04-29T00:00:00\", \"2005-05-07T00:00:00\", \"2005-05-12T00:00:00\", \"2005-05-21T00:00:00\", \"2005-05-28T00:00:00\", \"2005-06-11T00:00:00\", \"2005-06-17T00:00:00\", \"2005-06-25T00:00:00\", \"2005-07-02T00:00:00\"], \"xaxis\": \"x\", \"y\": [2, 2, 4, 6, 8, 8, 10, 10, 9, 9, 11, 13, 13, 15, 15, 15, 15, 14, 13, 15, 17, 17, 16, 18, 20, 20, 20, 22, 24, 26, 26, 25, 27, 27, 26, 26, 25, 25], \"yaxis\": \"y\"}, {\"hovertemplate\": \"tecnico=Burruchaga<br>fecha=%{x}<br>puntos_2_acum=%{y}<extra></extra>\", \"legendgroup\": \"Burruchaga\", \"line\": {\"color\": \"#ab63fa\", \"dash\": \"solid\"}, \"mode\": \"lines\", \"name\": \"Burruchaga\", \"orientation\": \"v\", \"showlegend\": true, \"type\": \"scatter\", \"x\": [\"2005-08-09T00:00:00\", \"2005-08-13T00:00:00\", \"2005-08-18T00:00:00\", \"2005-08-24T00:00:00\", \"2005-08-27T00:00:00\", \"2005-09-01T00:00:00\", \"2005-09-05T00:00:00\", \"2005-09-08T00:00:00\", \"2005-09-16T00:00:00\", \"2005-09-24T00:00:00\", \"2005-09-29T00:00:00\", \"2005-10-03T00:00:00\", \"2005-10-15T00:00:00\", \"2005-10-20T00:00:00\", \"2005-11-05T00:00:00\", \"2005-11-11T00:00:00\", \"2005-11-15T00:00:00\", \"2005-11-19T00:00:00\", \"2005-11-26T00:00:00\", \"2005-12-02T00:00:00\", \"2005-12-09T00:00:00\", \"2006-01-26T00:00:00\", \"2006-01-30T00:00:00\", \"2006-02-02T00:00:00\", \"2006-02-06T00:00:00\", \"2006-02-11T00:00:00\", \"2006-02-16T00:00:00\", \"2006-02-20T00:00:00\", \"2006-02-24T00:00:00\", \"2006-02-28T00:00:00\", \"2006-03-04T00:00:00\", \"2006-03-08T00:00:00\", \"2006-03-11T00:00:00\", \"2006-03-16T00:00:00\", \"2006-03-20T00:00:00\", \"2006-03-25T00:00:00\", \"2006-03-28T00:00:00\", \"2006-03-31T00:00:00\", \"2006-04-03T00:00:00\", \"2006-04-07T00:00:00\", \"2006-04-12T00:00:00\", \"2006-04-15T00:00:00\", \"2006-04-21T00:00:00\", \"2006-04-24T00:00:00\", \"2006-04-29T00:00:00\", \"2006-05-03T00:00:00\", \"2006-05-06T00:00:00\", \"2006-05-09T00:00:00\", \"2006-05-13T00:00:00\"], \"xaxis\": \"x\", \"y\": [24, 23, 22, 24, 26, 26, 25, 27, 29, 31, 30, 32, 31, 33, 35, 37, 37, 36, 35, 35, 35, 37, 39, 39, 38, 38, 40, 42, 41, 40, 39, 38, 40, 39, 41, 40, 42, 42, 42, 41, 43, 45, 45, 47, 46, 45, 45, 47, 47], \"yaxis\": \"y\"}, {\"hovertemplate\": \"tecnico=Simeone<br>fecha=%{x}<br>puntos_2_acum=%{y}<extra></extra>\", \"legendgroup\": \"Simeone\", \"line\": {\"color\": \"#FFA15A\", \"dash\": \"solid\"}, \"mode\": \"lines\", \"name\": \"Simeone\", \"orientation\": \"v\", \"showlegend\": true, \"type\": \"scatter\", \"x\": [\"2006-08-05T00:00:00\", \"2006-08-12T00:00:00\", \"2006-08-19T00:00:00\", \"2006-08-26T00:00:00\", \"2006-09-02T00:00:00\", \"2006-09-07T00:00:00\", \"2006-09-16T00:00:00\", \"2006-09-21T00:00:00\", \"2006-09-29T00:00:00\", \"2006-10-06T00:00:00\", \"2006-10-14T00:00:00\", \"2006-10-21T00:00:00\", \"2006-10-27T00:00:00\", \"2006-11-03T00:00:00\", \"2006-11-10T00:00:00\", \"2006-11-17T00:00:00\", \"2006-11-24T00:00:00\", \"2006-12-02T00:00:00\", \"2006-12-09T00:00:00\", \"2006-12-12T00:00:00\", \"2007-02-11T00:00:00\", \"2007-02-16T00:00:00\", \"2007-02-22T00:00:00\", \"2007-03-02T00:00:00\", \"2007-03-09T00:00:00\", \"2007-03-15T00:00:00\", \"2007-03-24T00:00:00\", \"2007-03-31T00:00:00\", \"2007-04-06T00:00:00\", \"2007-04-14T00:00:00\", \"2007-04-21T00:00:00\", \"2007-04-26T00:00:00\", \"2007-05-03T00:00:00\", \"2007-05-11T00:00:00\", \"2007-05-19T00:00:00\", \"2007-05-25T00:00:00\", \"2007-06-03T00:00:00\", \"2007-06-09T00:00:00\", \"2007-06-17T00:00:00\", \"2007-08-03T00:00:00\", \"2007-08-08T00:00:00\", \"2007-08-12T00:00:00\", \"2007-08-19T00:00:00\", \"2007-08-25T00:00:00\", \"2007-08-29T00:00:00\", \"2007-09-02T00:00:00\", \"2007-09-05T00:00:00\", \"2007-09-09T00:00:00\", \"2007-09-12T00:00:00\", \"2007-09-15T00:00:00\", \"2007-09-23T00:00:00\", \"2007-09-28T00:00:00\", \"2007-10-03T00:00:00\", \"2007-10-07T00:00:00\", \"2007-10-21T00:00:00\", \"2007-11-04T00:00:00\", \"2007-11-11T00:00:00\", \"2007-11-25T00:00:00\", \"2007-11-30T00:00:00\", \"2007-12-07T00:00:00\"], \"xaxis\": \"x\", \"y\": [49, 51, 53, 52, 51, 51, 50, 52, 54, 56, 58, 60, 62, 64, 66, 68, 70, 70, 72, 74, 76, 76, 76, 78, 77, 79, 81, 81, 83, 83, 85, 87, 89, 89, 91, 91, 90, 92, 92, 94, 93, 95, 94, 94, 93, 92, 94, 96, 95, 95, 94, 94, 94, 96, 96, 98, 100, 100, 102, 104], \"yaxis\": \"y\"}, {\"hovertemplate\": \"tecnico=Sensini<br>fecha=%{x}<br>puntos_2_acum=%{y}<extra></extra>\", \"legendgroup\": \"Sensini\", \"line\": {\"color\": \"#19d3f3\", \"dash\": \"solid\"}, \"mode\": \"lines\", \"name\": \"Sensini\", \"orientation\": \"v\", \"showlegend\": true, \"type\": \"scatter\", \"x\": [\"2008-02-08T00:00:00\", \"2008-02-12T00:00:00\", \"2008-02-16T00:00:00\", \"2008-02-22T00:00:00\", \"2008-02-26T00:00:00\", \"2008-03-01T00:00:00\", \"2008-03-05T00:00:00\", \"2008-03-09T00:00:00\", \"2008-03-14T00:00:00\", \"2008-03-18T00:00:00\", \"2008-03-22T00:00:00\", \"2008-03-29T00:00:00\", \"2008-04-02T00:00:00\", \"2008-04-05T00:00:00\", \"2008-04-11T00:00:00\", \"2008-04-15T00:00:00\", \"2008-04-20T00:00:00\", \"2008-04-25T00:00:00\", \"2008-04-29T00:00:00\", \"2008-05-03T00:00:00\", \"2008-05-06T00:00:00\", \"2008-05-11T00:00:00\", \"2008-05-17T00:00:00\", \"2008-05-25T00:00:00\", \"2008-06-01T00:00:00\", \"2008-06-08T00:00:00\", \"2008-06-22T00:00:00\", \"2008-08-05T00:00:00\", \"2008-08-09T00:00:00\", \"2008-08-15T00:00:00\", \"2008-08-24T00:00:00\", \"2008-08-31T00:00:00\", \"2008-09-14T00:00:00\"], \"xaxis\": \"x\", \"y\": [106, 105, 107, 109, 109, 108, 110, 110, 112, 114, 116, 118, 118, 118, 120, 122, 122, 124, 123, 122, 124, 126, 128, 128, 128, 128, 130, 129, 128, 128, 127, 129, 128], \"yaxis\": \"y\"}, {\"hovertemplate\": \"tecnico=Astrada<br>fecha=%{x}<br>puntos_2_acum=%{y}<extra></extra>\", \"legendgroup\": \"Astrada\", \"line\": {\"color\": \"#FF6692\", \"dash\": \"solid\"}, \"mode\": \"lines\", \"name\": \"Astrada\", \"orientation\": \"v\", \"showlegend\": true, \"type\": \"scatter\", \"x\": [\"2008-09-23T00:00:00\", \"2008-09-28T00:00:00\", \"2008-10-02T00:00:00\", \"2008-10-05T00:00:00\", \"2008-10-17T00:00:00\", \"2008-10-21T00:00:00\", \"2008-10-25T00:00:00\", \"2008-10-28T00:00:00\", \"2008-11-01T00:00:00\", \"2008-11-05T00:00:00\", \"2008-11-08T00:00:00\", \"2008-11-13T00:00:00\", \"2008-11-16T00:00:00\", \"2008-11-20T00:00:00\", \"2008-11-23T00:00:00\", \"2008-11-26T00:00:00\", \"2008-12-03T00:00:00\", \"2008-12-07T00:00:00\", \"2008-12-10T00:00:00\", \"2008-12-13T00:00:00\", \"2009-01-29T00:00:00\", \"2009-02-04T00:00:00\", \"2009-02-07T00:00:00\", \"2009-02-14T00:00:00\", \"2009-02-19T00:00:00\", \"2009-02-22T00:00:00\", \"2009-02-26T00:00:00\", \"2009-03-01T00:00:00\", \"2009-03-06T00:00:00\"], \"xaxis\": \"x\", \"y\": [129, 131, 131, 133, 135, 137, 137, 139, 138, 138, 140, 140, 139, 141, 143, 142, 142, 144, 143, 143, 142, 144, 144, 143, 142, 144, 146, 145, 144], \"yaxis\": \"y\"}, {\"hovertemplate\": \"tecnico=Sabella<br>fecha=%{x}<br>puntos_2_acum=%{y}<extra></extra>\", \"legendgroup\": \"Sabella\", \"line\": {\"color\": \"#B6E880\", \"dash\": \"solid\"}, \"mode\": \"lines\", \"name\": \"Sabella\", \"orientation\": \"v\", \"showlegend\": true, \"type\": \"scatter\", \"x\": [\"2009-03-19T00:00:00\", \"2009-03-22T00:00:00\", \"2009-04-05T00:00:00\", \"2009-04-08T00:00:00\", \"2009-04-12T00:00:00\", \"2009-04-17T00:00:00\", \"2009-04-22T00:00:00\", \"2009-04-25T00:00:00\", \"2009-05-02T00:00:00\", \"2009-05-07T00:00:00\", \"2009-05-10T00:00:00\", \"2009-05-14T00:00:00\", \"2009-05-17T00:00:00\", \"2009-05-23T00:00:00\", \"2009-05-28T00:00:00\", \"2009-05-31T00:00:00\", \"2009-06-13T00:00:00\", \"2009-06-18T00:00:00\", \"2009-06-21T00:00:00\", \"2009-06-25T00:00:00\", \"2009-07-01T00:00:00\", \"2009-07-04T00:00:00\", \"2009-07-08T00:00:00\", \"2009-07-15T00:00:00\", \"2009-08-22T00:00:00\", \"2009-08-29T00:00:00\", \"2009-09-02T00:00:00\", \"2009-09-13T00:00:00\", \"2009-09-18T00:00:00\", \"2009-09-26T00:00:00\", \"2009-10-03T00:00:00\", \"2009-10-09T00:00:00\", \"2009-10-18T00:00:00\", \"2009-10-23T00:00:00\", \"2009-10-27T00:00:00\", \"2009-11-02T00:00:00\", \"2009-11-08T00:00:00\", \"2009-11-11T00:00:00\", \"2009-11-16T00:00:00\", \"2009-11-20T00:00:00\", \"2009-11-25T00:00:00\", \"2009-11-28T00:00:00\", \"2009-12-03T00:00:00\", \"2009-12-15T00:00:00\", \"2010-01-29T00:00:00\", \"2010-02-03T00:00:00\", \"2010-02-07T00:00:00\", \"2010-02-11T00:00:00\", \"2010-02-14T00:00:00\", \"2010-02-18T00:00:00\", \"2010-02-22T00:00:00\", \"2010-02-26T00:00:00\", \"2010-03-03T00:00:00\", \"2010-03-06T00:00:00\", \"2010-03-09T00:00:00\", \"2010-03-13T00:00:00\", \"2010-03-19T00:00:00\", \"2010-03-23T00:00:00\", \"2010-03-26T00:00:00\", \"2010-03-30T00:00:00\", \"2010-04-04T00:00:00\", \"2010-04-08T00:00:00\", \"2010-04-12T00:00:00\", \"2010-04-17T00:00:00\", \"2010-04-20T00:00:00\", \"2010-04-24T00:00:00\", \"2010-04-27T00:00:00\", \"2010-05-02T00:00:00\", \"2010-05-05T00:00:00\", \"2010-05-09T00:00:00\", \"2010-05-13T00:00:00\", \"2010-05-16T00:00:00\", \"2010-05-20T00:00:00\", \"2010-08-07T00:00:00\", \"2010-08-15T00:00:00\", \"2010-08-20T00:00:00\", \"2010-08-25T00:00:00\", \"2010-09-03T00:00:00\", \"2010-09-08T00:00:00\", \"2010-09-11T00:00:00\", \"2010-09-16T00:00:00\", \"2010-09-19T00:00:00\", \"2010-09-22T00:00:00\", \"2010-09-25T00:00:00\", \"2010-09-29T00:00:00\", \"2010-10-03T00:00:00\", \"2010-10-08T00:00:00\", \"2010-10-16T00:00:00\", \"2010-10-22T00:00:00\", \"2010-11-05T00:00:00\", \"2010-11-13T00:00:00\", \"2010-11-20T00:00:00\", \"2010-11-28T00:00:00\", \"2010-12-04T00:00:00\", \"2010-12-08T00:00:00\", \"2010-12-12T00:00:00\"], \"xaxis\": \"x\", \"y\": [144, 144, 144, 146, 148, 148, 148, 150, 152, 154, 154, 154, 156, 158, 160, 159, 161, 163, 162, 164, 166, 168, 168, 170, 172, 174, 174, 176, 178, 180, 179, 179, 178, 180, 182, 181, 183, 182, 181, 183, 182, 182, 182, 184, 186, 185, 187, 189, 188, 187, 189, 189, 188, 188, 188, 190, 192, 194, 196, 198, 198, 200, 202, 204, 206, 208, 210, 212, 214, 214, 213, 215, 217, 219, 221, 221, 220, 222, 222, 224, 223, 222, 222, 224, 226, 228, 230, 230, 230, 232, 231, 233, 235, 237, 239, 241], \"yaxis\": \"y\"}, {\"hovertemplate\": \"tecnico=Berizzo<br>fecha=%{x}<br>puntos_2_acum=%{y}<extra></extra>\", \"legendgroup\": \"Berizzo\", \"line\": {\"color\": \"#FF97FF\", \"dash\": \"solid\"}, \"mode\": \"lines\", \"name\": \"Berizzo\", \"orientation\": \"v\", \"showlegend\": true, \"type\": \"scatter\", \"x\": [\"2011-02-11T00:00:00\", \"2011-02-16T00:00:00\", \"2011-02-20T00:00:00\", \"2011-02-23T00:00:00\", \"2011-02-27T00:00:00\", \"2011-03-05T00:00:00\", \"2011-03-09T00:00:00\", \"2011-03-13T00:00:00\", \"2011-03-17T00:00:00\", \"2011-03-20T00:00:00\", \"2011-03-25T00:00:00\", \"2011-03-30T00:00:00\", \"2011-04-03T00:00:00\", \"2011-04-08T00:00:00\", \"2011-04-13T00:00:00\", \"2011-04-17T00:00:00\", \"2011-04-23T00:00:00\", \"2011-04-27T00:00:00\", \"2011-04-30T00:00:00\", \"2011-05-08T00:00:00\", \"2011-05-15T00:00:00\", \"2011-05-29T00:00:00\"], \"xaxis\": \"x\", \"y\": [245, 244, 246, 248, 247, 249, 251, 250, 252, 254, 256, 256, 255, 255, 254, 254, 253, 253, 252, 252, 252, 251], \"yaxis\": \"y\"}, {\"hovertemplate\": \"tecnico=Russo<br>fecha=%{x}<br>puntos_2_acum=%{y}<extra></extra>\", \"legendgroup\": \"Russo\", \"line\": {\"color\": \"#FECB52\", \"dash\": \"solid\"}, \"mode\": \"lines\", \"name\": \"Russo\", \"orientation\": \"v\", \"showlegend\": true, \"type\": \"scatter\", \"x\": [\"2011-08-07T00:00:00\", \"2011-08-15T00:00:00\", \"2011-08-20T00:00:00\", \"2011-08-26T00:00:00\", \"2011-08-30T00:00:00\", \"2011-09-03T00:00:00\", \"2011-09-06T00:00:00\", \"2011-09-10T00:00:00\", \"2011-09-18T00:00:00\", \"2011-09-22T00:00:00\", \"2011-09-25T00:00:00\", \"2011-10-02T00:00:00\", \"2011-10-16T00:00:00\", \"2011-10-25T00:00:00\", \"2011-10-31T00:00:00\", \"2011-11-05T00:00:00\"], \"xaxis\": \"x\", \"y\": [252, 251, 250, 250, 249, 248, 250, 249, 251, 250, 249, 249, 251, 250, 250, 249], \"yaxis\": \"y\"}, {\"hovertemplate\": \"tecnico=Azconzabal<br>fecha=%{x}<br>puntos_2_acum=%{y}<extra></extra>\", \"legendgroup\": \"Azconzabal\", \"line\": {\"color\": \"#636efa\", \"dash\": \"solid\"}, \"mode\": \"lines\", \"name\": \"Azconzabal\", \"orientation\": \"v\", \"showlegend\": true, \"type\": \"scatter\", \"x\": [\"2011-11-24T00:00:00\", \"2011-11-27T00:00:00\", \"2011-12-02T00:00:00\", \"2011-12-06T00:00:00\", \"2011-12-11T00:00:00\", \"2012-02-04T00:00:00\", \"2012-02-11T00:00:00\", \"2012-02-19T00:00:00\", \"2012-02-25T00:00:00\", \"2012-03-03T00:00:00\", \"2012-03-09T00:00:00\", \"2012-03-17T00:00:00\", \"2012-03-25T00:00:00\", \"2012-04-01T00:00:00\", \"2012-04-08T00:00:00\", \"2012-04-13T00:00:00\", \"2012-04-21T00:00:00\"], \"xaxis\": \"x\", \"y\": [251, 253, 255, 255, 257, 259, 259, 259, 261, 263, 265, 265, 267, 266, 265, 265, 264], \"yaxis\": \"y\"}, {\"hovertemplate\": \"tecnico=Cagna<br>fecha=%{x}<br>puntos_2_acum=%{y}<extra></extra>\", \"legendgroup\": \"Cagna\", \"line\": {\"color\": \"#EF553B\", \"dash\": \"solid\"}, \"mode\": \"lines\", \"name\": \"Cagna\", \"orientation\": \"v\", \"showlegend\": true, \"type\": \"scatter\", \"x\": [\"2012-08-06T00:00:00\", \"2012-08-11T00:00:00\", \"2012-08-18T00:00:00\", \"2012-08-27T00:00:00\", \"2012-09-01T00:00:00\", \"2012-09-08T00:00:00\", \"2012-09-15T00:00:00\", \"2012-09-24T00:00:00\", \"2012-09-29T00:00:00\", \"2012-10-06T00:00:00\", \"2012-10-21T00:00:00\", \"2012-10-27T00:00:00\", \"2012-11-03T00:00:00\", \"2012-11-10T00:00:00\", \"2012-11-13T00:00:00\", \"2012-11-17T00:00:00\", \"2012-11-25T00:00:00\", \"2012-12-03T00:00:00\", \"2012-12-08T00:00:00\", \"2013-02-09T00:00:00\", \"2013-02-17T00:00:00\", \"2013-02-22T00:00:00\", \"2013-03-02T00:00:00\", \"2013-03-09T00:00:00\"], \"xaxis\": \"x\", \"y\": [269, 268, 270, 269, 268, 268, 270, 272, 271, 273, 273, 272, 272, 274, 273, 275, 275, 277, 276, 274, 273, 273, 273, 272], \"yaxis\": \"y\"}, {\"hovertemplate\": \"tecnico=Pellegrino<br>fecha=%{x}<br>puntos_2_acum=%{y}<extra></extra>\", \"legendgroup\": \"Pellegrino\", \"line\": {\"color\": \"#00cc96\", \"dash\": \"solid\"}, \"mode\": \"lines\", \"name\": \"Pellegrino\", \"orientation\": \"v\", \"showlegend\": true, \"type\": \"scatter\", \"x\": [\"2013-04-08T00:00:00\", \"2013-04-14T00:00:00\", \"2013-04-20T00:00:00\", \"2013-04-27T00:00:00\", \"2013-05-02T00:00:00\", \"2013-05-06T00:00:00\", \"2013-05-13T00:00:00\", \"2013-05-18T00:00:00\", \"2013-05-27T00:00:00\", \"2013-06-01T00:00:00\", \"2013-06-15T00:00:00\", \"2013-06-19T00:00:00\", \"2013-06-22T00:00:00\", \"2013-07-23T00:00:00\", \"2013-08-02T00:00:00\", \"2013-08-07T00:00:00\", \"2013-08-14T00:00:00\", \"2013-08-19T00:00:00\", \"2013-08-25T00:00:00\", \"2013-08-31T00:00:00\", \"2013-09-07T00:00:00\", \"2013-09-15T00:00:00\", \"2013-09-22T00:00:00\", \"2013-09-27T00:00:00\", \"2013-10-05T00:00:00\", \"2013-10-13T00:00:00\", \"2013-10-18T00:00:00\", \"2013-10-28T00:00:00\", \"2013-11-03T00:00:00\", \"2013-11-09T00:00:00\", \"2013-11-16T00:00:00\", \"2013-11-25T00:00:00\", \"2013-12-01T00:00:00\", \"2013-12-08T00:00:00\", \"2014-02-07T00:00:00\", \"2014-02-15T00:00:00\", \"2014-02-19T00:00:00\", \"2014-02-23T00:00:00\", \"2014-03-02T00:00:00\", \"2014-03-05T00:00:00\", \"2014-03-08T00:00:00\", \"2014-03-16T00:00:00\", \"2014-03-22T00:00:00\", \"2014-03-28T00:00:00\", \"2014-04-01T00:00:00\", \"2014-04-07T00:00:00\", \"2014-04-12T00:00:00\", \"2014-04-16T00:00:00\", \"2014-04-19T00:00:00\", \"2014-04-27T00:00:00\", \"2014-05-03T00:00:00\", \"2014-05-10T00:00:00\", \"2014-05-18T00:00:00\", \"2014-07-19T00:00:00\", \"2014-07-26T00:00:00\", \"2014-08-11T00:00:00\", \"2014-08-16T00:00:00\", \"2014-08-24T00:00:00\", \"2014-08-27T00:00:00\", \"2014-08-30T00:00:00\", \"2014-09-03T00:00:00\", \"2014-09-06T00:00:00\", \"2014-09-13T00:00:00\", \"2014-09-16T00:00:00\", \"2014-09-20T00:00:00\", \"2014-09-26T00:00:00\", \"2014-10-01T00:00:00\", \"2014-10-05T00:00:00\", \"2014-10-11T00:00:00\", \"2014-10-14T00:00:00\", \"2014-10-18T00:00:00\", \"2014-10-26T00:00:00\", \"2014-10-29T00:00:00\", \"2014-11-06T00:00:00\", \"2014-11-09T00:00:00\", \"2014-11-12T00:00:00\", \"2014-11-16T00:00:00\", \"2014-11-23T00:00:00\", \"2014-11-29T00:00:00\", \"2014-12-05T00:00:00\", \"2015-02-05T00:00:00\", \"2015-02-12T00:00:00\", \"2015-02-16T00:00:00\", \"2015-02-21T00:00:00\", \"2015-02-25T00:00:00\", \"2015-03-01T00:00:00\", \"2015-03-05T00:00:00\", \"2015-03-09T00:00:00\", \"2015-03-12T00:00:00\", \"2015-03-15T00:00:00\", \"2015-03-18T00:00:00\", \"2015-03-22T00:00:00\", \"2015-03-29T00:00:00\", \"2015-04-03T00:00:00\", \"2015-04-09T00:00:00\", \"2015-04-13T00:00:00\"], \"xaxis\": \"x\", \"y\": [270, 270, 269, 271, 273, 273, 275, 277, 277, 277, 276, 278, 278, 280, 282, 284, 283, 283, 285, 285, 285, 284, 284, 284, 284, 286, 285, 287, 289, 289, 288, 290, 290, 289, 291, 293, 295, 294, 294, 294, 294, 296, 296, 296, 296, 298, 300, 300, 300, 299, 301, 303, 302, 304, 303, 302, 304, 303, 305, 304, 304, 306, 305, 307, 307, 309, 311, 313, 312, 314, 314, 316, 315, 314, 316, 318, 318, 318, 317, 319, 317, 319, 321, 323, 325, 327, 327, 326, 325, 325, 327, 326, 325, 325, 324, 323], \"yaxis\": \"y\"}, {\"hovertemplate\": \"tecnico=Milito<br>fecha=%{x}<br>puntos_2_acum=%{y}<extra></extra>\", \"legendgroup\": \"Milito\", \"line\": {\"color\": \"#ab63fa\", \"dash\": \"solid\"}, \"mode\": \"lines\", \"name\": \"Milito\", \"orientation\": \"v\", \"showlegend\": true, \"type\": \"scatter\", \"x\": [\"2015-04-17T00:00:00\", \"2015-04-21T00:00:00\", \"2015-05-02T00:00:00\", \"2015-05-05T00:00:00\", \"2015-05-08T00:00:00\", \"2015-05-12T00:00:00\", \"2015-05-23T00:00:00\", \"2015-05-31T00:00:00\", \"2015-06-04T00:00:00\", \"2015-06-08T00:00:00\", \"2015-07-10T00:00:00\", \"2015-07-20T00:00:00\", \"2015-07-26T00:00:00\", \"2015-08-01T00:00:00\", \"2015-08-15T00:00:00\", \"2015-08-23T00:00:00\", \"2015-08-30T00:00:00\", \"2015-09-07T00:00:00\", \"2015-09-13T00:00:00\", \"2015-09-19T00:00:00\", \"2015-09-23T00:00:00\", \"2015-09-28T00:00:00\", \"2015-10-03T00:00:00\", \"2015-10-17T00:00:00\", \"2015-10-31T00:00:00\", \"2015-11-07T00:00:00\", \"2015-11-20T00:00:00\", \"2015-11-28T00:00:00\", \"2015-12-05T00:00:00\"], \"xaxis\": \"x\", \"y\": [323, 325, 325, 327, 329, 328, 330, 330, 332, 334, 334, 336, 335, 337, 337, 339, 339, 341, 341, 343, 342, 341, 343, 345, 344, 346, 345, 347, 349], \"yaxis\": \"y\"}, {\"hovertemplate\": \"tecnico=Vivas<br>fecha=%{x}<br>puntos_2_acum=%{y}<extra></extra>\", \"legendgroup\": \"Vivas\", \"line\": {\"color\": \"#FFA15A\", \"dash\": \"solid\"}, \"mode\": \"lines\", \"name\": \"Vivas\", \"orientation\": \"v\", \"showlegend\": true, \"type\": \"scatter\", \"x\": [\"2016-01-14T00:00:00\", \"2016-01-27T00:00:00\", \"2016-01-31T00:00:00\", \"2016-02-08T00:00:00\", \"2016-02-13T00:00:00\", \"2016-02-18T00:00:00\", \"2016-02-23T00:00:00\", \"2016-02-27T00:00:00\", \"2016-03-05T00:00:00\", \"2016-03-13T00:00:00\", \"2016-03-18T00:00:00\", \"2016-04-01T00:00:00\", \"2016-04-11T00:00:00\", \"2016-04-17T00:00:00\", \"2016-04-23T00:00:00\", \"2016-04-29T00:00:00\", \"2016-05-07T00:00:00\", \"2016-05-15T00:00:00\", \"2016-05-22T00:00:00\", \"2016-05-28T00:00:00\", \"2016-07-16T00:00:00\", \"2016-08-13T00:00:00\", \"2016-08-24T00:00:00\", \"2016-08-28T00:00:00\", \"2016-09-11T00:00:00\", \"2016-09-15T00:00:00\", \"2016-09-18T00:00:00\", \"2016-09-25T00:00:00\", \"2016-10-02T00:00:00\", \"2016-10-15T00:00:00\", \"2016-10-23T00:00:00\", \"2016-10-29T00:00:00\", \"2016-11-05T00:00:00\", \"2016-11-19T00:00:00\", \"2016-11-26T00:00:00\", \"2016-12-04T00:00:00\", \"2016-12-11T00:00:00\", \"2016-12-17T00:00:00\", \"2017-01-15T00:00:00\", \"2017-01-21T00:00:00\", \"2017-01-27T00:00:00\", \"2017-03-09T00:00:00\", \"2017-03-14T00:00:00\", \"2017-03-19T00:00:00\", \"2017-03-25T00:00:00\", \"2017-04-02T00:00:00\", \"2017-04-07T00:00:00\", \"2017-04-11T00:00:00\", \"2017-04-15T00:00:00\", \"2017-04-19T00:00:00\", \"2017-04-23T00:00:00\", \"2017-04-28T00:00:00\", \"2017-05-02T00:00:00\", \"2017-05-06T00:00:00\", \"2017-05-13T00:00:00\", \"2017-05-18T00:00:00\", \"2017-05-22T00:00:00\", \"2017-05-25T00:00:00\", \"2017-05-29T00:00:00\", \"2017-06-03T00:00:00\"], \"xaxis\": \"x\", \"y\": [351, 353, 355, 354, 356, 356, 358, 360, 359, 361, 363, 365, 367, 369, 369, 369, 369, 371, 371, 373, 375, 377, 379, 381, 383, 382, 384, 386, 386, 388, 390, 392, 392, 394, 393, 393, 392, 391, 393, 392, 391, 392, 391, 393, 393, 395, 397, 396, 396, 398, 398, 398, 397, 397, 399, 401, 400, 402, 404, 403], \"yaxis\": \"y\"}, {\"hovertemplate\": \"tecnico=Benitez<br>fecha=%{x}<br>puntos_2_acum=%{y}<extra></extra>\", \"legendgroup\": \"Benitez\", \"line\": {\"color\": \"#19d3f3\", \"dash\": \"solid\"}, \"mode\": \"lines\", \"name\": \"Benitez\", \"orientation\": \"v\", \"showlegend\": true, \"type\": \"scatter\", \"x\": [\"2017-06-11T00:00:00\", \"2017-06-17T00:00:00\", \"2017-06-22T00:00:00\", \"2017-06-27T00:00:00\"], \"xaxis\": \"x\", \"y\": [402, 404, 406, 408], \"yaxis\": \"y\"}, {\"hovertemplate\": \"tecnico=Matosas<br>fecha=%{x}<br>puntos_2_acum=%{y}<extra></extra>\", \"legendgroup\": \"Matosas\", \"line\": {\"color\": \"#FF6692\", \"dash\": \"solid\"}, \"mode\": \"lines\", \"name\": \"Matosas\", \"orientation\": \"v\", \"showlegend\": true, \"type\": \"scatter\", \"x\": [\"2017-07-13T00:00:00\", \"2017-08-03T00:00:00\", \"2017-08-23T00:00:00\", \"2017-08-28T00:00:00\", \"2017-09-09T00:00:00\", \"2017-09-15T00:00:00\"], \"xaxis\": \"x\", \"y\": [410, 412, 413, 415, 414, 414], \"yaxis\": \"y\"}, {\"hovertemplate\": \"tecnico=Bernardi<br>fecha=%{x}<br>puntos_2_acum=%{y}<extra></extra>\", \"legendgroup\": \"Bernardi\", \"line\": {\"color\": \"#B6E880\", \"dash\": \"solid\"}, \"mode\": \"lines\", \"name\": \"Bernardi\", \"orientation\": \"v\", \"showlegend\": true, \"type\": \"scatter\", \"x\": [\"2017-09-30T00:00:00\", \"2017-10-14T00:00:00\", \"2017-10-28T00:00:00\", \"2017-11-05T00:00:00\", \"2017-11-19T00:00:00\", \"2017-11-26T00:00:00\", \"2017-12-03T00:00:00\", \"2017-12-10T00:00:00\", \"2018-01-29T00:00:00\", \"2018-02-04T00:00:00\", \"2018-02-10T00:00:00\", \"2018-02-16T00:00:00\", \"2018-02-23T00:00:00\", \"2018-02-28T00:00:00\", \"2018-03-05T00:00:00\", \"2018-03-11T00:00:00\", \"2018-03-14T00:00:00\", \"2018-03-18T00:00:00\", \"2018-03-31T00:00:00\", \"2018-04-05T00:00:00\", \"2018-04-09T00:00:00\", \"2018-04-15T00:00:00\", \"2018-04-20T00:00:00\", \"2018-04-24T00:00:00\", \"2018-05-01T00:00:00\", \"2018-05-06T00:00:00\"], \"xaxis\": \"x\", \"y\": [414, 414, 413, 415, 414, 416, 418, 417, 421, 423, 423, 425, 424, 424, 426, 426, 428, 427, 427, 426, 425, 427, 426, 425, 425, 424], \"yaxis\": \"y\"}, {\"hovertemplate\": \"tecnico=Benitez2<br>fecha=%{x}<br>puntos_2_acum=%{y}<extra></extra>\", \"legendgroup\": \"Benitez2\", \"line\": {\"color\": \"#FF97FF\", \"dash\": \"solid\"}, \"mode\": \"lines\", \"name\": \"Benitez2\", \"orientation\": \"v\", \"showlegend\": true, \"type\": \"scatter\", \"x\": [\"2018-05-11T00:00:00\", \"2018-05-14T00:00:00\", \"2018-05-24T00:00:00\", \"2018-07-24T00:00:00\", \"2018-08-07T00:00:00\", \"2018-08-12T00:00:00\", \"2018-08-20T00:00:00\", \"2018-08-24T00:00:00\", \"2018-09-02T00:00:00\", \"2018-09-14T00:00:00\", \"2018-10-03T00:00:00\", \"2018-10-08T00:00:00\", \"2018-10-21T00:00:00\", \"2018-10-24T00:00:00\", \"2018-10-28T00:00:00\", \"2018-11-03T00:00:00\", \"2018-11-10T00:00:00\", \"2018-11-18T00:00:00\", \"2018-11-23T00:00:00\", \"2018-12-01T00:00:00\", \"2018-12-08T00:00:00\", \"2019-01-28T00:00:00\", \"2019-02-04T00:00:00\", \"2019-02-09T00:00:00\", \"2019-02-18T00:00:00\", \"2019-02-24T00:00:00\"], \"xaxis\": \"x\", \"y\": [423, 423, 425, 431, 433, 432, 434, 433, 433, 432, 431, 430, 430, 432, 434, 436, 436, 436, 435, 435, 435, 436, 435, 437, 436, 435], \"yaxis\": \"y\"}, {\"hovertemplate\": \"tecnico=Milito2<br>fecha=%{x}<br>puntos_2_acum=%{y}<extra></extra>\", \"legendgroup\": \"Milito2\", \"line\": {\"color\": \"#FECB52\", \"dash\": \"solid\"}, \"mode\": \"lines\", \"name\": \"Milito2\", \"orientation\": \"v\", \"showlegend\": true, \"type\": \"scatter\", \"x\": [\"2019-03-18T00:00:00\", \"2019-04-01T00:00:00\", \"2019-04-06T00:00:00\", \"2019-04-14T00:00:00\", \"2019-04-19T00:00:00\", \"2019-04-27T00:00:00\", \"2019-05-04T00:00:00\", \"2019-05-22T00:00:00\", \"2019-07-20T00:00:00\", \"2019-07-28T00:00:00\", \"2019-08-04T00:00:00\", \"2019-08-19T00:00:00\", \"2019-08-25T00:00:00\", \"2019-08-30T00:00:00\", \"2019-09-15T00:00:00\", \"2019-09-21T00:00:00\", \"2019-09-28T00:00:00\", \"2019-10-05T00:00:00\", \"2019-10-16T00:00:00\", \"2019-10-21T00:00:00\", \"2019-10-29T00:00:00\", \"2019-11-02T00:00:00\", \"2019-11-08T00:00:00\", \"2019-11-25T00:00:00\", \"2019-11-30T00:00:00\", \"2019-12-09T00:00:00\", \"2020-01-25T00:00:00\", \"2020-02-01T00:00:00\", \"2020-02-08T00:00:00\", \"2020-02-17T00:00:00\", \"2020-02-23T00:00:00\", \"2020-03-01T00:00:00\"], \"xaxis\": \"x\", \"y\": [438, 438, 438, 437, 439, 439, 439, 441, 443, 445, 444, 446, 445, 444, 443, 445, 444, 444, 443, 445, 447, 449, 451, 450, 450, 450, 450, 452, 452, 451, 450, 450], \"yaxis\": \"y\"}, {\"hovertemplate\": \"tecnico=Desabato<br>fecha=%{x}<br>puntos_2_acum=%{y}<extra></extra>\", \"legendgroup\": \"Desabato\", \"line\": {\"color\": \"#636efa\", \"dash\": \"solid\"}, \"mode\": \"lines\", \"name\": \"Desabato\", \"orientation\": \"v\", \"showlegend\": true, \"type\": \"scatter\", \"x\": [\"2020-03-09T00:00:00\", \"2020-10-31T00:00:00\", \"2020-11-07T00:00:00\"], \"xaxis\": \"x\", \"y\": [449, 451, 450], \"yaxis\": \"y\"}],                        {\"legend\": {\"title\": {\"text\": \"tecnico\"}, \"tracegroupgap\": 0}, \"margin\": {\"t\": 60}, \"template\": {\"data\": {\"bar\": [{\"error_x\": {\"color\": \"#2a3f5f\"}, \"error_y\": {\"color\": \"#2a3f5f\"}, \"marker\": {\"line\": {\"color\": \"#E5ECF6\", \"width\": 0.5}}, \"type\": \"bar\"}], \"barpolar\": [{\"marker\": {\"line\": {\"color\": \"#E5ECF6\", \"width\": 0.5}}, \"type\": \"barpolar\"}], \"carpet\": [{\"aaxis\": {\"endlinecolor\": \"#2a3f5f\", \"gridcolor\": \"white\", \"linecolor\": \"white\", \"minorgridcolor\": \"white\", \"startlinecolor\": \"#2a3f5f\"}, \"baxis\": {\"endlinecolor\": \"#2a3f5f\", \"gridcolor\": \"white\", \"linecolor\": \"white\", \"minorgridcolor\": \"white\", \"startlinecolor\": \"#2a3f5f\"}, \"type\": \"carpet\"}], \"choropleth\": [{\"colorbar\": {\"outlinewidth\": 0, \"ticks\": \"\"}, \"type\": \"choropleth\"}], \"contour\": [{\"colorbar\": {\"outlinewidth\": 0, \"ticks\": \"\"}, \"colorscale\": [[0.0, \"#0d0887\"], [0.1111111111111111, \"#46039f\"], [0.2222222222222222, \"#7201a8\"], [0.3333333333333333, \"#9c179e\"], [0.4444444444444444, \"#bd3786\"], [0.5555555555555556, \"#d8576b\"], [0.6666666666666666, \"#ed7953\"], [0.7777777777777778, \"#fb9f3a\"], [0.8888888888888888, \"#fdca26\"], [1.0, \"#f0f921\"]], \"type\": \"contour\"}], \"contourcarpet\": [{\"colorbar\": {\"outlinewidth\": 0, \"ticks\": \"\"}, \"type\": \"contourcarpet\"}], \"heatmap\": [{\"colorbar\": {\"outlinewidth\": 0, \"ticks\": \"\"}, \"colorscale\": [[0.0, \"#0d0887\"], [0.1111111111111111, \"#46039f\"], [0.2222222222222222, \"#7201a8\"], [0.3333333333333333, \"#9c179e\"], [0.4444444444444444, \"#bd3786\"], [0.5555555555555556, \"#d8576b\"], [0.6666666666666666, \"#ed7953\"], [0.7777777777777778, \"#fb9f3a\"], [0.8888888888888888, \"#fdca26\"], [1.0, \"#f0f921\"]], \"type\": \"heatmap\"}], \"heatmapgl\": [{\"colorbar\": {\"outlinewidth\": 0, \"ticks\": \"\"}, \"colorscale\": [[0.0, \"#0d0887\"], [0.1111111111111111, \"#46039f\"], [0.2222222222222222, \"#7201a8\"], [0.3333333333333333, \"#9c179e\"], [0.4444444444444444, \"#bd3786\"], [0.5555555555555556, \"#d8576b\"], [0.6666666666666666, \"#ed7953\"], [0.7777777777777778, \"#fb9f3a\"], [0.8888888888888888, \"#fdca26\"], [1.0, \"#f0f921\"]], \"type\": \"heatmapgl\"}], \"histogram\": [{\"marker\": {\"colorbar\": {\"outlinewidth\": 0, \"ticks\": \"\"}}, \"type\": \"histogram\"}], \"histogram2d\": [{\"colorbar\": {\"outlinewidth\": 0, \"ticks\": \"\"}, \"colorscale\": [[0.0, \"#0d0887\"], [0.1111111111111111, \"#46039f\"], [0.2222222222222222, \"#7201a8\"], [0.3333333333333333, \"#9c179e\"], [0.4444444444444444, \"#bd3786\"], [0.5555555555555556, \"#d8576b\"], [0.6666666666666666, \"#ed7953\"], [0.7777777777777778, \"#fb9f3a\"], [0.8888888888888888, \"#fdca26\"], [1.0, \"#f0f921\"]], \"type\": \"histogram2d\"}], \"histogram2dcontour\": [{\"colorbar\": {\"outlinewidth\": 0, \"ticks\": \"\"}, \"colorscale\": [[0.0, \"#0d0887\"], [0.1111111111111111, \"#46039f\"], [0.2222222222222222, \"#7201a8\"], [0.3333333333333333, \"#9c179e\"], [0.4444444444444444, \"#bd3786\"], [0.5555555555555556, \"#d8576b\"], [0.6666666666666666, \"#ed7953\"], [0.7777777777777778, \"#fb9f3a\"], [0.8888888888888888, \"#fdca26\"], [1.0, \"#f0f921\"]], \"type\": \"histogram2dcontour\"}], \"mesh3d\": [{\"colorbar\": {\"outlinewidth\": 0, \"ticks\": \"\"}, \"type\": \"mesh3d\"}], \"parcoords\": [{\"line\": {\"colorbar\": {\"outlinewidth\": 0, \"ticks\": \"\"}}, \"type\": \"parcoords\"}], \"pie\": [{\"automargin\": true, \"type\": \"pie\"}], \"scatter\": [{\"marker\": {\"colorbar\": {\"outlinewidth\": 0, \"ticks\": \"\"}}, \"type\": \"scatter\"}], \"scatter3d\": [{\"line\": {\"colorbar\": {\"outlinewidth\": 0, \"ticks\": \"\"}}, \"marker\": {\"colorbar\": {\"outlinewidth\": 0, \"ticks\": \"\"}}, \"type\": \"scatter3d\"}], \"scattercarpet\": [{\"marker\": {\"colorbar\": {\"outlinewidth\": 0, \"ticks\": \"\"}}, \"type\": \"scattercarpet\"}], \"scattergeo\": [{\"marker\": {\"colorbar\": {\"outlinewidth\": 0, \"ticks\": \"\"}}, \"type\": \"scattergeo\"}], \"scattergl\": [{\"marker\": {\"colorbar\": {\"outlinewidth\": 0, \"ticks\": \"\"}}, \"type\": \"scattergl\"}], \"scattermapbox\": [{\"marker\": {\"colorbar\": {\"outlinewidth\": 0, \"ticks\": \"\"}}, \"type\": \"scattermapbox\"}], \"scatterpolar\": [{\"marker\": {\"colorbar\": {\"outlinewidth\": 0, \"ticks\": \"\"}}, \"type\": \"scatterpolar\"}], \"scatterpolargl\": [{\"marker\": {\"colorbar\": {\"outlinewidth\": 0, \"ticks\": \"\"}}, \"type\": \"scatterpolargl\"}], \"scatterternary\": [{\"marker\": {\"colorbar\": {\"outlinewidth\": 0, \"ticks\": \"\"}}, \"type\": \"scatterternary\"}], \"surface\": [{\"colorbar\": {\"outlinewidth\": 0, \"ticks\": \"\"}, \"colorscale\": [[0.0, \"#0d0887\"], [0.1111111111111111, \"#46039f\"], [0.2222222222222222, \"#7201a8\"], [0.3333333333333333, \"#9c179e\"], [0.4444444444444444, \"#bd3786\"], [0.5555555555555556, \"#d8576b\"], [0.6666666666666666, \"#ed7953\"], [0.7777777777777778, \"#fb9f3a\"], [0.8888888888888888, \"#fdca26\"], [1.0, \"#f0f921\"]], \"type\": \"surface\"}], \"table\": [{\"cells\": {\"fill\": {\"color\": \"#EBF0F8\"}, \"line\": {\"color\": \"white\"}}, \"header\": {\"fill\": {\"color\": \"#C8D4E3\"}, \"line\": {\"color\": \"white\"}}, \"type\": \"table\"}]}, \"layout\": {\"annotationdefaults\": {\"arrowcolor\": \"#2a3f5f\", \"arrowhead\": 0, \"arrowwidth\": 1}, \"coloraxis\": {\"colorbar\": {\"outlinewidth\": 0, \"ticks\": \"\"}}, \"colorscale\": {\"diverging\": [[0, \"#8e0152\"], [0.1, \"#c51b7d\"], [0.2, \"#de77ae\"], [0.3, \"#f1b6da\"], [0.4, \"#fde0ef\"], [0.5, \"#f7f7f7\"], [0.6, \"#e6f5d0\"], [0.7, \"#b8e186\"], [0.8, \"#7fbc41\"], [0.9, \"#4d9221\"], [1, \"#276419\"]], \"sequential\": [[0.0, \"#0d0887\"], [0.1111111111111111, \"#46039f\"], [0.2222222222222222, \"#7201a8\"], [0.3333333333333333, \"#9c179e\"], [0.4444444444444444, \"#bd3786\"], [0.5555555555555556, \"#d8576b\"], [0.6666666666666666, \"#ed7953\"], [0.7777777777777778, \"#fb9f3a\"], [0.8888888888888888, \"#fdca26\"], [1.0, \"#f0f921\"]], \"sequentialminus\": [[0.0, \"#0d0887\"], [0.1111111111111111, \"#46039f\"], [0.2222222222222222, \"#7201a8\"], [0.3333333333333333, \"#9c179e\"], [0.4444444444444444, \"#bd3786\"], [0.5555555555555556, \"#d8576b\"], [0.6666666666666666, \"#ed7953\"], [0.7777777777777778, \"#fb9f3a\"], [0.8888888888888888, \"#fdca26\"], [1.0, \"#f0f921\"]]}, \"colorway\": [\"#636efa\", \"#EF553B\", \"#00cc96\", \"#ab63fa\", \"#FFA15A\", \"#19d3f3\", \"#FF6692\", \"#B6E880\", \"#FF97FF\", \"#FECB52\"], \"font\": {\"color\": \"#2a3f5f\"}, \"geo\": {\"bgcolor\": \"white\", \"lakecolor\": \"white\", \"landcolor\": \"#E5ECF6\", \"showlakes\": true, \"showland\": true, \"subunitcolor\": \"white\"}, \"hoverlabel\": {\"align\": \"left\"}, \"hovermode\": \"closest\", \"mapbox\": {\"style\": \"light\"}, \"paper_bgcolor\": \"white\", \"plot_bgcolor\": \"#E5ECF6\", \"polar\": {\"angularaxis\": {\"gridcolor\": \"white\", \"linecolor\": \"white\", \"ticks\": \"\"}, \"bgcolor\": \"#E5ECF6\", \"radialaxis\": {\"gridcolor\": \"white\", \"linecolor\": \"white\", \"ticks\": \"\"}}, \"scene\": {\"xaxis\": {\"backgroundcolor\": \"#E5ECF6\", \"gridcolor\": \"white\", \"gridwidth\": 2, \"linecolor\": \"white\", \"showbackground\": true, \"ticks\": \"\", \"zerolinecolor\": \"white\"}, \"yaxis\": {\"backgroundcolor\": \"#E5ECF6\", \"gridcolor\": \"white\", \"gridwidth\": 2, \"linecolor\": \"white\", \"showbackground\": true, \"ticks\": \"\", \"zerolinecolor\": \"white\"}, \"zaxis\": {\"backgroundcolor\": \"#E5ECF6\", \"gridcolor\": \"white\", \"gridwidth\": 2, \"linecolor\": \"white\", \"showbackground\": true, \"ticks\": \"\", \"zerolinecolor\": \"white\"}}, \"shapedefaults\": {\"line\": {\"color\": \"#2a3f5f\"}}, \"ternary\": {\"aaxis\": {\"gridcolor\": \"white\", \"linecolor\": \"white\", \"ticks\": \"\"}, \"baxis\": {\"gridcolor\": \"white\", \"linecolor\": \"white\", \"ticks\": \"\"}, \"bgcolor\": \"#E5ECF6\", \"caxis\": {\"gridcolor\": \"white\", \"linecolor\": \"white\", \"ticks\": \"\"}}, \"title\": {\"x\": 0.05}, \"xaxis\": {\"automargin\": true, \"gridcolor\": \"white\", \"linecolor\": \"white\", \"ticks\": \"\", \"title\": {\"standoff\": 15}, \"zerolinecolor\": \"white\", \"zerolinewidth\": 2}, \"yaxis\": {\"automargin\": true, \"gridcolor\": \"white\", \"linecolor\": \"white\", \"ticks\": \"\", \"title\": {\"standoff\": 15}, \"zerolinecolor\": \"white\", \"zerolinewidth\": 2}}}, \"xaxis\": {\"anchor\": \"y\", \"domain\": [0.0, 1.0], \"title\": {\"text\": \"fecha\"}}, \"yaxis\": {\"anchor\": \"x\", \"domain\": [0.0, 1.0], \"title\": {\"text\": \"puntos_2_acum\"}}},                        {\"responsive\": true}                    ).then(function(){\n",
       "                            \n",
       "var gd = document.getElementById('2cdd671f-f412-4c59-b236-7df957914721');\n",
       "var x = new MutationObserver(function (mutations, observer) {{\n",
       "        var display = window.getComputedStyle(gd).display;\n",
       "        if (!display || display === 'none') {{\n",
       "            console.log([gd, 'removed!']);\n",
       "            Plotly.purge(gd);\n",
       "            observer.disconnect();\n",
       "        }}\n",
       "}});\n",
       "\n",
       "// Listen for the removal of the full notebook cells\n",
       "var notebookContainer = gd.closest('#notebook-container');\n",
       "if (notebookContainer) {{\n",
       "    x.observe(notebookContainer, {childList: true});\n",
       "}}\n",
       "\n",
       "// Listen for the clearing of the current output cell\n",
       "var outputEl = gd.closest('.output');\n",
       "if (outputEl) {{\n",
       "    x.observe(outputEl, {childList: true});\n",
       "}}\n",
       "\n",
       "                        })                };                });            </script>        </div>"
      ]
     },
     "metadata": {},
     "output_type": "display_data"
    }
   ],
   "source": [
    "px.line(x='fecha' , y='puntos_2_acum', color= 'tecnico', data_frame=resultados[resultados.competencia!='AMI'])"
   ]
  },
  {
   "cell_type": "code",
   "execution_count": 124,
   "metadata": {},
   "outputs": [
    {
     "data": {
      "application/vnd.plotly.v1+json": {
       "config": {
        "plotlyServerURL": "https://plotly.com"
       },
       "data": [
        {
         "hovertemplate": "tecnico=Bilardo<br>fecha=%{x}<br>puntos_acum=%{y}<extra></extra>",
         "legendgroup": "Bilardo",
         "line": {
          "color": "#636efa",
          "dash": "solid"
         },
         "mode": "lines",
         "name": "Bilardo",
         "orientation": "v",
         "showlegend": true,
         "type": "scatter",
         "x": [
          "2004-04-16T00:00:00",
          "2004-04-24T00:00:00",
          "2004-05-01T00:00:00",
          "2004-05-07T00:00:00",
          "2004-05-15T00:00:00",
          "2004-05-21T00:00:00",
          "2004-05-27T00:00:00",
          "2004-06-12T00:00:00",
          "2004-06-18T00:00:00"
         ],
         "xaxis": "x",
         "y": [
          0,
          1,
          1,
          4,
          7,
          10,
          10,
          11,
          11
         ],
         "yaxis": "y"
        },
        {
         "hovertemplate": "tecnico=vacio<br>fecha=%{x}<br>puntos_acum=%{y}<extra></extra>",
         "legendgroup": "vacio",
         "line": {
          "color": "#EF553B",
          "dash": "solid"
         },
         "mode": "lines",
         "name": "vacio",
         "orientation": "v",
         "showlegend": true,
         "type": "scatter",
         "x": [
          "2004-06-25T00:00:00",
          "2008-09-17T00:00:00",
          "2008-09-20T00:00:00",
          "2009-03-10T00:00:00",
          "2009-03-14T00:00:00",
          "2011-06-02T00:00:00",
          "2011-06-06T00:00:00",
          "2011-06-12T00:00:00",
          "2011-06-19T00:00:00",
          "2012-04-27T00:00:00",
          "2012-05-06T00:00:00",
          "2012-05-11T00:00:00",
          "2012-05-19T00:00:00",
          "2012-05-28T00:00:00",
          "2012-06-10T00:00:00",
          "2012-06-16T00:00:00",
          "2012-06-24T00:00:00",
          "2013-03-17T00:00:00",
          "2013-03-30T00:00:00",
          "2017-09-19T00:00:00",
          "2017-09-25T00:00:00",
          "2019-03-03T00:00:00",
          "2019-03-10T00:00:00"
         ],
         "xaxis": "x",
         "y": [
          12,
          319,
          319,
          365,
          365,
          597,
          598,
          599,
          599,
          644,
          644,
          647,
          650,
          651,
          651,
          654,
          655,
          686,
          686,
          1035,
          1035,
          1116,
          1119
         ],
         "yaxis": "y"
        },
        {
         "hovertemplate": "tecnico=Merlo<br>fecha=%{x}<br>puntos_acum=%{y}<extra></extra>",
         "legendgroup": "Merlo",
         "line": {
          "color": "#00cc96",
          "dash": "solid"
         },
         "mode": "lines",
         "name": "Merlo",
         "orientation": "v",
         "showlegend": true,
         "type": "scatter",
         "x": [
          "2004-08-14T00:00:00",
          "2004-08-21T00:00:00",
          "2004-08-24T00:00:00",
          "2004-08-28T00:00:00",
          "2004-09-11T00:00:00",
          "2004-09-18T00:00:00",
          "2004-09-22T00:00:00",
          "2004-09-25T00:00:00",
          "2004-09-30T00:00:00",
          "2004-10-15T00:00:00",
          "2004-10-19T00:00:00",
          "2004-10-23T00:00:00",
          "2004-10-30T00:00:00",
          "2004-11-06T00:00:00",
          "2004-11-12T00:00:00",
          "2004-11-20T00:00:00",
          "2004-11-25T00:00:00",
          "2004-12-04T00:00:00",
          "2004-12-10T00:00:00",
          "2005-02-12T00:00:00",
          "2005-02-19T00:00:00",
          "2005-02-26T00:00:00",
          "2005-03-05T00:00:00",
          "2005-03-12T00:00:00",
          "2005-03-19T00:00:00",
          "2005-04-02T00:00:00",
          "2005-04-07T00:00:00",
          "2005-04-16T00:00:00",
          "2005-04-22T00:00:00",
          "2005-04-29T00:00:00",
          "2005-05-07T00:00:00",
          "2005-05-12T00:00:00",
          "2005-05-21T00:00:00",
          "2005-05-28T00:00:00",
          "2005-06-11T00:00:00",
          "2005-06-17T00:00:00",
          "2005-06-25T00:00:00",
          "2005-07-02T00:00:00"
         ],
         "xaxis": "x",
         "y": [
          13,
          14,
          17,
          20,
          23,
          24,
          27,
          28,
          28,
          29,
          32,
          35,
          36,
          39,
          40,
          41,
          42,
          42,
          42,
          45,
          48,
          49,
          49,
          52,
          55,
          56,
          57,
          60,
          63,
          66,
          67,
          67,
          70,
          71,
          71,
          72,
          72,
          73
         ],
         "yaxis": "y"
        },
        {
         "hovertemplate": "tecnico=Burruchaga<br>fecha=%{x}<br>puntos_acum=%{y}<extra></extra>",
         "legendgroup": "Burruchaga",
         "line": {
          "color": "#ab63fa",
          "dash": "solid"
         },
         "mode": "lines",
         "name": "Burruchaga",
         "orientation": "v",
         "showlegend": true,
         "type": "scatter",
         "x": [
          "2005-08-09T00:00:00",
          "2005-08-13T00:00:00",
          "2005-08-18T00:00:00",
          "2005-08-24T00:00:00",
          "2005-08-27T00:00:00",
          "2005-09-01T00:00:00",
          "2005-09-05T00:00:00",
          "2005-09-08T00:00:00",
          "2005-09-16T00:00:00",
          "2005-09-24T00:00:00",
          "2005-09-29T00:00:00",
          "2005-10-03T00:00:00",
          "2005-10-15T00:00:00",
          "2005-10-20T00:00:00",
          "2005-11-05T00:00:00",
          "2005-11-11T00:00:00",
          "2005-11-15T00:00:00",
          "2005-11-19T00:00:00",
          "2005-11-26T00:00:00",
          "2005-12-02T00:00:00",
          "2005-12-09T00:00:00",
          "2006-01-26T00:00:00",
          "2006-01-30T00:00:00",
          "2006-02-02T00:00:00",
          "2006-02-06T00:00:00",
          "2006-02-11T00:00:00",
          "2006-02-16T00:00:00",
          "2006-02-20T00:00:00",
          "2006-02-24T00:00:00",
          "2006-02-28T00:00:00",
          "2006-03-04T00:00:00",
          "2006-03-08T00:00:00",
          "2006-03-11T00:00:00",
          "2006-03-16T00:00:00",
          "2006-03-20T00:00:00",
          "2006-03-25T00:00:00",
          "2006-03-28T00:00:00",
          "2006-03-31T00:00:00",
          "2006-04-03T00:00:00",
          "2006-04-07T00:00:00",
          "2006-04-12T00:00:00",
          "2006-04-15T00:00:00",
          "2006-04-21T00:00:00",
          "2006-04-24T00:00:00",
          "2006-04-29T00:00:00",
          "2006-05-03T00:00:00",
          "2006-05-06T00:00:00",
          "2006-05-09T00:00:00",
          "2006-05-13T00:00:00"
         ],
         "xaxis": "x",
         "y": [
          73,
          73,
          73,
          76,
          79,
          80,
          80,
          83,
          86,
          89,
          89,
          92,
          92,
          95,
          98,
          101,
          102,
          102,
          102,
          103,
          104,
          107,
          110,
          111,
          111,
          112,
          115,
          118,
          118,
          118,
          118,
          118,
          121,
          121,
          124,
          124,
          127,
          128,
          129,
          129,
          132,
          135,
          136,
          139,
          139,
          139,
          140,
          143,
          144
         ],
         "yaxis": "y"
        },
        {
         "hovertemplate": "tecnico=Simeone<br>fecha=%{x}<br>puntos_acum=%{y}<extra></extra>",
         "legendgroup": "Simeone",
         "line": {
          "color": "#FFA15A",
          "dash": "solid"
         },
         "mode": "lines",
         "name": "Simeone",
         "orientation": "v",
         "showlegend": true,
         "type": "scatter",
         "x": [
          "2006-08-05T00:00:00",
          "2006-08-12T00:00:00",
          "2006-08-19T00:00:00",
          "2006-08-26T00:00:00",
          "2006-09-02T00:00:00",
          "2006-09-07T00:00:00",
          "2006-09-16T00:00:00",
          "2006-09-21T00:00:00",
          "2006-09-29T00:00:00",
          "2006-10-06T00:00:00",
          "2006-10-14T00:00:00",
          "2006-10-21T00:00:00",
          "2006-10-27T00:00:00",
          "2006-11-03T00:00:00",
          "2006-11-10T00:00:00",
          "2006-11-17T00:00:00",
          "2006-11-24T00:00:00",
          "2006-12-02T00:00:00",
          "2006-12-09T00:00:00",
          "2006-12-12T00:00:00",
          "2007-02-11T00:00:00",
          "2007-02-16T00:00:00",
          "2007-02-22T00:00:00",
          "2007-03-02T00:00:00",
          "2007-03-09T00:00:00",
          "2007-03-15T00:00:00",
          "2007-03-24T00:00:00",
          "2007-03-31T00:00:00",
          "2007-04-06T00:00:00",
          "2007-04-14T00:00:00",
          "2007-04-21T00:00:00",
          "2007-04-26T00:00:00",
          "2007-05-03T00:00:00",
          "2007-05-11T00:00:00",
          "2007-05-19T00:00:00",
          "2007-05-25T00:00:00",
          "2007-06-03T00:00:00",
          "2007-06-09T00:00:00",
          "2007-06-17T00:00:00",
          "2007-08-03T00:00:00",
          "2007-08-08T00:00:00",
          "2007-08-12T00:00:00",
          "2007-08-19T00:00:00",
          "2007-08-25T00:00:00",
          "2007-08-29T00:00:00",
          "2007-09-02T00:00:00",
          "2007-09-05T00:00:00",
          "2007-09-09T00:00:00",
          "2007-09-12T00:00:00",
          "2007-09-15T00:00:00",
          "2007-09-23T00:00:00",
          "2007-09-28T00:00:00",
          "2007-10-03T00:00:00",
          "2007-10-07T00:00:00",
          "2007-10-21T00:00:00",
          "2007-11-04T00:00:00",
          "2007-11-11T00:00:00",
          "2007-11-25T00:00:00",
          "2007-11-30T00:00:00",
          "2007-12-07T00:00:00"
         ],
         "xaxis": "x",
         "y": [
          147,
          150,
          153,
          153,
          153,
          154,
          154,
          157,
          160,
          163,
          166,
          169,
          172,
          175,
          178,
          181,
          184,
          185,
          188,
          191,
          194,
          195,
          196,
          199,
          199,
          202,
          205,
          206,
          209,
          210,
          213,
          216,
          219,
          220,
          223,
          224,
          224,
          227,
          228,
          231,
          231,
          234,
          234,
          235,
          235,
          235,
          238,
          241,
          241,
          242,
          242,
          243,
          244,
          247,
          248,
          251,
          254,
          255,
          258,
          261
         ],
         "yaxis": "y"
        },
        {
         "hovertemplate": "tecnico=Sensini<br>fecha=%{x}<br>puntos_acum=%{y}<extra></extra>",
         "legendgroup": "Sensini",
         "line": {
          "color": "#19d3f3",
          "dash": "solid"
         },
         "mode": "lines",
         "name": "Sensini",
         "orientation": "v",
         "showlegend": true,
         "type": "scatter",
         "x": [
          "2008-02-08T00:00:00",
          "2008-02-12T00:00:00",
          "2008-02-16T00:00:00",
          "2008-02-22T00:00:00",
          "2008-02-26T00:00:00",
          "2008-03-01T00:00:00",
          "2008-03-05T00:00:00",
          "2008-03-09T00:00:00",
          "2008-03-14T00:00:00",
          "2008-03-18T00:00:00",
          "2008-03-22T00:00:00",
          "2008-03-29T00:00:00",
          "2008-04-02T00:00:00",
          "2008-04-05T00:00:00",
          "2008-04-11T00:00:00",
          "2008-04-15T00:00:00",
          "2008-04-20T00:00:00",
          "2008-04-25T00:00:00",
          "2008-04-29T00:00:00",
          "2008-05-03T00:00:00",
          "2008-05-06T00:00:00",
          "2008-05-11T00:00:00",
          "2008-05-17T00:00:00",
          "2008-05-25T00:00:00",
          "2008-06-01T00:00:00",
          "2008-06-08T00:00:00",
          "2008-06-22T00:00:00",
          "2008-08-05T00:00:00",
          "2008-08-09T00:00:00",
          "2008-08-15T00:00:00",
          "2008-08-24T00:00:00",
          "2008-08-31T00:00:00",
          "2008-09-14T00:00:00"
         ],
         "xaxis": "x",
         "y": [
          264,
          264,
          267,
          270,
          271,
          271,
          274,
          275,
          278,
          281,
          284,
          287,
          288,
          289,
          292,
          295,
          296,
          299,
          299,
          299,
          302,
          305,
          308,
          309,
          310,
          311,
          314,
          314,
          314,
          315,
          315,
          318,
          318
         ],
         "yaxis": "y"
        },
        {
         "hovertemplate": "tecnico=Astrada<br>fecha=%{x}<br>puntos_acum=%{y}<extra></extra>",
         "legendgroup": "Astrada",
         "line": {
          "color": "#FF6692",
          "dash": "solid"
         },
         "mode": "lines",
         "name": "Astrada",
         "orientation": "v",
         "showlegend": true,
         "type": "scatter",
         "x": [
          "2008-09-23T00:00:00",
          "2008-09-28T00:00:00",
          "2008-10-02T00:00:00",
          "2008-10-05T00:00:00",
          "2008-10-17T00:00:00",
          "2008-10-21T00:00:00",
          "2008-10-25T00:00:00",
          "2008-10-28T00:00:00",
          "2008-11-01T00:00:00",
          "2008-11-05T00:00:00",
          "2008-11-08T00:00:00",
          "2008-11-13T00:00:00",
          "2008-11-16T00:00:00",
          "2008-11-20T00:00:00",
          "2008-11-23T00:00:00",
          "2008-11-26T00:00:00",
          "2008-12-03T00:00:00",
          "2008-12-07T00:00:00",
          "2008-12-10T00:00:00",
          "2008-12-13T00:00:00",
          "2009-01-29T00:00:00",
          "2009-02-04T00:00:00",
          "2009-02-07T00:00:00",
          "2009-02-14T00:00:00",
          "2009-02-19T00:00:00",
          "2009-02-22T00:00:00",
          "2009-02-26T00:00:00",
          "2009-03-01T00:00:00",
          "2009-03-06T00:00:00"
         ],
         "xaxis": "x",
         "y": [
          322,
          325,
          326,
          329,
          332,
          335,
          336,
          339,
          339,
          340,
          343,
          344,
          344,
          347,
          350,
          350,
          351,
          354,
          354,
          355,
          355,
          358,
          359,
          359,
          359,
          362,
          365,
          365,
          365
         ],
         "yaxis": "y"
        },
        {
         "hovertemplate": "tecnico=Sabella<br>fecha=%{x}<br>puntos_acum=%{y}<extra></extra>",
         "legendgroup": "Sabella",
         "line": {
          "color": "#B6E880",
          "dash": "solid"
         },
         "mode": "lines",
         "name": "Sabella",
         "orientation": "v",
         "showlegend": true,
         "type": "scatter",
         "x": [
          "2009-03-19T00:00:00",
          "2009-03-22T00:00:00",
          "2009-04-05T00:00:00",
          "2009-04-08T00:00:00",
          "2009-04-12T00:00:00",
          "2009-04-17T00:00:00",
          "2009-04-22T00:00:00",
          "2009-04-25T00:00:00",
          "2009-05-02T00:00:00",
          "2009-05-07T00:00:00",
          "2009-05-10T00:00:00",
          "2009-05-14T00:00:00",
          "2009-05-17T00:00:00",
          "2009-05-23T00:00:00",
          "2009-05-28T00:00:00",
          "2009-05-31T00:00:00",
          "2009-06-13T00:00:00",
          "2009-06-18T00:00:00",
          "2009-06-21T00:00:00",
          "2009-06-25T00:00:00",
          "2009-07-01T00:00:00",
          "2009-07-04T00:00:00",
          "2009-07-08T00:00:00",
          "2009-07-15T00:00:00",
          "2009-08-22T00:00:00",
          "2009-08-29T00:00:00",
          "2009-09-02T00:00:00",
          "2009-09-13T00:00:00",
          "2009-09-18T00:00:00",
          "2009-09-26T00:00:00",
          "2009-10-03T00:00:00",
          "2009-10-09T00:00:00",
          "2009-10-18T00:00:00",
          "2009-10-23T00:00:00",
          "2009-10-27T00:00:00",
          "2009-11-02T00:00:00",
          "2009-11-08T00:00:00",
          "2009-11-11T00:00:00",
          "2009-11-16T00:00:00",
          "2009-11-20T00:00:00",
          "2009-11-25T00:00:00",
          "2009-11-28T00:00:00",
          "2009-12-03T00:00:00",
          "2009-12-15T00:00:00",
          "2010-01-29T00:00:00",
          "2010-02-03T00:00:00",
          "2010-02-07T00:00:00",
          "2010-02-11T00:00:00",
          "2010-02-14T00:00:00",
          "2010-02-18T00:00:00",
          "2010-02-22T00:00:00",
          "2010-02-26T00:00:00",
          "2010-03-03T00:00:00",
          "2010-03-06T00:00:00",
          "2010-03-09T00:00:00",
          "2010-03-13T00:00:00",
          "2010-03-19T00:00:00",
          "2010-03-23T00:00:00",
          "2010-03-26T00:00:00",
          "2010-03-30T00:00:00",
          "2010-04-04T00:00:00",
          "2010-04-08T00:00:00",
          "2010-04-12T00:00:00",
          "2010-04-17T00:00:00",
          "2010-04-20T00:00:00",
          "2010-04-24T00:00:00",
          "2010-04-27T00:00:00",
          "2010-05-02T00:00:00",
          "2010-05-05T00:00:00",
          "2010-05-09T00:00:00",
          "2010-05-13T00:00:00",
          "2010-05-16T00:00:00",
          "2010-05-20T00:00:00",
          "2010-08-07T00:00:00",
          "2010-08-15T00:00:00",
          "2010-08-20T00:00:00",
          "2010-08-25T00:00:00",
          "2010-09-03T00:00:00",
          "2010-09-08T00:00:00",
          "2010-09-11T00:00:00",
          "2010-09-16T00:00:00",
          "2010-09-19T00:00:00",
          "2010-09-22T00:00:00",
          "2010-09-25T00:00:00",
          "2010-09-29T00:00:00",
          "2010-10-03T00:00:00",
          "2010-10-08T00:00:00",
          "2010-10-16T00:00:00",
          "2010-10-22T00:00:00",
          "2010-11-05T00:00:00",
          "2010-11-13T00:00:00",
          "2010-11-20T00:00:00",
          "2010-11-28T00:00:00",
          "2010-12-04T00:00:00",
          "2010-12-08T00:00:00",
          "2010-12-12T00:00:00"
         ],
         "xaxis": "x",
         "y": [
          368,
          369,
          370,
          373,
          376,
          377,
          378,
          381,
          384,
          387,
          388,
          389,
          392,
          395,
          398,
          398,
          401,
          404,
          404,
          407,
          410,
          413,
          414,
          417,
          420,
          423,
          424,
          427,
          430,
          433,
          433,
          434,
          434,
          437,
          440,
          440,
          443,
          443,
          443,
          446,
          446,
          447,
          448,
          451,
          454,
          454,
          457,
          460,
          460,
          460,
          463,
          464,
          464,
          465,
          466,
          469,
          472,
          475,
          478,
          481,
          482,
          485,
          488,
          491,
          494,
          497,
          500,
          503,
          506,
          507,
          507,
          510,
          513,
          516,
          519,
          520,
          520,
          523,
          524,
          527,
          527,
          527,
          528,
          531,
          534,
          537,
          540,
          541,
          542,
          545,
          545,
          548,
          551,
          554,
          557,
          560
         ],
         "yaxis": "y"
        },
        {
         "hovertemplate": "tecnico=Berizzo<br>fecha=%{x}<br>puntos_acum=%{y}<extra></extra>",
         "legendgroup": "Berizzo",
         "line": {
          "color": "#FF97FF",
          "dash": "solid"
         },
         "mode": "lines",
         "name": "Berizzo",
         "orientation": "v",
         "showlegend": true,
         "type": "scatter",
         "x": [
          "2011-02-11T00:00:00",
          "2011-02-16T00:00:00",
          "2011-02-20T00:00:00",
          "2011-02-23T00:00:00",
          "2011-02-27T00:00:00",
          "2011-03-05T00:00:00",
          "2011-03-09T00:00:00",
          "2011-03-13T00:00:00",
          "2011-03-17T00:00:00",
          "2011-03-20T00:00:00",
          "2011-03-25T00:00:00",
          "2011-03-30T00:00:00",
          "2011-04-03T00:00:00",
          "2011-04-08T00:00:00",
          "2011-04-13T00:00:00",
          "2011-04-17T00:00:00",
          "2011-04-23T00:00:00",
          "2011-04-27T00:00:00",
          "2011-04-30T00:00:00",
          "2011-05-08T00:00:00",
          "2011-05-15T00:00:00",
          "2011-05-29T00:00:00"
         ],
         "xaxis": "x",
         "y": [
          567,
          567,
          570,
          573,
          573,
          576,
          579,
          579,
          582,
          585,
          588,
          589,
          589,
          590,
          590,
          591,
          591,
          592,
          592,
          593,
          594,
          594
         ],
         "yaxis": "y"
        },
        {
         "hovertemplate": "tecnico=Russo<br>fecha=%{x}<br>puntos_acum=%{y}<extra></extra>",
         "legendgroup": "Russo",
         "line": {
          "color": "#FECB52",
          "dash": "solid"
         },
         "mode": "lines",
         "name": "Russo",
         "orientation": "v",
         "showlegend": true,
         "type": "scatter",
         "x": [
          "2011-08-07T00:00:00",
          "2011-08-15T00:00:00",
          "2011-08-20T00:00:00",
          "2011-08-26T00:00:00",
          "2011-08-30T00:00:00",
          "2011-09-03T00:00:00",
          "2011-09-06T00:00:00",
          "2011-09-10T00:00:00",
          "2011-09-18T00:00:00",
          "2011-09-22T00:00:00",
          "2011-09-25T00:00:00",
          "2011-10-02T00:00:00",
          "2011-10-16T00:00:00",
          "2011-10-25T00:00:00",
          "2011-10-31T00:00:00",
          "2011-11-05T00:00:00"
         ],
         "xaxis": "x",
         "y": [
          600,
          600,
          600,
          601,
          601,
          601,
          604,
          604,
          607,
          607,
          607,
          608,
          611,
          611,
          612,
          612
         ],
         "yaxis": "y"
        },
        {
         "hovertemplate": "tecnico=Azconzabal<br>fecha=%{x}<br>puntos_acum=%{y}<extra></extra>",
         "legendgroup": "Azconzabal",
         "line": {
          "color": "#636efa",
          "dash": "solid"
         },
         "mode": "lines",
         "name": "Azconzabal",
         "orientation": "v",
         "showlegend": true,
         "type": "scatter",
         "x": [
          "2011-11-24T00:00:00",
          "2011-11-27T00:00:00",
          "2011-12-02T00:00:00",
          "2011-12-06T00:00:00",
          "2011-12-11T00:00:00",
          "2012-02-04T00:00:00",
          "2012-02-11T00:00:00",
          "2012-02-19T00:00:00",
          "2012-02-25T00:00:00",
          "2012-03-03T00:00:00",
          "2012-03-09T00:00:00",
          "2012-03-17T00:00:00",
          "2012-03-25T00:00:00",
          "2012-04-01T00:00:00",
          "2012-04-08T00:00:00",
          "2012-04-13T00:00:00",
          "2012-04-21T00:00:00"
         ],
         "xaxis": "x",
         "y": [
          615,
          618,
          621,
          622,
          625,
          628,
          629,
          630,
          633,
          636,
          639,
          640,
          643,
          643,
          643,
          644,
          644
         ],
         "yaxis": "y"
        },
        {
         "hovertemplate": "tecnico=Cagna<br>fecha=%{x}<br>puntos_acum=%{y}<extra></extra>",
         "legendgroup": "Cagna",
         "line": {
          "color": "#EF553B",
          "dash": "solid"
         },
         "mode": "lines",
         "name": "Cagna",
         "orientation": "v",
         "showlegend": true,
         "type": "scatter",
         "x": [
          "2012-08-06T00:00:00",
          "2012-08-11T00:00:00",
          "2012-08-18T00:00:00",
          "2012-08-27T00:00:00",
          "2012-09-01T00:00:00",
          "2012-09-08T00:00:00",
          "2012-09-15T00:00:00",
          "2012-09-24T00:00:00",
          "2012-09-29T00:00:00",
          "2012-10-06T00:00:00",
          "2012-10-21T00:00:00",
          "2012-10-27T00:00:00",
          "2012-11-03T00:00:00",
          "2012-11-10T00:00:00",
          "2012-11-13T00:00:00",
          "2012-11-17T00:00:00",
          "2012-11-25T00:00:00",
          "2012-12-03T00:00:00",
          "2012-12-08T00:00:00",
          "2013-02-09T00:00:00",
          "2013-02-17T00:00:00",
          "2013-02-22T00:00:00",
          "2013-03-02T00:00:00",
          "2013-03-09T00:00:00"
         ],
         "xaxis": "x",
         "y": [
          658,
          658,
          661,
          661,
          661,
          662,
          665,
          668,
          668,
          671,
          672,
          672,
          673,
          676,
          676,
          679,
          680,
          683,
          683,
          683,
          683,
          684,
          685,
          685
         ],
         "yaxis": "y"
        },
        {
         "hovertemplate": "tecnico=Pellegrino<br>fecha=%{x}<br>puntos_acum=%{y}<extra></extra>",
         "legendgroup": "Pellegrino",
         "line": {
          "color": "#00cc96",
          "dash": "solid"
         },
         "mode": "lines",
         "name": "Pellegrino",
         "orientation": "v",
         "showlegend": true,
         "type": "scatter",
         "x": [
          "2013-04-08T00:00:00",
          "2013-04-14T00:00:00",
          "2013-04-20T00:00:00",
          "2013-04-27T00:00:00",
          "2013-05-02T00:00:00",
          "2013-05-06T00:00:00",
          "2013-05-13T00:00:00",
          "2013-05-18T00:00:00",
          "2013-05-27T00:00:00",
          "2013-06-01T00:00:00",
          "2013-06-15T00:00:00",
          "2013-06-19T00:00:00",
          "2013-06-22T00:00:00",
          "2013-07-23T00:00:00",
          "2013-08-02T00:00:00",
          "2013-08-07T00:00:00",
          "2013-08-14T00:00:00",
          "2013-08-19T00:00:00",
          "2013-08-25T00:00:00",
          "2013-08-31T00:00:00",
          "2013-09-07T00:00:00",
          "2013-09-15T00:00:00",
          "2013-09-22T00:00:00",
          "2013-09-27T00:00:00",
          "2013-10-05T00:00:00",
          "2013-10-13T00:00:00",
          "2013-10-18T00:00:00",
          "2013-10-28T00:00:00",
          "2013-11-03T00:00:00",
          "2013-11-09T00:00:00",
          "2013-11-16T00:00:00",
          "2013-11-25T00:00:00",
          "2013-12-01T00:00:00",
          "2013-12-08T00:00:00",
          "2014-02-07T00:00:00",
          "2014-02-15T00:00:00",
          "2014-02-19T00:00:00",
          "2014-02-23T00:00:00",
          "2014-03-02T00:00:00",
          "2014-03-05T00:00:00",
          "2014-03-08T00:00:00",
          "2014-03-16T00:00:00",
          "2014-03-22T00:00:00",
          "2014-03-28T00:00:00",
          "2014-04-01T00:00:00",
          "2014-04-07T00:00:00",
          "2014-04-12T00:00:00",
          "2014-04-16T00:00:00",
          "2014-04-19T00:00:00",
          "2014-04-27T00:00:00",
          "2014-05-03T00:00:00",
          "2014-05-10T00:00:00",
          "2014-05-18T00:00:00",
          "2014-07-19T00:00:00",
          "2014-07-26T00:00:00",
          "2014-08-11T00:00:00",
          "2014-08-16T00:00:00",
          "2014-08-24T00:00:00",
          "2014-08-27T00:00:00",
          "2014-08-30T00:00:00",
          "2014-09-03T00:00:00",
          "2014-09-06T00:00:00",
          "2014-09-13T00:00:00",
          "2014-09-16T00:00:00",
          "2014-09-20T00:00:00",
          "2014-09-26T00:00:00",
          "2014-10-01T00:00:00",
          "2014-10-05T00:00:00",
          "2014-10-11T00:00:00",
          "2014-10-14T00:00:00",
          "2014-10-18T00:00:00",
          "2014-10-26T00:00:00",
          "2014-10-29T00:00:00",
          "2014-11-06T00:00:00",
          "2014-11-09T00:00:00",
          "2014-11-12T00:00:00",
          "2014-11-16T00:00:00",
          "2014-11-23T00:00:00",
          "2014-11-29T00:00:00",
          "2014-12-05T00:00:00",
          "2015-02-05T00:00:00",
          "2015-02-12T00:00:00",
          "2015-02-16T00:00:00",
          "2015-02-21T00:00:00",
          "2015-02-25T00:00:00",
          "2015-03-01T00:00:00",
          "2015-03-05T00:00:00",
          "2015-03-09T00:00:00",
          "2015-03-12T00:00:00",
          "2015-03-15T00:00:00",
          "2015-03-18T00:00:00",
          "2015-03-22T00:00:00",
          "2015-03-29T00:00:00",
          "2015-04-03T00:00:00",
          "2015-04-09T00:00:00",
          "2015-04-13T00:00:00"
         ],
         "xaxis": "x",
         "y": [
          686,
          687,
          687,
          690,
          693,
          694,
          697,
          700,
          701,
          702,
          702,
          705,
          706,
          709,
          713,
          716,
          716,
          717,
          720,
          721,
          722,
          722,
          723,
          724,
          725,
          728,
          728,
          731,
          734,
          735,
          735,
          738,
          739,
          739,
          742,
          745,
          748,
          748,
          749,
          750,
          751,
          754,
          755,
          756,
          757,
          760,
          763,
          764,
          765,
          765,
          768,
          771,
          771,
          774,
          774,
          774,
          777,
          777,
          780,
          780,
          781,
          784,
          784,
          787,
          788,
          791,
          794,
          797,
          797,
          800,
          801,
          804,
          804,
          804,
          807,
          810,
          811,
          812,
          812,
          815,
          817,
          820,
          823,
          826,
          829,
          832,
          833,
          833,
          833,
          834,
          837,
          837,
          837,
          838,
          838,
          838
         ],
         "yaxis": "y"
        },
        {
         "hovertemplate": "tecnico=Milito<br>fecha=%{x}<br>puntos_acum=%{y}<extra></extra>",
         "legendgroup": "Milito",
         "line": {
          "color": "#ab63fa",
          "dash": "solid"
         },
         "mode": "lines",
         "name": "Milito",
         "orientation": "v",
         "showlegend": true,
         "type": "scatter",
         "x": [
          "2015-04-17T00:00:00",
          "2015-04-21T00:00:00",
          "2015-05-02T00:00:00",
          "2015-05-05T00:00:00",
          "2015-05-08T00:00:00",
          "2015-05-12T00:00:00",
          "2015-05-23T00:00:00",
          "2015-05-31T00:00:00",
          "2015-06-04T00:00:00",
          "2015-06-08T00:00:00",
          "2015-07-10T00:00:00",
          "2015-07-20T00:00:00",
          "2015-07-26T00:00:00",
          "2015-08-01T00:00:00",
          "2015-08-15T00:00:00",
          "2015-08-23T00:00:00",
          "2015-08-30T00:00:00",
          "2015-09-07T00:00:00",
          "2015-09-13T00:00:00",
          "2015-09-19T00:00:00",
          "2015-09-23T00:00:00",
          "2015-09-28T00:00:00",
          "2015-10-03T00:00:00",
          "2015-10-17T00:00:00",
          "2015-10-31T00:00:00",
          "2015-11-07T00:00:00",
          "2015-11-20T00:00:00",
          "2015-11-28T00:00:00",
          "2015-12-05T00:00:00"
         ],
         "xaxis": "x",
         "y": [
          839,
          842,
          843,
          846,
          849,
          849,
          852,
          853,
          856,
          859,
          860,
          863,
          863,
          866,
          867,
          870,
          871,
          874,
          875,
          878,
          878,
          878,
          881,
          884,
          884,
          887,
          887,
          890,
          893
         ],
         "yaxis": "y"
        },
        {
         "hovertemplate": "tecnico=Vivas<br>fecha=%{x}<br>puntos_acum=%{y}<extra></extra>",
         "legendgroup": "Vivas",
         "line": {
          "color": "#FFA15A",
          "dash": "solid"
         },
         "mode": "lines",
         "name": "Vivas",
         "orientation": "v",
         "showlegend": true,
         "type": "scatter",
         "x": [
          "2016-01-14T00:00:00",
          "2016-01-27T00:00:00",
          "2016-01-31T00:00:00",
          "2016-02-08T00:00:00",
          "2016-02-13T00:00:00",
          "2016-02-18T00:00:00",
          "2016-02-23T00:00:00",
          "2016-02-27T00:00:00",
          "2016-03-05T00:00:00",
          "2016-03-13T00:00:00",
          "2016-03-18T00:00:00",
          "2016-04-01T00:00:00",
          "2016-04-11T00:00:00",
          "2016-04-17T00:00:00",
          "2016-04-23T00:00:00",
          "2016-04-29T00:00:00",
          "2016-05-07T00:00:00",
          "2016-05-15T00:00:00",
          "2016-05-22T00:00:00",
          "2016-05-28T00:00:00",
          "2016-07-16T00:00:00",
          "2016-08-13T00:00:00",
          "2016-08-24T00:00:00",
          "2016-08-28T00:00:00",
          "2016-09-11T00:00:00",
          "2016-09-15T00:00:00",
          "2016-09-18T00:00:00",
          "2016-09-25T00:00:00",
          "2016-10-02T00:00:00",
          "2016-10-15T00:00:00",
          "2016-10-23T00:00:00",
          "2016-10-29T00:00:00",
          "2016-11-05T00:00:00",
          "2016-11-19T00:00:00",
          "2016-11-26T00:00:00",
          "2016-12-04T00:00:00",
          "2016-12-11T00:00:00",
          "2016-12-17T00:00:00",
          "2017-01-15T00:00:00",
          "2017-01-21T00:00:00",
          "2017-01-27T00:00:00",
          "2017-03-09T00:00:00",
          "2017-03-14T00:00:00",
          "2017-03-19T00:00:00",
          "2017-03-25T00:00:00",
          "2017-04-02T00:00:00",
          "2017-04-07T00:00:00",
          "2017-04-11T00:00:00",
          "2017-04-15T00:00:00",
          "2017-04-19T00:00:00",
          "2017-04-23T00:00:00",
          "2017-04-28T00:00:00",
          "2017-05-02T00:00:00",
          "2017-05-06T00:00:00",
          "2017-05-13T00:00:00",
          "2017-05-18T00:00:00",
          "2017-05-22T00:00:00",
          "2017-05-25T00:00:00",
          "2017-05-29T00:00:00",
          "2017-06-03T00:00:00"
         ],
         "xaxis": "x",
         "y": [
          896,
          899,
          902,
          902,
          905,
          906,
          909,
          912,
          912,
          915,
          918,
          921,
          924,
          927,
          928,
          929,
          930,
          933,
          934,
          937,
          940,
          944,
          947,
          950,
          953,
          953,
          956,
          959,
          960,
          963,
          966,
          969,
          970,
          973,
          973,
          974,
          974,
          974,
          977,
          977,
          977,
          983,
          983,
          986,
          987,
          990,
          993,
          993,
          994,
          997,
          998,
          999,
          999,
          1000,
          1003,
          1006,
          1006,
          1009,
          1012,
          1012
         ],
         "yaxis": "y"
        },
        {
         "hovertemplate": "tecnico=Benitez<br>fecha=%{x}<br>puntos_acum=%{y}<extra></extra>",
         "legendgroup": "Benitez",
         "line": {
          "color": "#19d3f3",
          "dash": "solid"
         },
         "mode": "lines",
         "name": "Benitez",
         "orientation": "v",
         "showlegend": true,
         "type": "scatter",
         "x": [
          "2017-06-11T00:00:00",
          "2017-06-17T00:00:00",
          "2017-06-22T00:00:00",
          "2017-06-27T00:00:00"
         ],
         "xaxis": "x",
         "y": [
          1012,
          1015,
          1018,
          1021
         ],
         "yaxis": "y"
        },
        {
         "hovertemplate": "tecnico=Matosas<br>fecha=%{x}<br>puntos_acum=%{y}<extra></extra>",
         "legendgroup": "Matosas",
         "line": {
          "color": "#FF6692",
          "dash": "solid"
         },
         "mode": "lines",
         "name": "Matosas",
         "orientation": "v",
         "showlegend": true,
         "type": "scatter",
         "x": [
          "2017-07-13T00:00:00",
          "2017-08-03T00:00:00",
          "2017-08-23T00:00:00",
          "2017-08-28T00:00:00",
          "2017-09-09T00:00:00",
          "2017-09-15T00:00:00"
         ],
         "xaxis": "x",
         "y": [
          1024,
          1027,
          1031,
          1034,
          1034,
          1035
         ],
         "yaxis": "y"
        },
        {
         "hovertemplate": "tecnico=Bernardi<br>fecha=%{x}<br>puntos_acum=%{y}<extra></extra>",
         "legendgroup": "Bernardi",
         "line": {
          "color": "#B6E880",
          "dash": "solid"
         },
         "mode": "lines",
         "name": "Bernardi",
         "orientation": "v",
         "showlegend": true,
         "type": "scatter",
         "x": [
          "2017-09-30T00:00:00",
          "2017-10-14T00:00:00",
          "2017-10-28T00:00:00",
          "2017-11-05T00:00:00",
          "2017-11-19T00:00:00",
          "2017-11-26T00:00:00",
          "2017-12-03T00:00:00",
          "2017-12-10T00:00:00",
          "2018-01-29T00:00:00",
          "2018-02-04T00:00:00",
          "2018-02-10T00:00:00",
          "2018-02-16T00:00:00",
          "2018-02-23T00:00:00",
          "2018-02-28T00:00:00",
          "2018-03-05T00:00:00",
          "2018-03-11T00:00:00",
          "2018-03-14T00:00:00",
          "2018-03-18T00:00:00",
          "2018-03-31T00:00:00",
          "2018-04-05T00:00:00",
          "2018-04-09T00:00:00",
          "2018-04-15T00:00:00",
          "2018-04-20T00:00:00",
          "2018-04-24T00:00:00",
          "2018-05-01T00:00:00",
          "2018-05-06T00:00:00"
         ],
         "xaxis": "x",
         "y": [
          1038,
          1039,
          1039,
          1042,
          1042,
          1045,
          1048,
          1048,
          1056,
          1059,
          1060,
          1063,
          1063,
          1064,
          1067,
          1068,
          1071,
          1071,
          1072,
          1072,
          1072,
          1075,
          1075,
          1075,
          1076,
          1076
         ],
         "yaxis": "y"
        },
        {
         "hovertemplate": "tecnico=Benitez2<br>fecha=%{x}<br>puntos_acum=%{y}<extra></extra>",
         "legendgroup": "Benitez2",
         "line": {
          "color": "#FF97FF",
          "dash": "solid"
         },
         "mode": "lines",
         "name": "Benitez2",
         "orientation": "v",
         "showlegend": true,
         "type": "scatter",
         "x": [
          "2018-05-11T00:00:00",
          "2018-05-14T00:00:00",
          "2018-05-24T00:00:00",
          "2018-07-24T00:00:00",
          "2018-08-07T00:00:00",
          "2018-08-12T00:00:00",
          "2018-08-20T00:00:00",
          "2018-08-24T00:00:00",
          "2018-09-02T00:00:00",
          "2018-09-14T00:00:00",
          "2018-10-03T00:00:00",
          "2018-10-08T00:00:00",
          "2018-10-21T00:00:00",
          "2018-10-24T00:00:00",
          "2018-10-28T00:00:00",
          "2018-11-03T00:00:00",
          "2018-11-10T00:00:00",
          "2018-11-18T00:00:00",
          "2018-11-23T00:00:00",
          "2018-12-01T00:00:00",
          "2018-12-08T00:00:00",
          "2019-01-28T00:00:00",
          "2019-02-04T00:00:00",
          "2019-02-09T00:00:00",
          "2019-02-18T00:00:00",
          "2019-02-24T00:00:00"
         ],
         "xaxis": "x",
         "y": [
          1076,
          1077,
          1080,
          1089,
          1092,
          1092,
          1095,
          1095,
          1096,
          1096,
          1096,
          1096,
          1097,
          1100,
          1103,
          1106,
          1107,
          1108,
          1108,
          1109,
          1110,
          1113,
          1113,
          1116,
          1116,
          1116
         ],
         "yaxis": "y"
        },
        {
         "hovertemplate": "tecnico=Milito2<br>fecha=%{x}<br>puntos_acum=%{y}<extra></extra>",
         "legendgroup": "Milito2",
         "line": {
          "color": "#FECB52",
          "dash": "solid"
         },
         "mode": "lines",
         "name": "Milito2",
         "orientation": "v",
         "showlegend": true,
         "type": "scatter",
         "x": [
          "2019-03-18T00:00:00",
          "2019-04-01T00:00:00",
          "2019-04-06T00:00:00",
          "2019-04-14T00:00:00",
          "2019-04-19T00:00:00",
          "2019-04-27T00:00:00",
          "2019-05-04T00:00:00",
          "2019-05-22T00:00:00",
          "2019-07-20T00:00:00",
          "2019-07-28T00:00:00",
          "2019-08-04T00:00:00",
          "2019-08-19T00:00:00",
          "2019-08-25T00:00:00",
          "2019-08-30T00:00:00",
          "2019-09-15T00:00:00",
          "2019-09-21T00:00:00",
          "2019-09-28T00:00:00",
          "2019-10-05T00:00:00",
          "2019-10-16T00:00:00",
          "2019-10-21T00:00:00",
          "2019-10-29T00:00:00",
          "2019-11-02T00:00:00",
          "2019-11-08T00:00:00",
          "2019-11-25T00:00:00",
          "2019-11-30T00:00:00",
          "2019-12-09T00:00:00",
          "2020-01-25T00:00:00",
          "2020-02-01T00:00:00",
          "2020-02-08T00:00:00",
          "2020-02-17T00:00:00",
          "2020-02-23T00:00:00",
          "2020-03-01T00:00:00"
         ],
         "xaxis": "x",
         "y": [
          1122,
          1123,
          1124,
          1124,
          1127,
          1128,
          1129,
          1132,
          1135,
          1138,
          1138,
          1141,
          1141,
          1141,
          1141,
          1144,
          1144,
          1145,
          1145,
          1148,
          1151,
          1154,
          1157,
          1157,
          1158,
          1159,
          1160,
          1163,
          1164,
          1164,
          1164,
          1165
         ],
         "yaxis": "y"
        },
        {
         "hovertemplate": "tecnico=Desabato<br>fecha=%{x}<br>puntos_acum=%{y}<extra></extra>",
         "legendgroup": "Desabato",
         "line": {
          "color": "#636efa",
          "dash": "solid"
         },
         "mode": "lines",
         "name": "Desabato",
         "orientation": "v",
         "showlegend": true,
         "type": "scatter",
         "x": [
          "2020-03-09T00:00:00",
          "2020-10-31T00:00:00",
          "2020-11-07T00:00:00"
         ],
         "xaxis": "x",
         "y": [
          1165,
          1169,
          1169
         ],
         "yaxis": "y"
        }
       ],
       "layout": {
        "legend": {
         "title": {
          "text": "tecnico"
         },
         "tracegroupgap": 0
        },
        "margin": {
         "t": 60
        },
        "template": {
         "data": {
          "bar": [
           {
            "error_x": {
             "color": "#2a3f5f"
            },
            "error_y": {
             "color": "#2a3f5f"
            },
            "marker": {
             "line": {
              "color": "#E5ECF6",
              "width": 0.5
             }
            },
            "type": "bar"
           }
          ],
          "barpolar": [
           {
            "marker": {
             "line": {
              "color": "#E5ECF6",
              "width": 0.5
             }
            },
            "type": "barpolar"
           }
          ],
          "carpet": [
           {
            "aaxis": {
             "endlinecolor": "#2a3f5f",
             "gridcolor": "white",
             "linecolor": "white",
             "minorgridcolor": "white",
             "startlinecolor": "#2a3f5f"
            },
            "baxis": {
             "endlinecolor": "#2a3f5f",
             "gridcolor": "white",
             "linecolor": "white",
             "minorgridcolor": "white",
             "startlinecolor": "#2a3f5f"
            },
            "type": "carpet"
           }
          ],
          "choropleth": [
           {
            "colorbar": {
             "outlinewidth": 0,
             "ticks": ""
            },
            "type": "choropleth"
           }
          ],
          "contour": [
           {
            "colorbar": {
             "outlinewidth": 0,
             "ticks": ""
            },
            "colorscale": [
             [
              0,
              "#0d0887"
             ],
             [
              0.1111111111111111,
              "#46039f"
             ],
             [
              0.2222222222222222,
              "#7201a8"
             ],
             [
              0.3333333333333333,
              "#9c179e"
             ],
             [
              0.4444444444444444,
              "#bd3786"
             ],
             [
              0.5555555555555556,
              "#d8576b"
             ],
             [
              0.6666666666666666,
              "#ed7953"
             ],
             [
              0.7777777777777778,
              "#fb9f3a"
             ],
             [
              0.8888888888888888,
              "#fdca26"
             ],
             [
              1,
              "#f0f921"
             ]
            ],
            "type": "contour"
           }
          ],
          "contourcarpet": [
           {
            "colorbar": {
             "outlinewidth": 0,
             "ticks": ""
            },
            "type": "contourcarpet"
           }
          ],
          "heatmap": [
           {
            "colorbar": {
             "outlinewidth": 0,
             "ticks": ""
            },
            "colorscale": [
             [
              0,
              "#0d0887"
             ],
             [
              0.1111111111111111,
              "#46039f"
             ],
             [
              0.2222222222222222,
              "#7201a8"
             ],
             [
              0.3333333333333333,
              "#9c179e"
             ],
             [
              0.4444444444444444,
              "#bd3786"
             ],
             [
              0.5555555555555556,
              "#d8576b"
             ],
             [
              0.6666666666666666,
              "#ed7953"
             ],
             [
              0.7777777777777778,
              "#fb9f3a"
             ],
             [
              0.8888888888888888,
              "#fdca26"
             ],
             [
              1,
              "#f0f921"
             ]
            ],
            "type": "heatmap"
           }
          ],
          "heatmapgl": [
           {
            "colorbar": {
             "outlinewidth": 0,
             "ticks": ""
            },
            "colorscale": [
             [
              0,
              "#0d0887"
             ],
             [
              0.1111111111111111,
              "#46039f"
             ],
             [
              0.2222222222222222,
              "#7201a8"
             ],
             [
              0.3333333333333333,
              "#9c179e"
             ],
             [
              0.4444444444444444,
              "#bd3786"
             ],
             [
              0.5555555555555556,
              "#d8576b"
             ],
             [
              0.6666666666666666,
              "#ed7953"
             ],
             [
              0.7777777777777778,
              "#fb9f3a"
             ],
             [
              0.8888888888888888,
              "#fdca26"
             ],
             [
              1,
              "#f0f921"
             ]
            ],
            "type": "heatmapgl"
           }
          ],
          "histogram": [
           {
            "marker": {
             "colorbar": {
              "outlinewidth": 0,
              "ticks": ""
             }
            },
            "type": "histogram"
           }
          ],
          "histogram2d": [
           {
            "colorbar": {
             "outlinewidth": 0,
             "ticks": ""
            },
            "colorscale": [
             [
              0,
              "#0d0887"
             ],
             [
              0.1111111111111111,
              "#46039f"
             ],
             [
              0.2222222222222222,
              "#7201a8"
             ],
             [
              0.3333333333333333,
              "#9c179e"
             ],
             [
              0.4444444444444444,
              "#bd3786"
             ],
             [
              0.5555555555555556,
              "#d8576b"
             ],
             [
              0.6666666666666666,
              "#ed7953"
             ],
             [
              0.7777777777777778,
              "#fb9f3a"
             ],
             [
              0.8888888888888888,
              "#fdca26"
             ],
             [
              1,
              "#f0f921"
             ]
            ],
            "type": "histogram2d"
           }
          ],
          "histogram2dcontour": [
           {
            "colorbar": {
             "outlinewidth": 0,
             "ticks": ""
            },
            "colorscale": [
             [
              0,
              "#0d0887"
             ],
             [
              0.1111111111111111,
              "#46039f"
             ],
             [
              0.2222222222222222,
              "#7201a8"
             ],
             [
              0.3333333333333333,
              "#9c179e"
             ],
             [
              0.4444444444444444,
              "#bd3786"
             ],
             [
              0.5555555555555556,
              "#d8576b"
             ],
             [
              0.6666666666666666,
              "#ed7953"
             ],
             [
              0.7777777777777778,
              "#fb9f3a"
             ],
             [
              0.8888888888888888,
              "#fdca26"
             ],
             [
              1,
              "#f0f921"
             ]
            ],
            "type": "histogram2dcontour"
           }
          ],
          "mesh3d": [
           {
            "colorbar": {
             "outlinewidth": 0,
             "ticks": ""
            },
            "type": "mesh3d"
           }
          ],
          "parcoords": [
           {
            "line": {
             "colorbar": {
              "outlinewidth": 0,
              "ticks": ""
             }
            },
            "type": "parcoords"
           }
          ],
          "pie": [
           {
            "automargin": true,
            "type": "pie"
           }
          ],
          "scatter": [
           {
            "marker": {
             "colorbar": {
              "outlinewidth": 0,
              "ticks": ""
             }
            },
            "type": "scatter"
           }
          ],
          "scatter3d": [
           {
            "line": {
             "colorbar": {
              "outlinewidth": 0,
              "ticks": ""
             }
            },
            "marker": {
             "colorbar": {
              "outlinewidth": 0,
              "ticks": ""
             }
            },
            "type": "scatter3d"
           }
          ],
          "scattercarpet": [
           {
            "marker": {
             "colorbar": {
              "outlinewidth": 0,
              "ticks": ""
             }
            },
            "type": "scattercarpet"
           }
          ],
          "scattergeo": [
           {
            "marker": {
             "colorbar": {
              "outlinewidth": 0,
              "ticks": ""
             }
            },
            "type": "scattergeo"
           }
          ],
          "scattergl": [
           {
            "marker": {
             "colorbar": {
              "outlinewidth": 0,
              "ticks": ""
             }
            },
            "type": "scattergl"
           }
          ],
          "scattermapbox": [
           {
            "marker": {
             "colorbar": {
              "outlinewidth": 0,
              "ticks": ""
             }
            },
            "type": "scattermapbox"
           }
          ],
          "scatterpolar": [
           {
            "marker": {
             "colorbar": {
              "outlinewidth": 0,
              "ticks": ""
             }
            },
            "type": "scatterpolar"
           }
          ],
          "scatterpolargl": [
           {
            "marker": {
             "colorbar": {
              "outlinewidth": 0,
              "ticks": ""
             }
            },
            "type": "scatterpolargl"
           }
          ],
          "scatterternary": [
           {
            "marker": {
             "colorbar": {
              "outlinewidth": 0,
              "ticks": ""
             }
            },
            "type": "scatterternary"
           }
          ],
          "surface": [
           {
            "colorbar": {
             "outlinewidth": 0,
             "ticks": ""
            },
            "colorscale": [
             [
              0,
              "#0d0887"
             ],
             [
              0.1111111111111111,
              "#46039f"
             ],
             [
              0.2222222222222222,
              "#7201a8"
             ],
             [
              0.3333333333333333,
              "#9c179e"
             ],
             [
              0.4444444444444444,
              "#bd3786"
             ],
             [
              0.5555555555555556,
              "#d8576b"
             ],
             [
              0.6666666666666666,
              "#ed7953"
             ],
             [
              0.7777777777777778,
              "#fb9f3a"
             ],
             [
              0.8888888888888888,
              "#fdca26"
             ],
             [
              1,
              "#f0f921"
             ]
            ],
            "type": "surface"
           }
          ],
          "table": [
           {
            "cells": {
             "fill": {
              "color": "#EBF0F8"
             },
             "line": {
              "color": "white"
             }
            },
            "header": {
             "fill": {
              "color": "#C8D4E3"
             },
             "line": {
              "color": "white"
             }
            },
            "type": "table"
           }
          ]
         },
         "layout": {
          "annotationdefaults": {
           "arrowcolor": "#2a3f5f",
           "arrowhead": 0,
           "arrowwidth": 1
          },
          "coloraxis": {
           "colorbar": {
            "outlinewidth": 0,
            "ticks": ""
           }
          },
          "colorscale": {
           "diverging": [
            [
             0,
             "#8e0152"
            ],
            [
             0.1,
             "#c51b7d"
            ],
            [
             0.2,
             "#de77ae"
            ],
            [
             0.3,
             "#f1b6da"
            ],
            [
             0.4,
             "#fde0ef"
            ],
            [
             0.5,
             "#f7f7f7"
            ],
            [
             0.6,
             "#e6f5d0"
            ],
            [
             0.7,
             "#b8e186"
            ],
            [
             0.8,
             "#7fbc41"
            ],
            [
             0.9,
             "#4d9221"
            ],
            [
             1,
             "#276419"
            ]
           ],
           "sequential": [
            [
             0,
             "#0d0887"
            ],
            [
             0.1111111111111111,
             "#46039f"
            ],
            [
             0.2222222222222222,
             "#7201a8"
            ],
            [
             0.3333333333333333,
             "#9c179e"
            ],
            [
             0.4444444444444444,
             "#bd3786"
            ],
            [
             0.5555555555555556,
             "#d8576b"
            ],
            [
             0.6666666666666666,
             "#ed7953"
            ],
            [
             0.7777777777777778,
             "#fb9f3a"
            ],
            [
             0.8888888888888888,
             "#fdca26"
            ],
            [
             1,
             "#f0f921"
            ]
           ],
           "sequentialminus": [
            [
             0,
             "#0d0887"
            ],
            [
             0.1111111111111111,
             "#46039f"
            ],
            [
             0.2222222222222222,
             "#7201a8"
            ],
            [
             0.3333333333333333,
             "#9c179e"
            ],
            [
             0.4444444444444444,
             "#bd3786"
            ],
            [
             0.5555555555555556,
             "#d8576b"
            ],
            [
             0.6666666666666666,
             "#ed7953"
            ],
            [
             0.7777777777777778,
             "#fb9f3a"
            ],
            [
             0.8888888888888888,
             "#fdca26"
            ],
            [
             1,
             "#f0f921"
            ]
           ]
          },
          "colorway": [
           "#636efa",
           "#EF553B",
           "#00cc96",
           "#ab63fa",
           "#FFA15A",
           "#19d3f3",
           "#FF6692",
           "#B6E880",
           "#FF97FF",
           "#FECB52"
          ],
          "font": {
           "color": "#2a3f5f"
          },
          "geo": {
           "bgcolor": "white",
           "lakecolor": "white",
           "landcolor": "#E5ECF6",
           "showlakes": true,
           "showland": true,
           "subunitcolor": "white"
          },
          "hoverlabel": {
           "align": "left"
          },
          "hovermode": "closest",
          "mapbox": {
           "style": "light"
          },
          "paper_bgcolor": "white",
          "plot_bgcolor": "#E5ECF6",
          "polar": {
           "angularaxis": {
            "gridcolor": "white",
            "linecolor": "white",
            "ticks": ""
           },
           "bgcolor": "#E5ECF6",
           "radialaxis": {
            "gridcolor": "white",
            "linecolor": "white",
            "ticks": ""
           }
          },
          "scene": {
           "xaxis": {
            "backgroundcolor": "#E5ECF6",
            "gridcolor": "white",
            "gridwidth": 2,
            "linecolor": "white",
            "showbackground": true,
            "ticks": "",
            "zerolinecolor": "white"
           },
           "yaxis": {
            "backgroundcolor": "#E5ECF6",
            "gridcolor": "white",
            "gridwidth": 2,
            "linecolor": "white",
            "showbackground": true,
            "ticks": "",
            "zerolinecolor": "white"
           },
           "zaxis": {
            "backgroundcolor": "#E5ECF6",
            "gridcolor": "white",
            "gridwidth": 2,
            "linecolor": "white",
            "showbackground": true,
            "ticks": "",
            "zerolinecolor": "white"
           }
          },
          "shapedefaults": {
           "line": {
            "color": "#2a3f5f"
           }
          },
          "ternary": {
           "aaxis": {
            "gridcolor": "white",
            "linecolor": "white",
            "ticks": ""
           },
           "baxis": {
            "gridcolor": "white",
            "linecolor": "white",
            "ticks": ""
           },
           "bgcolor": "#E5ECF6",
           "caxis": {
            "gridcolor": "white",
            "linecolor": "white",
            "ticks": ""
           }
          },
          "title": {
           "x": 0.05
          },
          "xaxis": {
           "automargin": true,
           "gridcolor": "white",
           "linecolor": "white",
           "ticks": "",
           "title": {
            "standoff": 15
           },
           "zerolinecolor": "white",
           "zerolinewidth": 2
          },
          "yaxis": {
           "automargin": true,
           "gridcolor": "white",
           "linecolor": "white",
           "ticks": "",
           "title": {
            "standoff": 15
           },
           "zerolinecolor": "white",
           "zerolinewidth": 2
          }
         }
        },
        "xaxis": {
         "anchor": "y",
         "domain": [
          0,
          1
         ],
         "title": {
          "text": "fecha"
         }
        },
        "yaxis": {
         "anchor": "x",
         "domain": [
          0,
          1
         ],
         "title": {
          "text": "puntos_acum"
         }
        }
       }
      },
      "text/html": [
       "<div>                            <div id=\"c2fb1039-3731-48e4-87f3-7463254fdd87\" class=\"plotly-graph-div\" style=\"height:525px; width:100%;\"></div>            <script type=\"text/javascript\">                require([\"plotly\"], function(Plotly) {                    window.PLOTLYENV=window.PLOTLYENV || {};                                    if (document.getElementById(\"c2fb1039-3731-48e4-87f3-7463254fdd87\")) {                    Plotly.newPlot(                        \"c2fb1039-3731-48e4-87f3-7463254fdd87\",                        [{\"hovertemplate\": \"tecnico=Bilardo<br>fecha=%{x}<br>puntos_acum=%{y}<extra></extra>\", \"legendgroup\": \"Bilardo\", \"line\": {\"color\": \"#636efa\", \"dash\": \"solid\"}, \"mode\": \"lines\", \"name\": \"Bilardo\", \"orientation\": \"v\", \"showlegend\": true, \"type\": \"scatter\", \"x\": [\"2004-04-16T00:00:00\", \"2004-04-24T00:00:00\", \"2004-05-01T00:00:00\", \"2004-05-07T00:00:00\", \"2004-05-15T00:00:00\", \"2004-05-21T00:00:00\", \"2004-05-27T00:00:00\", \"2004-06-12T00:00:00\", \"2004-06-18T00:00:00\"], \"xaxis\": \"x\", \"y\": [0, 1, 1, 4, 7, 10, 10, 11, 11], \"yaxis\": \"y\"}, {\"hovertemplate\": \"tecnico=vacio<br>fecha=%{x}<br>puntos_acum=%{y}<extra></extra>\", \"legendgroup\": \"vacio\", \"line\": {\"color\": \"#EF553B\", \"dash\": \"solid\"}, \"mode\": \"lines\", \"name\": \"vacio\", \"orientation\": \"v\", \"showlegend\": true, \"type\": \"scatter\", \"x\": [\"2004-06-25T00:00:00\", \"2008-09-17T00:00:00\", \"2008-09-20T00:00:00\", \"2009-03-10T00:00:00\", \"2009-03-14T00:00:00\", \"2011-06-02T00:00:00\", \"2011-06-06T00:00:00\", \"2011-06-12T00:00:00\", \"2011-06-19T00:00:00\", \"2012-04-27T00:00:00\", \"2012-05-06T00:00:00\", \"2012-05-11T00:00:00\", \"2012-05-19T00:00:00\", \"2012-05-28T00:00:00\", \"2012-06-10T00:00:00\", \"2012-06-16T00:00:00\", \"2012-06-24T00:00:00\", \"2013-03-17T00:00:00\", \"2013-03-30T00:00:00\", \"2017-09-19T00:00:00\", \"2017-09-25T00:00:00\", \"2019-03-03T00:00:00\", \"2019-03-10T00:00:00\"], \"xaxis\": \"x\", \"y\": [12, 319, 319, 365, 365, 597, 598, 599, 599, 644, 644, 647, 650, 651, 651, 654, 655, 686, 686, 1035, 1035, 1116, 1119], \"yaxis\": \"y\"}, {\"hovertemplate\": \"tecnico=Merlo<br>fecha=%{x}<br>puntos_acum=%{y}<extra></extra>\", \"legendgroup\": \"Merlo\", \"line\": {\"color\": \"#00cc96\", \"dash\": \"solid\"}, \"mode\": \"lines\", \"name\": \"Merlo\", \"orientation\": \"v\", \"showlegend\": true, \"type\": \"scatter\", \"x\": [\"2004-08-14T00:00:00\", \"2004-08-21T00:00:00\", \"2004-08-24T00:00:00\", \"2004-08-28T00:00:00\", \"2004-09-11T00:00:00\", \"2004-09-18T00:00:00\", \"2004-09-22T00:00:00\", \"2004-09-25T00:00:00\", \"2004-09-30T00:00:00\", \"2004-10-15T00:00:00\", \"2004-10-19T00:00:00\", \"2004-10-23T00:00:00\", \"2004-10-30T00:00:00\", \"2004-11-06T00:00:00\", \"2004-11-12T00:00:00\", \"2004-11-20T00:00:00\", \"2004-11-25T00:00:00\", \"2004-12-04T00:00:00\", \"2004-12-10T00:00:00\", \"2005-02-12T00:00:00\", \"2005-02-19T00:00:00\", \"2005-02-26T00:00:00\", \"2005-03-05T00:00:00\", \"2005-03-12T00:00:00\", \"2005-03-19T00:00:00\", \"2005-04-02T00:00:00\", \"2005-04-07T00:00:00\", \"2005-04-16T00:00:00\", \"2005-04-22T00:00:00\", \"2005-04-29T00:00:00\", \"2005-05-07T00:00:00\", \"2005-05-12T00:00:00\", \"2005-05-21T00:00:00\", \"2005-05-28T00:00:00\", \"2005-06-11T00:00:00\", \"2005-06-17T00:00:00\", \"2005-06-25T00:00:00\", \"2005-07-02T00:00:00\"], \"xaxis\": \"x\", \"y\": [13, 14, 17, 20, 23, 24, 27, 28, 28, 29, 32, 35, 36, 39, 40, 41, 42, 42, 42, 45, 48, 49, 49, 52, 55, 56, 57, 60, 63, 66, 67, 67, 70, 71, 71, 72, 72, 73], \"yaxis\": \"y\"}, {\"hovertemplate\": \"tecnico=Burruchaga<br>fecha=%{x}<br>puntos_acum=%{y}<extra></extra>\", \"legendgroup\": \"Burruchaga\", \"line\": {\"color\": \"#ab63fa\", \"dash\": \"solid\"}, \"mode\": \"lines\", \"name\": \"Burruchaga\", \"orientation\": \"v\", \"showlegend\": true, \"type\": \"scatter\", \"x\": [\"2005-08-09T00:00:00\", \"2005-08-13T00:00:00\", \"2005-08-18T00:00:00\", \"2005-08-24T00:00:00\", \"2005-08-27T00:00:00\", \"2005-09-01T00:00:00\", \"2005-09-05T00:00:00\", \"2005-09-08T00:00:00\", \"2005-09-16T00:00:00\", \"2005-09-24T00:00:00\", \"2005-09-29T00:00:00\", \"2005-10-03T00:00:00\", \"2005-10-15T00:00:00\", \"2005-10-20T00:00:00\", \"2005-11-05T00:00:00\", \"2005-11-11T00:00:00\", \"2005-11-15T00:00:00\", \"2005-11-19T00:00:00\", \"2005-11-26T00:00:00\", \"2005-12-02T00:00:00\", \"2005-12-09T00:00:00\", \"2006-01-26T00:00:00\", \"2006-01-30T00:00:00\", \"2006-02-02T00:00:00\", \"2006-02-06T00:00:00\", \"2006-02-11T00:00:00\", \"2006-02-16T00:00:00\", \"2006-02-20T00:00:00\", \"2006-02-24T00:00:00\", \"2006-02-28T00:00:00\", \"2006-03-04T00:00:00\", \"2006-03-08T00:00:00\", \"2006-03-11T00:00:00\", \"2006-03-16T00:00:00\", \"2006-03-20T00:00:00\", \"2006-03-25T00:00:00\", \"2006-03-28T00:00:00\", \"2006-03-31T00:00:00\", \"2006-04-03T00:00:00\", \"2006-04-07T00:00:00\", \"2006-04-12T00:00:00\", \"2006-04-15T00:00:00\", \"2006-04-21T00:00:00\", \"2006-04-24T00:00:00\", \"2006-04-29T00:00:00\", \"2006-05-03T00:00:00\", \"2006-05-06T00:00:00\", \"2006-05-09T00:00:00\", \"2006-05-13T00:00:00\"], \"xaxis\": \"x\", \"y\": [73, 73, 73, 76, 79, 80, 80, 83, 86, 89, 89, 92, 92, 95, 98, 101, 102, 102, 102, 103, 104, 107, 110, 111, 111, 112, 115, 118, 118, 118, 118, 118, 121, 121, 124, 124, 127, 128, 129, 129, 132, 135, 136, 139, 139, 139, 140, 143, 144], \"yaxis\": \"y\"}, {\"hovertemplate\": \"tecnico=Simeone<br>fecha=%{x}<br>puntos_acum=%{y}<extra></extra>\", \"legendgroup\": \"Simeone\", \"line\": {\"color\": \"#FFA15A\", \"dash\": \"solid\"}, \"mode\": \"lines\", \"name\": \"Simeone\", \"orientation\": \"v\", \"showlegend\": true, \"type\": \"scatter\", \"x\": [\"2006-08-05T00:00:00\", \"2006-08-12T00:00:00\", \"2006-08-19T00:00:00\", \"2006-08-26T00:00:00\", \"2006-09-02T00:00:00\", \"2006-09-07T00:00:00\", \"2006-09-16T00:00:00\", \"2006-09-21T00:00:00\", \"2006-09-29T00:00:00\", \"2006-10-06T00:00:00\", \"2006-10-14T00:00:00\", \"2006-10-21T00:00:00\", \"2006-10-27T00:00:00\", \"2006-11-03T00:00:00\", \"2006-11-10T00:00:00\", \"2006-11-17T00:00:00\", \"2006-11-24T00:00:00\", \"2006-12-02T00:00:00\", \"2006-12-09T00:00:00\", \"2006-12-12T00:00:00\", \"2007-02-11T00:00:00\", \"2007-02-16T00:00:00\", \"2007-02-22T00:00:00\", \"2007-03-02T00:00:00\", \"2007-03-09T00:00:00\", \"2007-03-15T00:00:00\", \"2007-03-24T00:00:00\", \"2007-03-31T00:00:00\", \"2007-04-06T00:00:00\", \"2007-04-14T00:00:00\", \"2007-04-21T00:00:00\", \"2007-04-26T00:00:00\", \"2007-05-03T00:00:00\", \"2007-05-11T00:00:00\", \"2007-05-19T00:00:00\", \"2007-05-25T00:00:00\", \"2007-06-03T00:00:00\", \"2007-06-09T00:00:00\", \"2007-06-17T00:00:00\", \"2007-08-03T00:00:00\", \"2007-08-08T00:00:00\", \"2007-08-12T00:00:00\", \"2007-08-19T00:00:00\", \"2007-08-25T00:00:00\", \"2007-08-29T00:00:00\", \"2007-09-02T00:00:00\", \"2007-09-05T00:00:00\", \"2007-09-09T00:00:00\", \"2007-09-12T00:00:00\", \"2007-09-15T00:00:00\", \"2007-09-23T00:00:00\", \"2007-09-28T00:00:00\", \"2007-10-03T00:00:00\", \"2007-10-07T00:00:00\", \"2007-10-21T00:00:00\", \"2007-11-04T00:00:00\", \"2007-11-11T00:00:00\", \"2007-11-25T00:00:00\", \"2007-11-30T00:00:00\", \"2007-12-07T00:00:00\"], \"xaxis\": \"x\", \"y\": [147, 150, 153, 153, 153, 154, 154, 157, 160, 163, 166, 169, 172, 175, 178, 181, 184, 185, 188, 191, 194, 195, 196, 199, 199, 202, 205, 206, 209, 210, 213, 216, 219, 220, 223, 224, 224, 227, 228, 231, 231, 234, 234, 235, 235, 235, 238, 241, 241, 242, 242, 243, 244, 247, 248, 251, 254, 255, 258, 261], \"yaxis\": \"y\"}, {\"hovertemplate\": \"tecnico=Sensini<br>fecha=%{x}<br>puntos_acum=%{y}<extra></extra>\", \"legendgroup\": \"Sensini\", \"line\": {\"color\": \"#19d3f3\", \"dash\": \"solid\"}, \"mode\": \"lines\", \"name\": \"Sensini\", \"orientation\": \"v\", \"showlegend\": true, \"type\": \"scatter\", \"x\": [\"2008-02-08T00:00:00\", \"2008-02-12T00:00:00\", \"2008-02-16T00:00:00\", \"2008-02-22T00:00:00\", \"2008-02-26T00:00:00\", \"2008-03-01T00:00:00\", \"2008-03-05T00:00:00\", \"2008-03-09T00:00:00\", \"2008-03-14T00:00:00\", \"2008-03-18T00:00:00\", \"2008-03-22T00:00:00\", \"2008-03-29T00:00:00\", \"2008-04-02T00:00:00\", \"2008-04-05T00:00:00\", \"2008-04-11T00:00:00\", \"2008-04-15T00:00:00\", \"2008-04-20T00:00:00\", \"2008-04-25T00:00:00\", \"2008-04-29T00:00:00\", \"2008-05-03T00:00:00\", \"2008-05-06T00:00:00\", \"2008-05-11T00:00:00\", \"2008-05-17T00:00:00\", \"2008-05-25T00:00:00\", \"2008-06-01T00:00:00\", \"2008-06-08T00:00:00\", \"2008-06-22T00:00:00\", \"2008-08-05T00:00:00\", \"2008-08-09T00:00:00\", \"2008-08-15T00:00:00\", \"2008-08-24T00:00:00\", \"2008-08-31T00:00:00\", \"2008-09-14T00:00:00\"], \"xaxis\": \"x\", \"y\": [264, 264, 267, 270, 271, 271, 274, 275, 278, 281, 284, 287, 288, 289, 292, 295, 296, 299, 299, 299, 302, 305, 308, 309, 310, 311, 314, 314, 314, 315, 315, 318, 318], \"yaxis\": \"y\"}, {\"hovertemplate\": \"tecnico=Astrada<br>fecha=%{x}<br>puntos_acum=%{y}<extra></extra>\", \"legendgroup\": \"Astrada\", \"line\": {\"color\": \"#FF6692\", \"dash\": \"solid\"}, \"mode\": \"lines\", \"name\": \"Astrada\", \"orientation\": \"v\", \"showlegend\": true, \"type\": \"scatter\", \"x\": [\"2008-09-23T00:00:00\", \"2008-09-28T00:00:00\", \"2008-10-02T00:00:00\", \"2008-10-05T00:00:00\", \"2008-10-17T00:00:00\", \"2008-10-21T00:00:00\", \"2008-10-25T00:00:00\", \"2008-10-28T00:00:00\", \"2008-11-01T00:00:00\", \"2008-11-05T00:00:00\", \"2008-11-08T00:00:00\", \"2008-11-13T00:00:00\", \"2008-11-16T00:00:00\", \"2008-11-20T00:00:00\", \"2008-11-23T00:00:00\", \"2008-11-26T00:00:00\", \"2008-12-03T00:00:00\", \"2008-12-07T00:00:00\", \"2008-12-10T00:00:00\", \"2008-12-13T00:00:00\", \"2009-01-29T00:00:00\", \"2009-02-04T00:00:00\", \"2009-02-07T00:00:00\", \"2009-02-14T00:00:00\", \"2009-02-19T00:00:00\", \"2009-02-22T00:00:00\", \"2009-02-26T00:00:00\", \"2009-03-01T00:00:00\", \"2009-03-06T00:00:00\"], \"xaxis\": \"x\", \"y\": [322, 325, 326, 329, 332, 335, 336, 339, 339, 340, 343, 344, 344, 347, 350, 350, 351, 354, 354, 355, 355, 358, 359, 359, 359, 362, 365, 365, 365], \"yaxis\": \"y\"}, {\"hovertemplate\": \"tecnico=Sabella<br>fecha=%{x}<br>puntos_acum=%{y}<extra></extra>\", \"legendgroup\": \"Sabella\", \"line\": {\"color\": \"#B6E880\", \"dash\": \"solid\"}, \"mode\": \"lines\", \"name\": \"Sabella\", \"orientation\": \"v\", \"showlegend\": true, \"type\": \"scatter\", \"x\": [\"2009-03-19T00:00:00\", \"2009-03-22T00:00:00\", \"2009-04-05T00:00:00\", \"2009-04-08T00:00:00\", \"2009-04-12T00:00:00\", \"2009-04-17T00:00:00\", \"2009-04-22T00:00:00\", \"2009-04-25T00:00:00\", \"2009-05-02T00:00:00\", \"2009-05-07T00:00:00\", \"2009-05-10T00:00:00\", \"2009-05-14T00:00:00\", \"2009-05-17T00:00:00\", \"2009-05-23T00:00:00\", \"2009-05-28T00:00:00\", \"2009-05-31T00:00:00\", \"2009-06-13T00:00:00\", \"2009-06-18T00:00:00\", \"2009-06-21T00:00:00\", \"2009-06-25T00:00:00\", \"2009-07-01T00:00:00\", \"2009-07-04T00:00:00\", \"2009-07-08T00:00:00\", \"2009-07-15T00:00:00\", \"2009-08-22T00:00:00\", \"2009-08-29T00:00:00\", \"2009-09-02T00:00:00\", \"2009-09-13T00:00:00\", \"2009-09-18T00:00:00\", \"2009-09-26T00:00:00\", \"2009-10-03T00:00:00\", \"2009-10-09T00:00:00\", \"2009-10-18T00:00:00\", \"2009-10-23T00:00:00\", \"2009-10-27T00:00:00\", \"2009-11-02T00:00:00\", \"2009-11-08T00:00:00\", \"2009-11-11T00:00:00\", \"2009-11-16T00:00:00\", \"2009-11-20T00:00:00\", \"2009-11-25T00:00:00\", \"2009-11-28T00:00:00\", \"2009-12-03T00:00:00\", \"2009-12-15T00:00:00\", \"2010-01-29T00:00:00\", \"2010-02-03T00:00:00\", \"2010-02-07T00:00:00\", \"2010-02-11T00:00:00\", \"2010-02-14T00:00:00\", \"2010-02-18T00:00:00\", \"2010-02-22T00:00:00\", \"2010-02-26T00:00:00\", \"2010-03-03T00:00:00\", \"2010-03-06T00:00:00\", \"2010-03-09T00:00:00\", \"2010-03-13T00:00:00\", \"2010-03-19T00:00:00\", \"2010-03-23T00:00:00\", \"2010-03-26T00:00:00\", \"2010-03-30T00:00:00\", \"2010-04-04T00:00:00\", \"2010-04-08T00:00:00\", \"2010-04-12T00:00:00\", \"2010-04-17T00:00:00\", \"2010-04-20T00:00:00\", \"2010-04-24T00:00:00\", \"2010-04-27T00:00:00\", \"2010-05-02T00:00:00\", \"2010-05-05T00:00:00\", \"2010-05-09T00:00:00\", \"2010-05-13T00:00:00\", \"2010-05-16T00:00:00\", \"2010-05-20T00:00:00\", \"2010-08-07T00:00:00\", \"2010-08-15T00:00:00\", \"2010-08-20T00:00:00\", \"2010-08-25T00:00:00\", \"2010-09-03T00:00:00\", \"2010-09-08T00:00:00\", \"2010-09-11T00:00:00\", \"2010-09-16T00:00:00\", \"2010-09-19T00:00:00\", \"2010-09-22T00:00:00\", \"2010-09-25T00:00:00\", \"2010-09-29T00:00:00\", \"2010-10-03T00:00:00\", \"2010-10-08T00:00:00\", \"2010-10-16T00:00:00\", \"2010-10-22T00:00:00\", \"2010-11-05T00:00:00\", \"2010-11-13T00:00:00\", \"2010-11-20T00:00:00\", \"2010-11-28T00:00:00\", \"2010-12-04T00:00:00\", \"2010-12-08T00:00:00\", \"2010-12-12T00:00:00\"], \"xaxis\": \"x\", \"y\": [368, 369, 370, 373, 376, 377, 378, 381, 384, 387, 388, 389, 392, 395, 398, 398, 401, 404, 404, 407, 410, 413, 414, 417, 420, 423, 424, 427, 430, 433, 433, 434, 434, 437, 440, 440, 443, 443, 443, 446, 446, 447, 448, 451, 454, 454, 457, 460, 460, 460, 463, 464, 464, 465, 466, 469, 472, 475, 478, 481, 482, 485, 488, 491, 494, 497, 500, 503, 506, 507, 507, 510, 513, 516, 519, 520, 520, 523, 524, 527, 527, 527, 528, 531, 534, 537, 540, 541, 542, 545, 545, 548, 551, 554, 557, 560], \"yaxis\": \"y\"}, {\"hovertemplate\": \"tecnico=Berizzo<br>fecha=%{x}<br>puntos_acum=%{y}<extra></extra>\", \"legendgroup\": \"Berizzo\", \"line\": {\"color\": \"#FF97FF\", \"dash\": \"solid\"}, \"mode\": \"lines\", \"name\": \"Berizzo\", \"orientation\": \"v\", \"showlegend\": true, \"type\": \"scatter\", \"x\": [\"2011-02-11T00:00:00\", \"2011-02-16T00:00:00\", \"2011-02-20T00:00:00\", \"2011-02-23T00:00:00\", \"2011-02-27T00:00:00\", \"2011-03-05T00:00:00\", \"2011-03-09T00:00:00\", \"2011-03-13T00:00:00\", \"2011-03-17T00:00:00\", \"2011-03-20T00:00:00\", \"2011-03-25T00:00:00\", \"2011-03-30T00:00:00\", \"2011-04-03T00:00:00\", \"2011-04-08T00:00:00\", \"2011-04-13T00:00:00\", \"2011-04-17T00:00:00\", \"2011-04-23T00:00:00\", \"2011-04-27T00:00:00\", \"2011-04-30T00:00:00\", \"2011-05-08T00:00:00\", \"2011-05-15T00:00:00\", \"2011-05-29T00:00:00\"], \"xaxis\": \"x\", \"y\": [567, 567, 570, 573, 573, 576, 579, 579, 582, 585, 588, 589, 589, 590, 590, 591, 591, 592, 592, 593, 594, 594], \"yaxis\": \"y\"}, {\"hovertemplate\": \"tecnico=Russo<br>fecha=%{x}<br>puntos_acum=%{y}<extra></extra>\", \"legendgroup\": \"Russo\", \"line\": {\"color\": \"#FECB52\", \"dash\": \"solid\"}, \"mode\": \"lines\", \"name\": \"Russo\", \"orientation\": \"v\", \"showlegend\": true, \"type\": \"scatter\", \"x\": [\"2011-08-07T00:00:00\", \"2011-08-15T00:00:00\", \"2011-08-20T00:00:00\", \"2011-08-26T00:00:00\", \"2011-08-30T00:00:00\", \"2011-09-03T00:00:00\", \"2011-09-06T00:00:00\", \"2011-09-10T00:00:00\", \"2011-09-18T00:00:00\", \"2011-09-22T00:00:00\", \"2011-09-25T00:00:00\", \"2011-10-02T00:00:00\", \"2011-10-16T00:00:00\", \"2011-10-25T00:00:00\", \"2011-10-31T00:00:00\", \"2011-11-05T00:00:00\"], \"xaxis\": \"x\", \"y\": [600, 600, 600, 601, 601, 601, 604, 604, 607, 607, 607, 608, 611, 611, 612, 612], \"yaxis\": \"y\"}, {\"hovertemplate\": \"tecnico=Azconzabal<br>fecha=%{x}<br>puntos_acum=%{y}<extra></extra>\", \"legendgroup\": \"Azconzabal\", \"line\": {\"color\": \"#636efa\", \"dash\": \"solid\"}, \"mode\": \"lines\", \"name\": \"Azconzabal\", \"orientation\": \"v\", \"showlegend\": true, \"type\": \"scatter\", \"x\": [\"2011-11-24T00:00:00\", \"2011-11-27T00:00:00\", \"2011-12-02T00:00:00\", \"2011-12-06T00:00:00\", \"2011-12-11T00:00:00\", \"2012-02-04T00:00:00\", \"2012-02-11T00:00:00\", \"2012-02-19T00:00:00\", \"2012-02-25T00:00:00\", \"2012-03-03T00:00:00\", \"2012-03-09T00:00:00\", \"2012-03-17T00:00:00\", \"2012-03-25T00:00:00\", \"2012-04-01T00:00:00\", \"2012-04-08T00:00:00\", \"2012-04-13T00:00:00\", \"2012-04-21T00:00:00\"], \"xaxis\": \"x\", \"y\": [615, 618, 621, 622, 625, 628, 629, 630, 633, 636, 639, 640, 643, 643, 643, 644, 644], \"yaxis\": \"y\"}, {\"hovertemplate\": \"tecnico=Cagna<br>fecha=%{x}<br>puntos_acum=%{y}<extra></extra>\", \"legendgroup\": \"Cagna\", \"line\": {\"color\": \"#EF553B\", \"dash\": \"solid\"}, \"mode\": \"lines\", \"name\": \"Cagna\", \"orientation\": \"v\", \"showlegend\": true, \"type\": \"scatter\", \"x\": [\"2012-08-06T00:00:00\", \"2012-08-11T00:00:00\", \"2012-08-18T00:00:00\", \"2012-08-27T00:00:00\", \"2012-09-01T00:00:00\", \"2012-09-08T00:00:00\", \"2012-09-15T00:00:00\", \"2012-09-24T00:00:00\", \"2012-09-29T00:00:00\", \"2012-10-06T00:00:00\", \"2012-10-21T00:00:00\", \"2012-10-27T00:00:00\", \"2012-11-03T00:00:00\", \"2012-11-10T00:00:00\", \"2012-11-13T00:00:00\", \"2012-11-17T00:00:00\", \"2012-11-25T00:00:00\", \"2012-12-03T00:00:00\", \"2012-12-08T00:00:00\", \"2013-02-09T00:00:00\", \"2013-02-17T00:00:00\", \"2013-02-22T00:00:00\", \"2013-03-02T00:00:00\", \"2013-03-09T00:00:00\"], \"xaxis\": \"x\", \"y\": [658, 658, 661, 661, 661, 662, 665, 668, 668, 671, 672, 672, 673, 676, 676, 679, 680, 683, 683, 683, 683, 684, 685, 685], \"yaxis\": \"y\"}, {\"hovertemplate\": \"tecnico=Pellegrino<br>fecha=%{x}<br>puntos_acum=%{y}<extra></extra>\", \"legendgroup\": \"Pellegrino\", \"line\": {\"color\": \"#00cc96\", \"dash\": \"solid\"}, \"mode\": \"lines\", \"name\": \"Pellegrino\", \"orientation\": \"v\", \"showlegend\": true, \"type\": \"scatter\", \"x\": [\"2013-04-08T00:00:00\", \"2013-04-14T00:00:00\", \"2013-04-20T00:00:00\", \"2013-04-27T00:00:00\", \"2013-05-02T00:00:00\", \"2013-05-06T00:00:00\", \"2013-05-13T00:00:00\", \"2013-05-18T00:00:00\", \"2013-05-27T00:00:00\", \"2013-06-01T00:00:00\", \"2013-06-15T00:00:00\", \"2013-06-19T00:00:00\", \"2013-06-22T00:00:00\", \"2013-07-23T00:00:00\", \"2013-08-02T00:00:00\", \"2013-08-07T00:00:00\", \"2013-08-14T00:00:00\", \"2013-08-19T00:00:00\", \"2013-08-25T00:00:00\", \"2013-08-31T00:00:00\", \"2013-09-07T00:00:00\", \"2013-09-15T00:00:00\", \"2013-09-22T00:00:00\", \"2013-09-27T00:00:00\", \"2013-10-05T00:00:00\", \"2013-10-13T00:00:00\", \"2013-10-18T00:00:00\", \"2013-10-28T00:00:00\", \"2013-11-03T00:00:00\", \"2013-11-09T00:00:00\", \"2013-11-16T00:00:00\", \"2013-11-25T00:00:00\", \"2013-12-01T00:00:00\", \"2013-12-08T00:00:00\", \"2014-02-07T00:00:00\", \"2014-02-15T00:00:00\", \"2014-02-19T00:00:00\", \"2014-02-23T00:00:00\", \"2014-03-02T00:00:00\", \"2014-03-05T00:00:00\", \"2014-03-08T00:00:00\", \"2014-03-16T00:00:00\", \"2014-03-22T00:00:00\", \"2014-03-28T00:00:00\", \"2014-04-01T00:00:00\", \"2014-04-07T00:00:00\", \"2014-04-12T00:00:00\", \"2014-04-16T00:00:00\", \"2014-04-19T00:00:00\", \"2014-04-27T00:00:00\", \"2014-05-03T00:00:00\", \"2014-05-10T00:00:00\", \"2014-05-18T00:00:00\", \"2014-07-19T00:00:00\", \"2014-07-26T00:00:00\", \"2014-08-11T00:00:00\", \"2014-08-16T00:00:00\", \"2014-08-24T00:00:00\", \"2014-08-27T00:00:00\", \"2014-08-30T00:00:00\", \"2014-09-03T00:00:00\", \"2014-09-06T00:00:00\", \"2014-09-13T00:00:00\", \"2014-09-16T00:00:00\", \"2014-09-20T00:00:00\", \"2014-09-26T00:00:00\", \"2014-10-01T00:00:00\", \"2014-10-05T00:00:00\", \"2014-10-11T00:00:00\", \"2014-10-14T00:00:00\", \"2014-10-18T00:00:00\", \"2014-10-26T00:00:00\", \"2014-10-29T00:00:00\", \"2014-11-06T00:00:00\", \"2014-11-09T00:00:00\", \"2014-11-12T00:00:00\", \"2014-11-16T00:00:00\", \"2014-11-23T00:00:00\", \"2014-11-29T00:00:00\", \"2014-12-05T00:00:00\", \"2015-02-05T00:00:00\", \"2015-02-12T00:00:00\", \"2015-02-16T00:00:00\", \"2015-02-21T00:00:00\", \"2015-02-25T00:00:00\", \"2015-03-01T00:00:00\", \"2015-03-05T00:00:00\", \"2015-03-09T00:00:00\", \"2015-03-12T00:00:00\", \"2015-03-15T00:00:00\", \"2015-03-18T00:00:00\", \"2015-03-22T00:00:00\", \"2015-03-29T00:00:00\", \"2015-04-03T00:00:00\", \"2015-04-09T00:00:00\", \"2015-04-13T00:00:00\"], \"xaxis\": \"x\", \"y\": [686, 687, 687, 690, 693, 694, 697, 700, 701, 702, 702, 705, 706, 709, 713, 716, 716, 717, 720, 721, 722, 722, 723, 724, 725, 728, 728, 731, 734, 735, 735, 738, 739, 739, 742, 745, 748, 748, 749, 750, 751, 754, 755, 756, 757, 760, 763, 764, 765, 765, 768, 771, 771, 774, 774, 774, 777, 777, 780, 780, 781, 784, 784, 787, 788, 791, 794, 797, 797, 800, 801, 804, 804, 804, 807, 810, 811, 812, 812, 815, 817, 820, 823, 826, 829, 832, 833, 833, 833, 834, 837, 837, 837, 838, 838, 838], \"yaxis\": \"y\"}, {\"hovertemplate\": \"tecnico=Milito<br>fecha=%{x}<br>puntos_acum=%{y}<extra></extra>\", \"legendgroup\": \"Milito\", \"line\": {\"color\": \"#ab63fa\", \"dash\": \"solid\"}, \"mode\": \"lines\", \"name\": \"Milito\", \"orientation\": \"v\", \"showlegend\": true, \"type\": \"scatter\", \"x\": [\"2015-04-17T00:00:00\", \"2015-04-21T00:00:00\", \"2015-05-02T00:00:00\", \"2015-05-05T00:00:00\", \"2015-05-08T00:00:00\", \"2015-05-12T00:00:00\", \"2015-05-23T00:00:00\", \"2015-05-31T00:00:00\", \"2015-06-04T00:00:00\", \"2015-06-08T00:00:00\", \"2015-07-10T00:00:00\", \"2015-07-20T00:00:00\", \"2015-07-26T00:00:00\", \"2015-08-01T00:00:00\", \"2015-08-15T00:00:00\", \"2015-08-23T00:00:00\", \"2015-08-30T00:00:00\", \"2015-09-07T00:00:00\", \"2015-09-13T00:00:00\", \"2015-09-19T00:00:00\", \"2015-09-23T00:00:00\", \"2015-09-28T00:00:00\", \"2015-10-03T00:00:00\", \"2015-10-17T00:00:00\", \"2015-10-31T00:00:00\", \"2015-11-07T00:00:00\", \"2015-11-20T00:00:00\", \"2015-11-28T00:00:00\", \"2015-12-05T00:00:00\"], \"xaxis\": \"x\", \"y\": [839, 842, 843, 846, 849, 849, 852, 853, 856, 859, 860, 863, 863, 866, 867, 870, 871, 874, 875, 878, 878, 878, 881, 884, 884, 887, 887, 890, 893], \"yaxis\": \"y\"}, {\"hovertemplate\": \"tecnico=Vivas<br>fecha=%{x}<br>puntos_acum=%{y}<extra></extra>\", \"legendgroup\": \"Vivas\", \"line\": {\"color\": \"#FFA15A\", \"dash\": \"solid\"}, \"mode\": \"lines\", \"name\": \"Vivas\", \"orientation\": \"v\", \"showlegend\": true, \"type\": \"scatter\", \"x\": [\"2016-01-14T00:00:00\", \"2016-01-27T00:00:00\", \"2016-01-31T00:00:00\", \"2016-02-08T00:00:00\", \"2016-02-13T00:00:00\", \"2016-02-18T00:00:00\", \"2016-02-23T00:00:00\", \"2016-02-27T00:00:00\", \"2016-03-05T00:00:00\", \"2016-03-13T00:00:00\", \"2016-03-18T00:00:00\", \"2016-04-01T00:00:00\", \"2016-04-11T00:00:00\", \"2016-04-17T00:00:00\", \"2016-04-23T00:00:00\", \"2016-04-29T00:00:00\", \"2016-05-07T00:00:00\", \"2016-05-15T00:00:00\", \"2016-05-22T00:00:00\", \"2016-05-28T00:00:00\", \"2016-07-16T00:00:00\", \"2016-08-13T00:00:00\", \"2016-08-24T00:00:00\", \"2016-08-28T00:00:00\", \"2016-09-11T00:00:00\", \"2016-09-15T00:00:00\", \"2016-09-18T00:00:00\", \"2016-09-25T00:00:00\", \"2016-10-02T00:00:00\", \"2016-10-15T00:00:00\", \"2016-10-23T00:00:00\", \"2016-10-29T00:00:00\", \"2016-11-05T00:00:00\", \"2016-11-19T00:00:00\", \"2016-11-26T00:00:00\", \"2016-12-04T00:00:00\", \"2016-12-11T00:00:00\", \"2016-12-17T00:00:00\", \"2017-01-15T00:00:00\", \"2017-01-21T00:00:00\", \"2017-01-27T00:00:00\", \"2017-03-09T00:00:00\", \"2017-03-14T00:00:00\", \"2017-03-19T00:00:00\", \"2017-03-25T00:00:00\", \"2017-04-02T00:00:00\", \"2017-04-07T00:00:00\", \"2017-04-11T00:00:00\", \"2017-04-15T00:00:00\", \"2017-04-19T00:00:00\", \"2017-04-23T00:00:00\", \"2017-04-28T00:00:00\", \"2017-05-02T00:00:00\", \"2017-05-06T00:00:00\", \"2017-05-13T00:00:00\", \"2017-05-18T00:00:00\", \"2017-05-22T00:00:00\", \"2017-05-25T00:00:00\", \"2017-05-29T00:00:00\", \"2017-06-03T00:00:00\"], \"xaxis\": \"x\", \"y\": [896, 899, 902, 902, 905, 906, 909, 912, 912, 915, 918, 921, 924, 927, 928, 929, 930, 933, 934, 937, 940, 944, 947, 950, 953, 953, 956, 959, 960, 963, 966, 969, 970, 973, 973, 974, 974, 974, 977, 977, 977, 983, 983, 986, 987, 990, 993, 993, 994, 997, 998, 999, 999, 1000, 1003, 1006, 1006, 1009, 1012, 1012], \"yaxis\": \"y\"}, {\"hovertemplate\": \"tecnico=Benitez<br>fecha=%{x}<br>puntos_acum=%{y}<extra></extra>\", \"legendgroup\": \"Benitez\", \"line\": {\"color\": \"#19d3f3\", \"dash\": \"solid\"}, \"mode\": \"lines\", \"name\": \"Benitez\", \"orientation\": \"v\", \"showlegend\": true, \"type\": \"scatter\", \"x\": [\"2017-06-11T00:00:00\", \"2017-06-17T00:00:00\", \"2017-06-22T00:00:00\", \"2017-06-27T00:00:00\"], \"xaxis\": \"x\", \"y\": [1012, 1015, 1018, 1021], \"yaxis\": \"y\"}, {\"hovertemplate\": \"tecnico=Matosas<br>fecha=%{x}<br>puntos_acum=%{y}<extra></extra>\", \"legendgroup\": \"Matosas\", \"line\": {\"color\": \"#FF6692\", \"dash\": \"solid\"}, \"mode\": \"lines\", \"name\": \"Matosas\", \"orientation\": \"v\", \"showlegend\": true, \"type\": \"scatter\", \"x\": [\"2017-07-13T00:00:00\", \"2017-08-03T00:00:00\", \"2017-08-23T00:00:00\", \"2017-08-28T00:00:00\", \"2017-09-09T00:00:00\", \"2017-09-15T00:00:00\"], \"xaxis\": \"x\", \"y\": [1024, 1027, 1031, 1034, 1034, 1035], \"yaxis\": \"y\"}, {\"hovertemplate\": \"tecnico=Bernardi<br>fecha=%{x}<br>puntos_acum=%{y}<extra></extra>\", \"legendgroup\": \"Bernardi\", \"line\": {\"color\": \"#B6E880\", \"dash\": \"solid\"}, \"mode\": \"lines\", \"name\": \"Bernardi\", \"orientation\": \"v\", \"showlegend\": true, \"type\": \"scatter\", \"x\": [\"2017-09-30T00:00:00\", \"2017-10-14T00:00:00\", \"2017-10-28T00:00:00\", \"2017-11-05T00:00:00\", \"2017-11-19T00:00:00\", \"2017-11-26T00:00:00\", \"2017-12-03T00:00:00\", \"2017-12-10T00:00:00\", \"2018-01-29T00:00:00\", \"2018-02-04T00:00:00\", \"2018-02-10T00:00:00\", \"2018-02-16T00:00:00\", \"2018-02-23T00:00:00\", \"2018-02-28T00:00:00\", \"2018-03-05T00:00:00\", \"2018-03-11T00:00:00\", \"2018-03-14T00:00:00\", \"2018-03-18T00:00:00\", \"2018-03-31T00:00:00\", \"2018-04-05T00:00:00\", \"2018-04-09T00:00:00\", \"2018-04-15T00:00:00\", \"2018-04-20T00:00:00\", \"2018-04-24T00:00:00\", \"2018-05-01T00:00:00\", \"2018-05-06T00:00:00\"], \"xaxis\": \"x\", \"y\": [1038, 1039, 1039, 1042, 1042, 1045, 1048, 1048, 1056, 1059, 1060, 1063, 1063, 1064, 1067, 1068, 1071, 1071, 1072, 1072, 1072, 1075, 1075, 1075, 1076, 1076], \"yaxis\": \"y\"}, {\"hovertemplate\": \"tecnico=Benitez2<br>fecha=%{x}<br>puntos_acum=%{y}<extra></extra>\", \"legendgroup\": \"Benitez2\", \"line\": {\"color\": \"#FF97FF\", \"dash\": \"solid\"}, \"mode\": \"lines\", \"name\": \"Benitez2\", \"orientation\": \"v\", \"showlegend\": true, \"type\": \"scatter\", \"x\": [\"2018-05-11T00:00:00\", \"2018-05-14T00:00:00\", \"2018-05-24T00:00:00\", \"2018-07-24T00:00:00\", \"2018-08-07T00:00:00\", \"2018-08-12T00:00:00\", \"2018-08-20T00:00:00\", \"2018-08-24T00:00:00\", \"2018-09-02T00:00:00\", \"2018-09-14T00:00:00\", \"2018-10-03T00:00:00\", \"2018-10-08T00:00:00\", \"2018-10-21T00:00:00\", \"2018-10-24T00:00:00\", \"2018-10-28T00:00:00\", \"2018-11-03T00:00:00\", \"2018-11-10T00:00:00\", \"2018-11-18T00:00:00\", \"2018-11-23T00:00:00\", \"2018-12-01T00:00:00\", \"2018-12-08T00:00:00\", \"2019-01-28T00:00:00\", \"2019-02-04T00:00:00\", \"2019-02-09T00:00:00\", \"2019-02-18T00:00:00\", \"2019-02-24T00:00:00\"], \"xaxis\": \"x\", \"y\": [1076, 1077, 1080, 1089, 1092, 1092, 1095, 1095, 1096, 1096, 1096, 1096, 1097, 1100, 1103, 1106, 1107, 1108, 1108, 1109, 1110, 1113, 1113, 1116, 1116, 1116], \"yaxis\": \"y\"}, {\"hovertemplate\": \"tecnico=Milito2<br>fecha=%{x}<br>puntos_acum=%{y}<extra></extra>\", \"legendgroup\": \"Milito2\", \"line\": {\"color\": \"#FECB52\", \"dash\": \"solid\"}, \"mode\": \"lines\", \"name\": \"Milito2\", \"orientation\": \"v\", \"showlegend\": true, \"type\": \"scatter\", \"x\": [\"2019-03-18T00:00:00\", \"2019-04-01T00:00:00\", \"2019-04-06T00:00:00\", \"2019-04-14T00:00:00\", \"2019-04-19T00:00:00\", \"2019-04-27T00:00:00\", \"2019-05-04T00:00:00\", \"2019-05-22T00:00:00\", \"2019-07-20T00:00:00\", \"2019-07-28T00:00:00\", \"2019-08-04T00:00:00\", \"2019-08-19T00:00:00\", \"2019-08-25T00:00:00\", \"2019-08-30T00:00:00\", \"2019-09-15T00:00:00\", \"2019-09-21T00:00:00\", \"2019-09-28T00:00:00\", \"2019-10-05T00:00:00\", \"2019-10-16T00:00:00\", \"2019-10-21T00:00:00\", \"2019-10-29T00:00:00\", \"2019-11-02T00:00:00\", \"2019-11-08T00:00:00\", \"2019-11-25T00:00:00\", \"2019-11-30T00:00:00\", \"2019-12-09T00:00:00\", \"2020-01-25T00:00:00\", \"2020-02-01T00:00:00\", \"2020-02-08T00:00:00\", \"2020-02-17T00:00:00\", \"2020-02-23T00:00:00\", \"2020-03-01T00:00:00\"], \"xaxis\": \"x\", \"y\": [1122, 1123, 1124, 1124, 1127, 1128, 1129, 1132, 1135, 1138, 1138, 1141, 1141, 1141, 1141, 1144, 1144, 1145, 1145, 1148, 1151, 1154, 1157, 1157, 1158, 1159, 1160, 1163, 1164, 1164, 1164, 1165], \"yaxis\": \"y\"}, {\"hovertemplate\": \"tecnico=Desabato<br>fecha=%{x}<br>puntos_acum=%{y}<extra></extra>\", \"legendgroup\": \"Desabato\", \"line\": {\"color\": \"#636efa\", \"dash\": \"solid\"}, \"mode\": \"lines\", \"name\": \"Desabato\", \"orientation\": \"v\", \"showlegend\": true, \"type\": \"scatter\", \"x\": [\"2020-03-09T00:00:00\", \"2020-10-31T00:00:00\", \"2020-11-07T00:00:00\"], \"xaxis\": \"x\", \"y\": [1165, 1169, 1169], \"yaxis\": \"y\"}],                        {\"legend\": {\"title\": {\"text\": \"tecnico\"}, \"tracegroupgap\": 0}, \"margin\": {\"t\": 60}, \"template\": {\"data\": {\"bar\": [{\"error_x\": {\"color\": \"#2a3f5f\"}, \"error_y\": {\"color\": \"#2a3f5f\"}, \"marker\": {\"line\": {\"color\": \"#E5ECF6\", \"width\": 0.5}}, \"type\": \"bar\"}], \"barpolar\": [{\"marker\": {\"line\": {\"color\": \"#E5ECF6\", \"width\": 0.5}}, \"type\": \"barpolar\"}], \"carpet\": [{\"aaxis\": {\"endlinecolor\": \"#2a3f5f\", \"gridcolor\": \"white\", \"linecolor\": \"white\", \"minorgridcolor\": \"white\", \"startlinecolor\": \"#2a3f5f\"}, \"baxis\": {\"endlinecolor\": \"#2a3f5f\", \"gridcolor\": \"white\", \"linecolor\": \"white\", \"minorgridcolor\": \"white\", \"startlinecolor\": \"#2a3f5f\"}, \"type\": \"carpet\"}], \"choropleth\": [{\"colorbar\": {\"outlinewidth\": 0, \"ticks\": \"\"}, \"type\": \"choropleth\"}], \"contour\": [{\"colorbar\": {\"outlinewidth\": 0, \"ticks\": \"\"}, \"colorscale\": [[0.0, \"#0d0887\"], [0.1111111111111111, \"#46039f\"], [0.2222222222222222, \"#7201a8\"], [0.3333333333333333, \"#9c179e\"], [0.4444444444444444, \"#bd3786\"], [0.5555555555555556, \"#d8576b\"], [0.6666666666666666, \"#ed7953\"], [0.7777777777777778, \"#fb9f3a\"], [0.8888888888888888, \"#fdca26\"], [1.0, \"#f0f921\"]], \"type\": \"contour\"}], \"contourcarpet\": [{\"colorbar\": {\"outlinewidth\": 0, \"ticks\": \"\"}, \"type\": \"contourcarpet\"}], \"heatmap\": [{\"colorbar\": {\"outlinewidth\": 0, \"ticks\": \"\"}, \"colorscale\": [[0.0, \"#0d0887\"], [0.1111111111111111, \"#46039f\"], [0.2222222222222222, \"#7201a8\"], [0.3333333333333333, \"#9c179e\"], [0.4444444444444444, \"#bd3786\"], [0.5555555555555556, \"#d8576b\"], [0.6666666666666666, \"#ed7953\"], [0.7777777777777778, \"#fb9f3a\"], [0.8888888888888888, \"#fdca26\"], [1.0, \"#f0f921\"]], \"type\": \"heatmap\"}], \"heatmapgl\": [{\"colorbar\": {\"outlinewidth\": 0, \"ticks\": \"\"}, \"colorscale\": [[0.0, \"#0d0887\"], [0.1111111111111111, \"#46039f\"], [0.2222222222222222, \"#7201a8\"], [0.3333333333333333, \"#9c179e\"], [0.4444444444444444, \"#bd3786\"], [0.5555555555555556, \"#d8576b\"], [0.6666666666666666, \"#ed7953\"], [0.7777777777777778, \"#fb9f3a\"], [0.8888888888888888, \"#fdca26\"], [1.0, \"#f0f921\"]], \"type\": \"heatmapgl\"}], \"histogram\": [{\"marker\": {\"colorbar\": {\"outlinewidth\": 0, \"ticks\": \"\"}}, \"type\": \"histogram\"}], \"histogram2d\": [{\"colorbar\": {\"outlinewidth\": 0, \"ticks\": \"\"}, \"colorscale\": [[0.0, \"#0d0887\"], [0.1111111111111111, \"#46039f\"], [0.2222222222222222, \"#7201a8\"], [0.3333333333333333, \"#9c179e\"], [0.4444444444444444, \"#bd3786\"], [0.5555555555555556, \"#d8576b\"], [0.6666666666666666, \"#ed7953\"], [0.7777777777777778, \"#fb9f3a\"], [0.8888888888888888, \"#fdca26\"], [1.0, \"#f0f921\"]], \"type\": \"histogram2d\"}], \"histogram2dcontour\": [{\"colorbar\": {\"outlinewidth\": 0, \"ticks\": \"\"}, \"colorscale\": [[0.0, \"#0d0887\"], [0.1111111111111111, \"#46039f\"], [0.2222222222222222, \"#7201a8\"], [0.3333333333333333, \"#9c179e\"], [0.4444444444444444, \"#bd3786\"], [0.5555555555555556, \"#d8576b\"], [0.6666666666666666, \"#ed7953\"], [0.7777777777777778, \"#fb9f3a\"], [0.8888888888888888, \"#fdca26\"], [1.0, \"#f0f921\"]], \"type\": \"histogram2dcontour\"}], \"mesh3d\": [{\"colorbar\": {\"outlinewidth\": 0, \"ticks\": \"\"}, \"type\": \"mesh3d\"}], \"parcoords\": [{\"line\": {\"colorbar\": {\"outlinewidth\": 0, \"ticks\": \"\"}}, \"type\": \"parcoords\"}], \"pie\": [{\"automargin\": true, \"type\": \"pie\"}], \"scatter\": [{\"marker\": {\"colorbar\": {\"outlinewidth\": 0, \"ticks\": \"\"}}, \"type\": \"scatter\"}], \"scatter3d\": [{\"line\": {\"colorbar\": {\"outlinewidth\": 0, \"ticks\": \"\"}}, \"marker\": {\"colorbar\": {\"outlinewidth\": 0, \"ticks\": \"\"}}, \"type\": \"scatter3d\"}], \"scattercarpet\": [{\"marker\": {\"colorbar\": {\"outlinewidth\": 0, \"ticks\": \"\"}}, \"type\": \"scattercarpet\"}], \"scattergeo\": [{\"marker\": {\"colorbar\": {\"outlinewidth\": 0, \"ticks\": \"\"}}, \"type\": \"scattergeo\"}], \"scattergl\": [{\"marker\": {\"colorbar\": {\"outlinewidth\": 0, \"ticks\": \"\"}}, \"type\": \"scattergl\"}], \"scattermapbox\": [{\"marker\": {\"colorbar\": {\"outlinewidth\": 0, \"ticks\": \"\"}}, \"type\": \"scattermapbox\"}], \"scatterpolar\": [{\"marker\": {\"colorbar\": {\"outlinewidth\": 0, \"ticks\": \"\"}}, \"type\": \"scatterpolar\"}], \"scatterpolargl\": [{\"marker\": {\"colorbar\": {\"outlinewidth\": 0, \"ticks\": \"\"}}, \"type\": \"scatterpolargl\"}], \"scatterternary\": [{\"marker\": {\"colorbar\": {\"outlinewidth\": 0, \"ticks\": \"\"}}, \"type\": \"scatterternary\"}], \"surface\": [{\"colorbar\": {\"outlinewidth\": 0, \"ticks\": \"\"}, \"colorscale\": [[0.0, \"#0d0887\"], [0.1111111111111111, \"#46039f\"], [0.2222222222222222, \"#7201a8\"], [0.3333333333333333, \"#9c179e\"], [0.4444444444444444, \"#bd3786\"], [0.5555555555555556, \"#d8576b\"], [0.6666666666666666, \"#ed7953\"], [0.7777777777777778, \"#fb9f3a\"], [0.8888888888888888, \"#fdca26\"], [1.0, \"#f0f921\"]], \"type\": \"surface\"}], \"table\": [{\"cells\": {\"fill\": {\"color\": \"#EBF0F8\"}, \"line\": {\"color\": \"white\"}}, \"header\": {\"fill\": {\"color\": \"#C8D4E3\"}, \"line\": {\"color\": \"white\"}}, \"type\": \"table\"}]}, \"layout\": {\"annotationdefaults\": {\"arrowcolor\": \"#2a3f5f\", \"arrowhead\": 0, \"arrowwidth\": 1}, \"coloraxis\": {\"colorbar\": {\"outlinewidth\": 0, \"ticks\": \"\"}}, \"colorscale\": {\"diverging\": [[0, \"#8e0152\"], [0.1, \"#c51b7d\"], [0.2, \"#de77ae\"], [0.3, \"#f1b6da\"], [0.4, \"#fde0ef\"], [0.5, \"#f7f7f7\"], [0.6, \"#e6f5d0\"], [0.7, \"#b8e186\"], [0.8, \"#7fbc41\"], [0.9, \"#4d9221\"], [1, \"#276419\"]], \"sequential\": [[0.0, \"#0d0887\"], [0.1111111111111111, \"#46039f\"], [0.2222222222222222, \"#7201a8\"], [0.3333333333333333, \"#9c179e\"], [0.4444444444444444, \"#bd3786\"], [0.5555555555555556, \"#d8576b\"], [0.6666666666666666, \"#ed7953\"], [0.7777777777777778, \"#fb9f3a\"], [0.8888888888888888, \"#fdca26\"], [1.0, \"#f0f921\"]], \"sequentialminus\": [[0.0, \"#0d0887\"], [0.1111111111111111, \"#46039f\"], [0.2222222222222222, \"#7201a8\"], [0.3333333333333333, \"#9c179e\"], [0.4444444444444444, \"#bd3786\"], [0.5555555555555556, \"#d8576b\"], [0.6666666666666666, \"#ed7953\"], [0.7777777777777778, \"#fb9f3a\"], [0.8888888888888888, \"#fdca26\"], [1.0, \"#f0f921\"]]}, \"colorway\": [\"#636efa\", \"#EF553B\", \"#00cc96\", \"#ab63fa\", \"#FFA15A\", \"#19d3f3\", \"#FF6692\", \"#B6E880\", \"#FF97FF\", \"#FECB52\"], \"font\": {\"color\": \"#2a3f5f\"}, \"geo\": {\"bgcolor\": \"white\", \"lakecolor\": \"white\", \"landcolor\": \"#E5ECF6\", \"showlakes\": true, \"showland\": true, \"subunitcolor\": \"white\"}, \"hoverlabel\": {\"align\": \"left\"}, \"hovermode\": \"closest\", \"mapbox\": {\"style\": \"light\"}, \"paper_bgcolor\": \"white\", \"plot_bgcolor\": \"#E5ECF6\", \"polar\": {\"angularaxis\": {\"gridcolor\": \"white\", \"linecolor\": \"white\", \"ticks\": \"\"}, \"bgcolor\": \"#E5ECF6\", \"radialaxis\": {\"gridcolor\": \"white\", \"linecolor\": \"white\", \"ticks\": \"\"}}, \"scene\": {\"xaxis\": {\"backgroundcolor\": \"#E5ECF6\", \"gridcolor\": \"white\", \"gridwidth\": 2, \"linecolor\": \"white\", \"showbackground\": true, \"ticks\": \"\", \"zerolinecolor\": \"white\"}, \"yaxis\": {\"backgroundcolor\": \"#E5ECF6\", \"gridcolor\": \"white\", \"gridwidth\": 2, \"linecolor\": \"white\", \"showbackground\": true, \"ticks\": \"\", \"zerolinecolor\": \"white\"}, \"zaxis\": {\"backgroundcolor\": \"#E5ECF6\", \"gridcolor\": \"white\", \"gridwidth\": 2, \"linecolor\": \"white\", \"showbackground\": true, \"ticks\": \"\", \"zerolinecolor\": \"white\"}}, \"shapedefaults\": {\"line\": {\"color\": \"#2a3f5f\"}}, \"ternary\": {\"aaxis\": {\"gridcolor\": \"white\", \"linecolor\": \"white\", \"ticks\": \"\"}, \"baxis\": {\"gridcolor\": \"white\", \"linecolor\": \"white\", \"ticks\": \"\"}, \"bgcolor\": \"#E5ECF6\", \"caxis\": {\"gridcolor\": \"white\", \"linecolor\": \"white\", \"ticks\": \"\"}}, \"title\": {\"x\": 0.05}, \"xaxis\": {\"automargin\": true, \"gridcolor\": \"white\", \"linecolor\": \"white\", \"ticks\": \"\", \"title\": {\"standoff\": 15}, \"zerolinecolor\": \"white\", \"zerolinewidth\": 2}, \"yaxis\": {\"automargin\": true, \"gridcolor\": \"white\", \"linecolor\": \"white\", \"ticks\": \"\", \"title\": {\"standoff\": 15}, \"zerolinecolor\": \"white\", \"zerolinewidth\": 2}}}, \"xaxis\": {\"anchor\": \"y\", \"domain\": [0.0, 1.0], \"title\": {\"text\": \"fecha\"}}, \"yaxis\": {\"anchor\": \"x\", \"domain\": [0.0, 1.0], \"title\": {\"text\": \"puntos_acum\"}}},                        {\"responsive\": true}                    ).then(function(){\n",
       "                            \n",
       "var gd = document.getElementById('c2fb1039-3731-48e4-87f3-7463254fdd87');\n",
       "var x = new MutationObserver(function (mutations, observer) {{\n",
       "        var display = window.getComputedStyle(gd).display;\n",
       "        if (!display || display === 'none') {{\n",
       "            console.log([gd, 'removed!']);\n",
       "            Plotly.purge(gd);\n",
       "            observer.disconnect();\n",
       "        }}\n",
       "}});\n",
       "\n",
       "// Listen for the removal of the full notebook cells\n",
       "var notebookContainer = gd.closest('#notebook-container');\n",
       "if (notebookContainer) {{\n",
       "    x.observe(notebookContainer, {childList: true});\n",
       "}}\n",
       "\n",
       "// Listen for the clearing of the current output cell\n",
       "var outputEl = gd.closest('.output');\n",
       "if (outputEl) {{\n",
       "    x.observe(outputEl, {childList: true});\n",
       "}}\n",
       "\n",
       "                        })                };                });            </script>        </div>"
      ]
     },
     "metadata": {},
     "output_type": "display_data"
    }
   ],
   "source": [
    "px.line(x='fecha' , y='puntos_acum', color= 'tecnico', data_frame=resultados[resultados.competencia!='AMI'])"
   ]
  },
  {
   "cell_type": "code",
   "execution_count": 177,
   "metadata": {},
   "outputs": [
    {
     "data": {
      "text/html": [
       "<div>\n",
       "<style scoped>\n",
       "    .dataframe tbody tr th:only-of-type {\n",
       "        vertical-align: middle;\n",
       "    }\n",
       "\n",
       "    .dataframe tbody tr th {\n",
       "        vertical-align: top;\n",
       "    }\n",
       "\n",
       "    .dataframe thead th {\n",
       "        text-align: right;\n",
       "    }\n",
       "</style>\n",
       "<table border=\"1\" class=\"dataframe\">\n",
       "  <thead>\n",
       "    <tr style=\"text-align: right;\">\n",
       "      <th></th>\n",
       "      <th>tecnico</th>\n",
       "      <th>mean_x</th>\n",
       "      <th>size_x</th>\n",
       "      <th>mean_y</th>\n",
       "      <th>size_y</th>\n",
       "    </tr>\n",
       "  </thead>\n",
       "  <tbody>\n",
       "    <tr>\n",
       "      <th>0</th>\n",
       "      <td>Astrada</td>\n",
       "      <td>1.586207</td>\n",
       "      <td>29</td>\n",
       "      <td>2.600000</td>\n",
       "      <td>5</td>\n",
       "    </tr>\n",
       "    <tr>\n",
       "      <th>1</th>\n",
       "      <td>Azconzabal</td>\n",
       "      <td>1.882353</td>\n",
       "      <td>17</td>\n",
       "      <td>2.600000</td>\n",
       "      <td>5</td>\n",
       "    </tr>\n",
       "    <tr>\n",
       "      <th>2</th>\n",
       "      <td>Benitez</td>\n",
       "      <td>2.250000</td>\n",
       "      <td>4</td>\n",
       "      <td>2.250000</td>\n",
       "      <td>4</td>\n",
       "    </tr>\n",
       "    <tr>\n",
       "      <th>3</th>\n",
       "      <td>Benitez2</td>\n",
       "      <td>1.192308</td>\n",
       "      <td>26</td>\n",
       "      <td>2.000000</td>\n",
       "      <td>5</td>\n",
       "    </tr>\n",
       "    <tr>\n",
       "      <th>4</th>\n",
       "      <td>Berizzo</td>\n",
       "      <td>1.363636</td>\n",
       "      <td>22</td>\n",
       "      <td>1.800000</td>\n",
       "      <td>5</td>\n",
       "    </tr>\n",
       "    <tr>\n",
       "      <th>5</th>\n",
       "      <td>Bernardi</td>\n",
       "      <td>1.384615</td>\n",
       "      <td>26</td>\n",
       "      <td>1.400000</td>\n",
       "      <td>5</td>\n",
       "    </tr>\n",
       "    <tr>\n",
       "      <th>6</th>\n",
       "      <td>Bilardo</td>\n",
       "      <td>1.222222</td>\n",
       "      <td>9</td>\n",
       "      <td>1.400000</td>\n",
       "      <td>5</td>\n",
       "    </tr>\n",
       "    <tr>\n",
       "      <th>7</th>\n",
       "      <td>Burruchaga</td>\n",
       "      <td>1.448980</td>\n",
       "      <td>49</td>\n",
       "      <td>1.200000</td>\n",
       "      <td>5</td>\n",
       "    </tr>\n",
       "    <tr>\n",
       "      <th>8</th>\n",
       "      <td>Cagna</td>\n",
       "      <td>1.250000</td>\n",
       "      <td>24</td>\n",
       "      <td>1.200000</td>\n",
       "      <td>5</td>\n",
       "    </tr>\n",
       "    <tr>\n",
       "      <th>9</th>\n",
       "      <td>Desabato</td>\n",
       "      <td>0.333333</td>\n",
       "      <td>3</td>\n",
       "      <td>0.333333</td>\n",
       "      <td>3</td>\n",
       "    </tr>\n",
       "    <tr>\n",
       "      <th>10</th>\n",
       "      <td>Matosas</td>\n",
       "      <td>1.666667</td>\n",
       "      <td>6</td>\n",
       "      <td>1.800000</td>\n",
       "      <td>5</td>\n",
       "    </tr>\n",
       "    <tr>\n",
       "      <th>11</th>\n",
       "      <td>Merlo</td>\n",
       "      <td>1.605263</td>\n",
       "      <td>38</td>\n",
       "      <td>2.200000</td>\n",
       "      <td>5</td>\n",
       "    </tr>\n",
       "    <tr>\n",
       "      <th>12</th>\n",
       "      <td>Milito</td>\n",
       "      <td>1.896552</td>\n",
       "      <td>29</td>\n",
       "      <td>2.200000</td>\n",
       "      <td>5</td>\n",
       "    </tr>\n",
       "    <tr>\n",
       "      <th>13</th>\n",
       "      <td>Milito2</td>\n",
       "      <td>1.437500</td>\n",
       "      <td>32</td>\n",
       "      <td>1.600000</td>\n",
       "      <td>5</td>\n",
       "    </tr>\n",
       "    <tr>\n",
       "      <th>14</th>\n",
       "      <td>Pellegrino</td>\n",
       "      <td>1.531250</td>\n",
       "      <td>96</td>\n",
       "      <td>1.400000</td>\n",
       "      <td>5</td>\n",
       "    </tr>\n",
       "    <tr>\n",
       "      <th>15</th>\n",
       "      <td>Russo</td>\n",
       "      <td>0.812500</td>\n",
       "      <td>16</td>\n",
       "      <td>0.400000</td>\n",
       "      <td>5</td>\n",
       "    </tr>\n",
       "    <tr>\n",
       "      <th>16</th>\n",
       "      <td>Sabella</td>\n",
       "      <td>2.031250</td>\n",
       "      <td>96</td>\n",
       "      <td>2.200000</td>\n",
       "      <td>5</td>\n",
       "    </tr>\n",
       "    <tr>\n",
       "      <th>17</th>\n",
       "      <td>Sensini</td>\n",
       "      <td>1.727273</td>\n",
       "      <td>33</td>\n",
       "      <td>2.000000</td>\n",
       "      <td>5</td>\n",
       "    </tr>\n",
       "    <tr>\n",
       "      <th>18</th>\n",
       "      <td>Simeone</td>\n",
       "      <td>1.950000</td>\n",
       "      <td>60</td>\n",
       "      <td>1.800000</td>\n",
       "      <td>5</td>\n",
       "    </tr>\n",
       "    <tr>\n",
       "      <th>19</th>\n",
       "      <td>Vivas</td>\n",
       "      <td>1.866667</td>\n",
       "      <td>60</td>\n",
       "      <td>2.400000</td>\n",
       "      <td>5</td>\n",
       "    </tr>\n",
       "    <tr>\n",
       "      <th>20</th>\n",
       "      <td>vacio</td>\n",
       "      <td>0.956522</td>\n",
       "      <td>23</td>\n",
       "      <td>0.400000</td>\n",
       "      <td>5</td>\n",
       "    </tr>\n",
       "  </tbody>\n",
       "</table>\n",
       "</div>"
      ],
      "text/plain": [
       "       tecnico    mean_x  size_x    mean_y  size_y\n",
       "0      Astrada  1.586207      29  2.600000       5\n",
       "1   Azconzabal  1.882353      17  2.600000       5\n",
       "2      Benitez  2.250000       4  2.250000       4\n",
       "3     Benitez2  1.192308      26  2.000000       5\n",
       "4      Berizzo  1.363636      22  1.800000       5\n",
       "5     Bernardi  1.384615      26  1.400000       5\n",
       "6      Bilardo  1.222222       9  1.400000       5\n",
       "7   Burruchaga  1.448980      49  1.200000       5\n",
       "8        Cagna  1.250000      24  1.200000       5\n",
       "9     Desabato  0.333333       3  0.333333       3\n",
       "10     Matosas  1.666667       6  1.800000       5\n",
       "11       Merlo  1.605263      38  2.200000       5\n",
       "12      Milito  1.896552      29  2.200000       5\n",
       "13     Milito2  1.437500      32  1.600000       5\n",
       "14  Pellegrino  1.531250      96  1.400000       5\n",
       "15       Russo  0.812500      16  0.400000       5\n",
       "16     Sabella  2.031250      96  2.200000       5\n",
       "17     Sensini  1.727273      33  2.000000       5\n",
       "18     Simeone  1.950000      60  1.800000       5\n",
       "19       Vivas  1.866667      60  2.400000       5\n",
       "20       vacio  0.956522      23  0.400000       5"
      ]
     },
     "execution_count": 177,
     "metadata": {},
     "output_type": "execute_result"
    }
   ],
   "source": [
    "resultados_total = resultados[resultados.competencia!='AMI'].groupby('tecnico').puntos.agg(['mean','size']).reset_index()\n",
    "resultados_5 = resultados[(resultados.competencia!='AMI')].groupby('tecnico').head(5).groupby('tecnico').puntos.agg(['mean','size']).reset_index()\n",
    "resultados_7 = resultados[(resultados.competencia!='AMI')].groupby('tecnico').head(7).groupby('tecnico').puntos.agg(['mean','size']).reset_index()\n",
    "\n",
    "resultados_merge = resultados_total.merge(resultados_5, left_on='tecnico',right_on='tecnico')\n",
    "resultados_merge"
   ]
  },
  {
   "cell_type": "code",
   "execution_count": 178,
   "metadata": {},
   "outputs": [
    {
     "data": {
      "application/vnd.plotly.v1+json": {
       "config": {
        "plotlyServerURL": "https://plotly.com"
       },
       "data": [
        {
         "hovertemplate": "tecnico=Astrada<br>mean_y=%{x}<br>mean_x=%{y}<extra></extra>",
         "legendgroup": "Astrada",
         "marker": {
          "color": "#636efa",
          "symbol": "circle"
         },
         "mode": "markers",
         "name": "Astrada",
         "orientation": "v",
         "showlegend": true,
         "type": "scatter",
         "x": [
          2.6
         ],
         "xaxis": "x",
         "y": [
          1.5862068965517242
         ],
         "yaxis": "y"
        },
        {
         "hovertemplate": "tecnico=Astrada<extra></extra>",
         "legendgroup": "Astrada",
         "marker": {
          "color": "#636efa",
          "symbol": "circle"
         },
         "mode": "lines",
         "name": "Astrada",
         "showlegend": false,
         "type": "scatter",
         "xaxis": "x",
         "yaxis": "y"
        },
        {
         "hovertemplate": "tecnico=Benitez2<br>mean_y=%{x}<br>mean_x=%{y}<extra></extra>",
         "legendgroup": "Benitez2",
         "marker": {
          "color": "#EF553B",
          "symbol": "circle"
         },
         "mode": "markers",
         "name": "Benitez2",
         "orientation": "v",
         "showlegend": true,
         "type": "scatter",
         "x": [
          2
         ],
         "xaxis": "x",
         "y": [
          1.1923076923076923
         ],
         "yaxis": "y"
        },
        {
         "hovertemplate": "tecnico=Benitez2<extra></extra>",
         "legendgroup": "Benitez2",
         "marker": {
          "color": "#EF553B",
          "symbol": "circle"
         },
         "mode": "lines",
         "name": "Benitez2",
         "showlegend": false,
         "type": "scatter",
         "xaxis": "x",
         "yaxis": "y"
        },
        {
         "hovertemplate": "tecnico=Berizzo<br>mean_y=%{x}<br>mean_x=%{y}<extra></extra>",
         "legendgroup": "Berizzo",
         "marker": {
          "color": "#00cc96",
          "symbol": "circle"
         },
         "mode": "markers",
         "name": "Berizzo",
         "orientation": "v",
         "showlegend": true,
         "type": "scatter",
         "x": [
          1.8
         ],
         "xaxis": "x",
         "y": [
          1.3636363636363635
         ],
         "yaxis": "y"
        },
        {
         "hovertemplate": "tecnico=Berizzo<extra></extra>",
         "legendgroup": "Berizzo",
         "marker": {
          "color": "#00cc96",
          "symbol": "circle"
         },
         "mode": "lines",
         "name": "Berizzo",
         "showlegend": false,
         "type": "scatter",
         "xaxis": "x",
         "yaxis": "y"
        },
        {
         "hovertemplate": "tecnico=Bernardi<br>mean_y=%{x}<br>mean_x=%{y}<extra></extra>",
         "legendgroup": "Bernardi",
         "marker": {
          "color": "#ab63fa",
          "symbol": "circle"
         },
         "mode": "markers",
         "name": "Bernardi",
         "orientation": "v",
         "showlegend": true,
         "type": "scatter",
         "x": [
          1.4
         ],
         "xaxis": "x",
         "y": [
          1.3846153846153846
         ],
         "yaxis": "y"
        },
        {
         "hovertemplate": "tecnico=Bernardi<extra></extra>",
         "legendgroup": "Bernardi",
         "marker": {
          "color": "#ab63fa",
          "symbol": "circle"
         },
         "mode": "lines",
         "name": "Bernardi",
         "showlegend": false,
         "type": "scatter",
         "xaxis": "x",
         "yaxis": "y"
        },
        {
         "hovertemplate": "tecnico=Burruchaga<br>mean_y=%{x}<br>mean_x=%{y}<extra></extra>",
         "legendgroup": "Burruchaga",
         "marker": {
          "color": "#FFA15A",
          "symbol": "circle"
         },
         "mode": "markers",
         "name": "Burruchaga",
         "orientation": "v",
         "showlegend": true,
         "type": "scatter",
         "x": [
          1.2
         ],
         "xaxis": "x",
         "y": [
          1.4489795918367347
         ],
         "yaxis": "y"
        },
        {
         "hovertemplate": "tecnico=Burruchaga<extra></extra>",
         "legendgroup": "Burruchaga",
         "marker": {
          "color": "#FFA15A",
          "symbol": "circle"
         },
         "mode": "lines",
         "name": "Burruchaga",
         "showlegend": false,
         "type": "scatter",
         "xaxis": "x",
         "yaxis": "y"
        },
        {
         "hovertemplate": "tecnico=Cagna<br>mean_y=%{x}<br>mean_x=%{y}<extra></extra>",
         "legendgroup": "Cagna",
         "marker": {
          "color": "#19d3f3",
          "symbol": "circle"
         },
         "mode": "markers",
         "name": "Cagna",
         "orientation": "v",
         "showlegend": true,
         "type": "scatter",
         "x": [
          1.2
         ],
         "xaxis": "x",
         "y": [
          1.25
         ],
         "yaxis": "y"
        },
        {
         "hovertemplate": "tecnico=Cagna<extra></extra>",
         "legendgroup": "Cagna",
         "marker": {
          "color": "#19d3f3",
          "symbol": "circle"
         },
         "mode": "lines",
         "name": "Cagna",
         "showlegend": false,
         "type": "scatter",
         "xaxis": "x",
         "yaxis": "y"
        },
        {
         "hovertemplate": "tecnico=Merlo<br>mean_y=%{x}<br>mean_x=%{y}<extra></extra>",
         "legendgroup": "Merlo",
         "marker": {
          "color": "#FF6692",
          "symbol": "circle"
         },
         "mode": "markers",
         "name": "Merlo",
         "orientation": "v",
         "showlegend": true,
         "type": "scatter",
         "x": [
          2.2
         ],
         "xaxis": "x",
         "y": [
          1.605263157894737
         ],
         "yaxis": "y"
        },
        {
         "hovertemplate": "tecnico=Merlo<extra></extra>",
         "legendgroup": "Merlo",
         "marker": {
          "color": "#FF6692",
          "symbol": "circle"
         },
         "mode": "lines",
         "name": "Merlo",
         "showlegend": false,
         "type": "scatter",
         "xaxis": "x",
         "yaxis": "y"
        },
        {
         "hovertemplate": "tecnico=Milito<br>mean_y=%{x}<br>mean_x=%{y}<extra></extra>",
         "legendgroup": "Milito",
         "marker": {
          "color": "#B6E880",
          "symbol": "circle"
         },
         "mode": "markers",
         "name": "Milito",
         "orientation": "v",
         "showlegend": true,
         "type": "scatter",
         "x": [
          2.2
         ],
         "xaxis": "x",
         "y": [
          1.896551724137931
         ],
         "yaxis": "y"
        },
        {
         "hovertemplate": "tecnico=Milito<extra></extra>",
         "legendgroup": "Milito",
         "marker": {
          "color": "#B6E880",
          "symbol": "circle"
         },
         "mode": "lines",
         "name": "Milito",
         "showlegend": false,
         "type": "scatter",
         "xaxis": "x",
         "yaxis": "y"
        },
        {
         "hovertemplate": "tecnico=Milito2<br>mean_y=%{x}<br>mean_x=%{y}<extra></extra>",
         "legendgroup": "Milito2",
         "marker": {
          "color": "#FF97FF",
          "symbol": "circle"
         },
         "mode": "markers",
         "name": "Milito2",
         "orientation": "v",
         "showlegend": true,
         "type": "scatter",
         "x": [
          1.6
         ],
         "xaxis": "x",
         "y": [
          1.4375
         ],
         "yaxis": "y"
        },
        {
         "hovertemplate": "tecnico=Milito2<extra></extra>",
         "legendgroup": "Milito2",
         "marker": {
          "color": "#FF97FF",
          "symbol": "circle"
         },
         "mode": "lines",
         "name": "Milito2",
         "showlegend": false,
         "type": "scatter",
         "xaxis": "x",
         "yaxis": "y"
        },
        {
         "hovertemplate": "tecnico=Pellegrino<br>mean_y=%{x}<br>mean_x=%{y}<extra></extra>",
         "legendgroup": "Pellegrino",
         "marker": {
          "color": "#FECB52",
          "symbol": "circle"
         },
         "mode": "markers",
         "name": "Pellegrino",
         "orientation": "v",
         "showlegend": true,
         "type": "scatter",
         "x": [
          1.4
         ],
         "xaxis": "x",
         "y": [
          1.53125
         ],
         "yaxis": "y"
        },
        {
         "hovertemplate": "tecnico=Pellegrino<extra></extra>",
         "legendgroup": "Pellegrino",
         "marker": {
          "color": "#FECB52",
          "symbol": "circle"
         },
         "mode": "lines",
         "name": "Pellegrino",
         "showlegend": false,
         "type": "scatter",
         "xaxis": "x",
         "yaxis": "y"
        },
        {
         "hovertemplate": "tecnico=Sabella<br>mean_y=%{x}<br>mean_x=%{y}<extra></extra>",
         "legendgroup": "Sabella",
         "marker": {
          "color": "#636efa",
          "symbol": "circle"
         },
         "mode": "markers",
         "name": "Sabella",
         "orientation": "v",
         "showlegend": true,
         "type": "scatter",
         "x": [
          2.2
         ],
         "xaxis": "x",
         "y": [
          2.03125
         ],
         "yaxis": "y"
        },
        {
         "hovertemplate": "tecnico=Sabella<extra></extra>",
         "legendgroup": "Sabella",
         "marker": {
          "color": "#636efa",
          "symbol": "circle"
         },
         "mode": "lines",
         "name": "Sabella",
         "showlegend": false,
         "type": "scatter",
         "xaxis": "x",
         "yaxis": "y"
        },
        {
         "hovertemplate": "tecnico=Sensini<br>mean_y=%{x}<br>mean_x=%{y}<extra></extra>",
         "legendgroup": "Sensini",
         "marker": {
          "color": "#EF553B",
          "symbol": "circle"
         },
         "mode": "markers",
         "name": "Sensini",
         "orientation": "v",
         "showlegend": true,
         "type": "scatter",
         "x": [
          2
         ],
         "xaxis": "x",
         "y": [
          1.7272727272727273
         ],
         "yaxis": "y"
        },
        {
         "hovertemplate": "tecnico=Sensini<extra></extra>",
         "legendgroup": "Sensini",
         "marker": {
          "color": "#EF553B",
          "symbol": "circle"
         },
         "mode": "lines",
         "name": "Sensini",
         "showlegend": false,
         "type": "scatter",
         "xaxis": "x",
         "yaxis": "y"
        },
        {
         "hovertemplate": "tecnico=Simeone<br>mean_y=%{x}<br>mean_x=%{y}<extra></extra>",
         "legendgroup": "Simeone",
         "marker": {
          "color": "#00cc96",
          "symbol": "circle"
         },
         "mode": "markers",
         "name": "Simeone",
         "orientation": "v",
         "showlegend": true,
         "type": "scatter",
         "x": [
          1.8
         ],
         "xaxis": "x",
         "y": [
          1.95
         ],
         "yaxis": "y"
        },
        {
         "hovertemplate": "tecnico=Simeone<extra></extra>",
         "legendgroup": "Simeone",
         "marker": {
          "color": "#00cc96",
          "symbol": "circle"
         },
         "mode": "lines",
         "name": "Simeone",
         "showlegend": false,
         "type": "scatter",
         "xaxis": "x",
         "yaxis": "y"
        },
        {
         "hovertemplate": "tecnico=Vivas<br>mean_y=%{x}<br>mean_x=%{y}<extra></extra>",
         "legendgroup": "Vivas",
         "marker": {
          "color": "#ab63fa",
          "symbol": "circle"
         },
         "mode": "markers",
         "name": "Vivas",
         "orientation": "v",
         "showlegend": true,
         "type": "scatter",
         "x": [
          2.4
         ],
         "xaxis": "x",
         "y": [
          1.8666666666666667
         ],
         "yaxis": "y"
        },
        {
         "hovertemplate": "tecnico=Vivas<extra></extra>",
         "legendgroup": "Vivas",
         "marker": {
          "color": "#ab63fa",
          "symbol": "circle"
         },
         "mode": "lines",
         "name": "Vivas",
         "showlegend": false,
         "type": "scatter",
         "xaxis": "x",
         "yaxis": "y"
        }
       ],
       "layout": {
        "legend": {
         "title": {
          "text": "tecnico"
         },
         "tracegroupgap": 0
        },
        "margin": {
         "t": 60
        },
        "template": {
         "data": {
          "bar": [
           {
            "error_x": {
             "color": "#2a3f5f"
            },
            "error_y": {
             "color": "#2a3f5f"
            },
            "marker": {
             "line": {
              "color": "#E5ECF6",
              "width": 0.5
             }
            },
            "type": "bar"
           }
          ],
          "barpolar": [
           {
            "marker": {
             "line": {
              "color": "#E5ECF6",
              "width": 0.5
             }
            },
            "type": "barpolar"
           }
          ],
          "carpet": [
           {
            "aaxis": {
             "endlinecolor": "#2a3f5f",
             "gridcolor": "white",
             "linecolor": "white",
             "minorgridcolor": "white",
             "startlinecolor": "#2a3f5f"
            },
            "baxis": {
             "endlinecolor": "#2a3f5f",
             "gridcolor": "white",
             "linecolor": "white",
             "minorgridcolor": "white",
             "startlinecolor": "#2a3f5f"
            },
            "type": "carpet"
           }
          ],
          "choropleth": [
           {
            "colorbar": {
             "outlinewidth": 0,
             "ticks": ""
            },
            "type": "choropleth"
           }
          ],
          "contour": [
           {
            "colorbar": {
             "outlinewidth": 0,
             "ticks": ""
            },
            "colorscale": [
             [
              0,
              "#0d0887"
             ],
             [
              0.1111111111111111,
              "#46039f"
             ],
             [
              0.2222222222222222,
              "#7201a8"
             ],
             [
              0.3333333333333333,
              "#9c179e"
             ],
             [
              0.4444444444444444,
              "#bd3786"
             ],
             [
              0.5555555555555556,
              "#d8576b"
             ],
             [
              0.6666666666666666,
              "#ed7953"
             ],
             [
              0.7777777777777778,
              "#fb9f3a"
             ],
             [
              0.8888888888888888,
              "#fdca26"
             ],
             [
              1,
              "#f0f921"
             ]
            ],
            "type": "contour"
           }
          ],
          "contourcarpet": [
           {
            "colorbar": {
             "outlinewidth": 0,
             "ticks": ""
            },
            "type": "contourcarpet"
           }
          ],
          "heatmap": [
           {
            "colorbar": {
             "outlinewidth": 0,
             "ticks": ""
            },
            "colorscale": [
             [
              0,
              "#0d0887"
             ],
             [
              0.1111111111111111,
              "#46039f"
             ],
             [
              0.2222222222222222,
              "#7201a8"
             ],
             [
              0.3333333333333333,
              "#9c179e"
             ],
             [
              0.4444444444444444,
              "#bd3786"
             ],
             [
              0.5555555555555556,
              "#d8576b"
             ],
             [
              0.6666666666666666,
              "#ed7953"
             ],
             [
              0.7777777777777778,
              "#fb9f3a"
             ],
             [
              0.8888888888888888,
              "#fdca26"
             ],
             [
              1,
              "#f0f921"
             ]
            ],
            "type": "heatmap"
           }
          ],
          "heatmapgl": [
           {
            "colorbar": {
             "outlinewidth": 0,
             "ticks": ""
            },
            "colorscale": [
             [
              0,
              "#0d0887"
             ],
             [
              0.1111111111111111,
              "#46039f"
             ],
             [
              0.2222222222222222,
              "#7201a8"
             ],
             [
              0.3333333333333333,
              "#9c179e"
             ],
             [
              0.4444444444444444,
              "#bd3786"
             ],
             [
              0.5555555555555556,
              "#d8576b"
             ],
             [
              0.6666666666666666,
              "#ed7953"
             ],
             [
              0.7777777777777778,
              "#fb9f3a"
             ],
             [
              0.8888888888888888,
              "#fdca26"
             ],
             [
              1,
              "#f0f921"
             ]
            ],
            "type": "heatmapgl"
           }
          ],
          "histogram": [
           {
            "marker": {
             "colorbar": {
              "outlinewidth": 0,
              "ticks": ""
             }
            },
            "type": "histogram"
           }
          ],
          "histogram2d": [
           {
            "colorbar": {
             "outlinewidth": 0,
             "ticks": ""
            },
            "colorscale": [
             [
              0,
              "#0d0887"
             ],
             [
              0.1111111111111111,
              "#46039f"
             ],
             [
              0.2222222222222222,
              "#7201a8"
             ],
             [
              0.3333333333333333,
              "#9c179e"
             ],
             [
              0.4444444444444444,
              "#bd3786"
             ],
             [
              0.5555555555555556,
              "#d8576b"
             ],
             [
              0.6666666666666666,
              "#ed7953"
             ],
             [
              0.7777777777777778,
              "#fb9f3a"
             ],
             [
              0.8888888888888888,
              "#fdca26"
             ],
             [
              1,
              "#f0f921"
             ]
            ],
            "type": "histogram2d"
           }
          ],
          "histogram2dcontour": [
           {
            "colorbar": {
             "outlinewidth": 0,
             "ticks": ""
            },
            "colorscale": [
             [
              0,
              "#0d0887"
             ],
             [
              0.1111111111111111,
              "#46039f"
             ],
             [
              0.2222222222222222,
              "#7201a8"
             ],
             [
              0.3333333333333333,
              "#9c179e"
             ],
             [
              0.4444444444444444,
              "#bd3786"
             ],
             [
              0.5555555555555556,
              "#d8576b"
             ],
             [
              0.6666666666666666,
              "#ed7953"
             ],
             [
              0.7777777777777778,
              "#fb9f3a"
             ],
             [
              0.8888888888888888,
              "#fdca26"
             ],
             [
              1,
              "#f0f921"
             ]
            ],
            "type": "histogram2dcontour"
           }
          ],
          "mesh3d": [
           {
            "colorbar": {
             "outlinewidth": 0,
             "ticks": ""
            },
            "type": "mesh3d"
           }
          ],
          "parcoords": [
           {
            "line": {
             "colorbar": {
              "outlinewidth": 0,
              "ticks": ""
             }
            },
            "type": "parcoords"
           }
          ],
          "pie": [
           {
            "automargin": true,
            "type": "pie"
           }
          ],
          "scatter": [
           {
            "marker": {
             "colorbar": {
              "outlinewidth": 0,
              "ticks": ""
             }
            },
            "type": "scatter"
           }
          ],
          "scatter3d": [
           {
            "line": {
             "colorbar": {
              "outlinewidth": 0,
              "ticks": ""
             }
            },
            "marker": {
             "colorbar": {
              "outlinewidth": 0,
              "ticks": ""
             }
            },
            "type": "scatter3d"
           }
          ],
          "scattercarpet": [
           {
            "marker": {
             "colorbar": {
              "outlinewidth": 0,
              "ticks": ""
             }
            },
            "type": "scattercarpet"
           }
          ],
          "scattergeo": [
           {
            "marker": {
             "colorbar": {
              "outlinewidth": 0,
              "ticks": ""
             }
            },
            "type": "scattergeo"
           }
          ],
          "scattergl": [
           {
            "marker": {
             "colorbar": {
              "outlinewidth": 0,
              "ticks": ""
             }
            },
            "type": "scattergl"
           }
          ],
          "scattermapbox": [
           {
            "marker": {
             "colorbar": {
              "outlinewidth": 0,
              "ticks": ""
             }
            },
            "type": "scattermapbox"
           }
          ],
          "scatterpolar": [
           {
            "marker": {
             "colorbar": {
              "outlinewidth": 0,
              "ticks": ""
             }
            },
            "type": "scatterpolar"
           }
          ],
          "scatterpolargl": [
           {
            "marker": {
             "colorbar": {
              "outlinewidth": 0,
              "ticks": ""
             }
            },
            "type": "scatterpolargl"
           }
          ],
          "scatterternary": [
           {
            "marker": {
             "colorbar": {
              "outlinewidth": 0,
              "ticks": ""
             }
            },
            "type": "scatterternary"
           }
          ],
          "surface": [
           {
            "colorbar": {
             "outlinewidth": 0,
             "ticks": ""
            },
            "colorscale": [
             [
              0,
              "#0d0887"
             ],
             [
              0.1111111111111111,
              "#46039f"
             ],
             [
              0.2222222222222222,
              "#7201a8"
             ],
             [
              0.3333333333333333,
              "#9c179e"
             ],
             [
              0.4444444444444444,
              "#bd3786"
             ],
             [
              0.5555555555555556,
              "#d8576b"
             ],
             [
              0.6666666666666666,
              "#ed7953"
             ],
             [
              0.7777777777777778,
              "#fb9f3a"
             ],
             [
              0.8888888888888888,
              "#fdca26"
             ],
             [
              1,
              "#f0f921"
             ]
            ],
            "type": "surface"
           }
          ],
          "table": [
           {
            "cells": {
             "fill": {
              "color": "#EBF0F8"
             },
             "line": {
              "color": "white"
             }
            },
            "header": {
             "fill": {
              "color": "#C8D4E3"
             },
             "line": {
              "color": "white"
             }
            },
            "type": "table"
           }
          ]
         },
         "layout": {
          "annotationdefaults": {
           "arrowcolor": "#2a3f5f",
           "arrowhead": 0,
           "arrowwidth": 1
          },
          "coloraxis": {
           "colorbar": {
            "outlinewidth": 0,
            "ticks": ""
           }
          },
          "colorscale": {
           "diverging": [
            [
             0,
             "#8e0152"
            ],
            [
             0.1,
             "#c51b7d"
            ],
            [
             0.2,
             "#de77ae"
            ],
            [
             0.3,
             "#f1b6da"
            ],
            [
             0.4,
             "#fde0ef"
            ],
            [
             0.5,
             "#f7f7f7"
            ],
            [
             0.6,
             "#e6f5d0"
            ],
            [
             0.7,
             "#b8e186"
            ],
            [
             0.8,
             "#7fbc41"
            ],
            [
             0.9,
             "#4d9221"
            ],
            [
             1,
             "#276419"
            ]
           ],
           "sequential": [
            [
             0,
             "#0d0887"
            ],
            [
             0.1111111111111111,
             "#46039f"
            ],
            [
             0.2222222222222222,
             "#7201a8"
            ],
            [
             0.3333333333333333,
             "#9c179e"
            ],
            [
             0.4444444444444444,
             "#bd3786"
            ],
            [
             0.5555555555555556,
             "#d8576b"
            ],
            [
             0.6666666666666666,
             "#ed7953"
            ],
            [
             0.7777777777777778,
             "#fb9f3a"
            ],
            [
             0.8888888888888888,
             "#fdca26"
            ],
            [
             1,
             "#f0f921"
            ]
           ],
           "sequentialminus": [
            [
             0,
             "#0d0887"
            ],
            [
             0.1111111111111111,
             "#46039f"
            ],
            [
             0.2222222222222222,
             "#7201a8"
            ],
            [
             0.3333333333333333,
             "#9c179e"
            ],
            [
             0.4444444444444444,
             "#bd3786"
            ],
            [
             0.5555555555555556,
             "#d8576b"
            ],
            [
             0.6666666666666666,
             "#ed7953"
            ],
            [
             0.7777777777777778,
             "#fb9f3a"
            ],
            [
             0.8888888888888888,
             "#fdca26"
            ],
            [
             1,
             "#f0f921"
            ]
           ]
          },
          "colorway": [
           "#636efa",
           "#EF553B",
           "#00cc96",
           "#ab63fa",
           "#FFA15A",
           "#19d3f3",
           "#FF6692",
           "#B6E880",
           "#FF97FF",
           "#FECB52"
          ],
          "font": {
           "color": "#2a3f5f"
          },
          "geo": {
           "bgcolor": "white",
           "lakecolor": "white",
           "landcolor": "#E5ECF6",
           "showlakes": true,
           "showland": true,
           "subunitcolor": "white"
          },
          "hoverlabel": {
           "align": "left"
          },
          "hovermode": "closest",
          "mapbox": {
           "style": "light"
          },
          "paper_bgcolor": "white",
          "plot_bgcolor": "#E5ECF6",
          "polar": {
           "angularaxis": {
            "gridcolor": "white",
            "linecolor": "white",
            "ticks": ""
           },
           "bgcolor": "#E5ECF6",
           "radialaxis": {
            "gridcolor": "white",
            "linecolor": "white",
            "ticks": ""
           }
          },
          "scene": {
           "xaxis": {
            "backgroundcolor": "#E5ECF6",
            "gridcolor": "white",
            "gridwidth": 2,
            "linecolor": "white",
            "showbackground": true,
            "ticks": "",
            "zerolinecolor": "white"
           },
           "yaxis": {
            "backgroundcolor": "#E5ECF6",
            "gridcolor": "white",
            "gridwidth": 2,
            "linecolor": "white",
            "showbackground": true,
            "ticks": "",
            "zerolinecolor": "white"
           },
           "zaxis": {
            "backgroundcolor": "#E5ECF6",
            "gridcolor": "white",
            "gridwidth": 2,
            "linecolor": "white",
            "showbackground": true,
            "ticks": "",
            "zerolinecolor": "white"
           }
          },
          "shapedefaults": {
           "line": {
            "color": "#2a3f5f"
           }
          },
          "ternary": {
           "aaxis": {
            "gridcolor": "white",
            "linecolor": "white",
            "ticks": ""
           },
           "baxis": {
            "gridcolor": "white",
            "linecolor": "white",
            "ticks": ""
           },
           "bgcolor": "#E5ECF6",
           "caxis": {
            "gridcolor": "white",
            "linecolor": "white",
            "ticks": ""
           }
          },
          "title": {
           "x": 0.05
          },
          "xaxis": {
           "automargin": true,
           "gridcolor": "white",
           "linecolor": "white",
           "ticks": "",
           "title": {
            "standoff": 15
           },
           "zerolinecolor": "white",
           "zerolinewidth": 2
          },
          "yaxis": {
           "automargin": true,
           "gridcolor": "white",
           "linecolor": "white",
           "ticks": "",
           "title": {
            "standoff": 15
           },
           "zerolinecolor": "white",
           "zerolinewidth": 2
          }
         }
        },
        "xaxis": {
         "anchor": "y",
         "domain": [
          0,
          1
         ],
         "title": {
          "text": "mean_y"
         }
        },
        "yaxis": {
         "anchor": "x",
         "domain": [
          0,
          1
         ],
         "title": {
          "text": "mean_x"
         }
        }
       }
      },
      "text/html": [
       "<div>                            <div id=\"9d7cab9b-630e-4cc3-8bf8-ac6b03538d4e\" class=\"plotly-graph-div\" style=\"height:525px; width:100%;\"></div>            <script type=\"text/javascript\">                require([\"plotly\"], function(Plotly) {                    window.PLOTLYENV=window.PLOTLYENV || {};                                    if (document.getElementById(\"9d7cab9b-630e-4cc3-8bf8-ac6b03538d4e\")) {                    Plotly.newPlot(                        \"9d7cab9b-630e-4cc3-8bf8-ac6b03538d4e\",                        [{\"hovertemplate\": \"tecnico=Astrada<br>mean_y=%{x}<br>mean_x=%{y}<extra></extra>\", \"legendgroup\": \"Astrada\", \"marker\": {\"color\": \"#636efa\", \"symbol\": \"circle\"}, \"mode\": \"markers\", \"name\": \"Astrada\", \"orientation\": \"v\", \"showlegend\": true, \"type\": \"scatter\", \"x\": [2.6], \"xaxis\": \"x\", \"y\": [1.5862068965517242], \"yaxis\": \"y\"}, {\"hovertemplate\": \"tecnico=Astrada<extra></extra>\", \"legendgroup\": \"Astrada\", \"marker\": {\"color\": \"#636efa\", \"symbol\": \"circle\"}, \"mode\": \"lines\", \"name\": \"Astrada\", \"showlegend\": false, \"type\": \"scatter\", \"xaxis\": \"x\", \"yaxis\": \"y\"}, {\"hovertemplate\": \"tecnico=Benitez2<br>mean_y=%{x}<br>mean_x=%{y}<extra></extra>\", \"legendgroup\": \"Benitez2\", \"marker\": {\"color\": \"#EF553B\", \"symbol\": \"circle\"}, \"mode\": \"markers\", \"name\": \"Benitez2\", \"orientation\": \"v\", \"showlegend\": true, \"type\": \"scatter\", \"x\": [2.0], \"xaxis\": \"x\", \"y\": [1.1923076923076923], \"yaxis\": \"y\"}, {\"hovertemplate\": \"tecnico=Benitez2<extra></extra>\", \"legendgroup\": \"Benitez2\", \"marker\": {\"color\": \"#EF553B\", \"symbol\": \"circle\"}, \"mode\": \"lines\", \"name\": \"Benitez2\", \"showlegend\": false, \"type\": \"scatter\", \"xaxis\": \"x\", \"yaxis\": \"y\"}, {\"hovertemplate\": \"tecnico=Berizzo<br>mean_y=%{x}<br>mean_x=%{y}<extra></extra>\", \"legendgroup\": \"Berizzo\", \"marker\": {\"color\": \"#00cc96\", \"symbol\": \"circle\"}, \"mode\": \"markers\", \"name\": \"Berizzo\", \"orientation\": \"v\", \"showlegend\": true, \"type\": \"scatter\", \"x\": [1.8], \"xaxis\": \"x\", \"y\": [1.3636363636363635], \"yaxis\": \"y\"}, {\"hovertemplate\": \"tecnico=Berizzo<extra></extra>\", \"legendgroup\": \"Berizzo\", \"marker\": {\"color\": \"#00cc96\", \"symbol\": \"circle\"}, \"mode\": \"lines\", \"name\": \"Berizzo\", \"showlegend\": false, \"type\": \"scatter\", \"xaxis\": \"x\", \"yaxis\": \"y\"}, {\"hovertemplate\": \"tecnico=Bernardi<br>mean_y=%{x}<br>mean_x=%{y}<extra></extra>\", \"legendgroup\": \"Bernardi\", \"marker\": {\"color\": \"#ab63fa\", \"symbol\": \"circle\"}, \"mode\": \"markers\", \"name\": \"Bernardi\", \"orientation\": \"v\", \"showlegend\": true, \"type\": \"scatter\", \"x\": [1.4], \"xaxis\": \"x\", \"y\": [1.3846153846153846], \"yaxis\": \"y\"}, {\"hovertemplate\": \"tecnico=Bernardi<extra></extra>\", \"legendgroup\": \"Bernardi\", \"marker\": {\"color\": \"#ab63fa\", \"symbol\": \"circle\"}, \"mode\": \"lines\", \"name\": \"Bernardi\", \"showlegend\": false, \"type\": \"scatter\", \"xaxis\": \"x\", \"yaxis\": \"y\"}, {\"hovertemplate\": \"tecnico=Burruchaga<br>mean_y=%{x}<br>mean_x=%{y}<extra></extra>\", \"legendgroup\": \"Burruchaga\", \"marker\": {\"color\": \"#FFA15A\", \"symbol\": \"circle\"}, \"mode\": \"markers\", \"name\": \"Burruchaga\", \"orientation\": \"v\", \"showlegend\": true, \"type\": \"scatter\", \"x\": [1.2], \"xaxis\": \"x\", \"y\": [1.4489795918367347], \"yaxis\": \"y\"}, {\"hovertemplate\": \"tecnico=Burruchaga<extra></extra>\", \"legendgroup\": \"Burruchaga\", \"marker\": {\"color\": \"#FFA15A\", \"symbol\": \"circle\"}, \"mode\": \"lines\", \"name\": \"Burruchaga\", \"showlegend\": false, \"type\": \"scatter\", \"xaxis\": \"x\", \"yaxis\": \"y\"}, {\"hovertemplate\": \"tecnico=Cagna<br>mean_y=%{x}<br>mean_x=%{y}<extra></extra>\", \"legendgroup\": \"Cagna\", \"marker\": {\"color\": \"#19d3f3\", \"symbol\": \"circle\"}, \"mode\": \"markers\", \"name\": \"Cagna\", \"orientation\": \"v\", \"showlegend\": true, \"type\": \"scatter\", \"x\": [1.2], \"xaxis\": \"x\", \"y\": [1.25], \"yaxis\": \"y\"}, {\"hovertemplate\": \"tecnico=Cagna<extra></extra>\", \"legendgroup\": \"Cagna\", \"marker\": {\"color\": \"#19d3f3\", \"symbol\": \"circle\"}, \"mode\": \"lines\", \"name\": \"Cagna\", \"showlegend\": false, \"type\": \"scatter\", \"xaxis\": \"x\", \"yaxis\": \"y\"}, {\"hovertemplate\": \"tecnico=Merlo<br>mean_y=%{x}<br>mean_x=%{y}<extra></extra>\", \"legendgroup\": \"Merlo\", \"marker\": {\"color\": \"#FF6692\", \"symbol\": \"circle\"}, \"mode\": \"markers\", \"name\": \"Merlo\", \"orientation\": \"v\", \"showlegend\": true, \"type\": \"scatter\", \"x\": [2.2], \"xaxis\": \"x\", \"y\": [1.605263157894737], \"yaxis\": \"y\"}, {\"hovertemplate\": \"tecnico=Merlo<extra></extra>\", \"legendgroup\": \"Merlo\", \"marker\": {\"color\": \"#FF6692\", \"symbol\": \"circle\"}, \"mode\": \"lines\", \"name\": \"Merlo\", \"showlegend\": false, \"type\": \"scatter\", \"xaxis\": \"x\", \"yaxis\": \"y\"}, {\"hovertemplate\": \"tecnico=Milito<br>mean_y=%{x}<br>mean_x=%{y}<extra></extra>\", \"legendgroup\": \"Milito\", \"marker\": {\"color\": \"#B6E880\", \"symbol\": \"circle\"}, \"mode\": \"markers\", \"name\": \"Milito\", \"orientation\": \"v\", \"showlegend\": true, \"type\": \"scatter\", \"x\": [2.2], \"xaxis\": \"x\", \"y\": [1.896551724137931], \"yaxis\": \"y\"}, {\"hovertemplate\": \"tecnico=Milito<extra></extra>\", \"legendgroup\": \"Milito\", \"marker\": {\"color\": \"#B6E880\", \"symbol\": \"circle\"}, \"mode\": \"lines\", \"name\": \"Milito\", \"showlegend\": false, \"type\": \"scatter\", \"xaxis\": \"x\", \"yaxis\": \"y\"}, {\"hovertemplate\": \"tecnico=Milito2<br>mean_y=%{x}<br>mean_x=%{y}<extra></extra>\", \"legendgroup\": \"Milito2\", \"marker\": {\"color\": \"#FF97FF\", \"symbol\": \"circle\"}, \"mode\": \"markers\", \"name\": \"Milito2\", \"orientation\": \"v\", \"showlegend\": true, \"type\": \"scatter\", \"x\": [1.6], \"xaxis\": \"x\", \"y\": [1.4375], \"yaxis\": \"y\"}, {\"hovertemplate\": \"tecnico=Milito2<extra></extra>\", \"legendgroup\": \"Milito2\", \"marker\": {\"color\": \"#FF97FF\", \"symbol\": \"circle\"}, \"mode\": \"lines\", \"name\": \"Milito2\", \"showlegend\": false, \"type\": \"scatter\", \"xaxis\": \"x\", \"yaxis\": \"y\"}, {\"hovertemplate\": \"tecnico=Pellegrino<br>mean_y=%{x}<br>mean_x=%{y}<extra></extra>\", \"legendgroup\": \"Pellegrino\", \"marker\": {\"color\": \"#FECB52\", \"symbol\": \"circle\"}, \"mode\": \"markers\", \"name\": \"Pellegrino\", \"orientation\": \"v\", \"showlegend\": true, \"type\": \"scatter\", \"x\": [1.4], \"xaxis\": \"x\", \"y\": [1.53125], \"yaxis\": \"y\"}, {\"hovertemplate\": \"tecnico=Pellegrino<extra></extra>\", \"legendgroup\": \"Pellegrino\", \"marker\": {\"color\": \"#FECB52\", \"symbol\": \"circle\"}, \"mode\": \"lines\", \"name\": \"Pellegrino\", \"showlegend\": false, \"type\": \"scatter\", \"xaxis\": \"x\", \"yaxis\": \"y\"}, {\"hovertemplate\": \"tecnico=Sabella<br>mean_y=%{x}<br>mean_x=%{y}<extra></extra>\", \"legendgroup\": \"Sabella\", \"marker\": {\"color\": \"#636efa\", \"symbol\": \"circle\"}, \"mode\": \"markers\", \"name\": \"Sabella\", \"orientation\": \"v\", \"showlegend\": true, \"type\": \"scatter\", \"x\": [2.2], \"xaxis\": \"x\", \"y\": [2.03125], \"yaxis\": \"y\"}, {\"hovertemplate\": \"tecnico=Sabella<extra></extra>\", \"legendgroup\": \"Sabella\", \"marker\": {\"color\": \"#636efa\", \"symbol\": \"circle\"}, \"mode\": \"lines\", \"name\": \"Sabella\", \"showlegend\": false, \"type\": \"scatter\", \"xaxis\": \"x\", \"yaxis\": \"y\"}, {\"hovertemplate\": \"tecnico=Sensini<br>mean_y=%{x}<br>mean_x=%{y}<extra></extra>\", \"legendgroup\": \"Sensini\", \"marker\": {\"color\": \"#EF553B\", \"symbol\": \"circle\"}, \"mode\": \"markers\", \"name\": \"Sensini\", \"orientation\": \"v\", \"showlegend\": true, \"type\": \"scatter\", \"x\": [2.0], \"xaxis\": \"x\", \"y\": [1.7272727272727273], \"yaxis\": \"y\"}, {\"hovertemplate\": \"tecnico=Sensini<extra></extra>\", \"legendgroup\": \"Sensini\", \"marker\": {\"color\": \"#EF553B\", \"symbol\": \"circle\"}, \"mode\": \"lines\", \"name\": \"Sensini\", \"showlegend\": false, \"type\": \"scatter\", \"xaxis\": \"x\", \"yaxis\": \"y\"}, {\"hovertemplate\": \"tecnico=Simeone<br>mean_y=%{x}<br>mean_x=%{y}<extra></extra>\", \"legendgroup\": \"Simeone\", \"marker\": {\"color\": \"#00cc96\", \"symbol\": \"circle\"}, \"mode\": \"markers\", \"name\": \"Simeone\", \"orientation\": \"v\", \"showlegend\": true, \"type\": \"scatter\", \"x\": [1.8], \"xaxis\": \"x\", \"y\": [1.95], \"yaxis\": \"y\"}, {\"hovertemplate\": \"tecnico=Simeone<extra></extra>\", \"legendgroup\": \"Simeone\", \"marker\": {\"color\": \"#00cc96\", \"symbol\": \"circle\"}, \"mode\": \"lines\", \"name\": \"Simeone\", \"showlegend\": false, \"type\": \"scatter\", \"xaxis\": \"x\", \"yaxis\": \"y\"}, {\"hovertemplate\": \"tecnico=Vivas<br>mean_y=%{x}<br>mean_x=%{y}<extra></extra>\", \"legendgroup\": \"Vivas\", \"marker\": {\"color\": \"#ab63fa\", \"symbol\": \"circle\"}, \"mode\": \"markers\", \"name\": \"Vivas\", \"orientation\": \"v\", \"showlegend\": true, \"type\": \"scatter\", \"x\": [2.4], \"xaxis\": \"x\", \"y\": [1.8666666666666667], \"yaxis\": \"y\"}, {\"hovertemplate\": \"tecnico=Vivas<extra></extra>\", \"legendgroup\": \"Vivas\", \"marker\": {\"color\": \"#ab63fa\", \"symbol\": \"circle\"}, \"mode\": \"lines\", \"name\": \"Vivas\", \"showlegend\": false, \"type\": \"scatter\", \"xaxis\": \"x\", \"yaxis\": \"y\"}],                        {\"legend\": {\"title\": {\"text\": \"tecnico\"}, \"tracegroupgap\": 0}, \"margin\": {\"t\": 60}, \"template\": {\"data\": {\"bar\": [{\"error_x\": {\"color\": \"#2a3f5f\"}, \"error_y\": {\"color\": \"#2a3f5f\"}, \"marker\": {\"line\": {\"color\": \"#E5ECF6\", \"width\": 0.5}}, \"type\": \"bar\"}], \"barpolar\": [{\"marker\": {\"line\": {\"color\": \"#E5ECF6\", \"width\": 0.5}}, \"type\": \"barpolar\"}], \"carpet\": [{\"aaxis\": {\"endlinecolor\": \"#2a3f5f\", \"gridcolor\": \"white\", \"linecolor\": \"white\", \"minorgridcolor\": \"white\", \"startlinecolor\": \"#2a3f5f\"}, \"baxis\": {\"endlinecolor\": \"#2a3f5f\", \"gridcolor\": \"white\", \"linecolor\": \"white\", \"minorgridcolor\": \"white\", \"startlinecolor\": \"#2a3f5f\"}, \"type\": \"carpet\"}], \"choropleth\": [{\"colorbar\": {\"outlinewidth\": 0, \"ticks\": \"\"}, \"type\": \"choropleth\"}], \"contour\": [{\"colorbar\": {\"outlinewidth\": 0, \"ticks\": \"\"}, \"colorscale\": [[0.0, \"#0d0887\"], [0.1111111111111111, \"#46039f\"], [0.2222222222222222, \"#7201a8\"], [0.3333333333333333, \"#9c179e\"], [0.4444444444444444, \"#bd3786\"], [0.5555555555555556, \"#d8576b\"], [0.6666666666666666, \"#ed7953\"], [0.7777777777777778, \"#fb9f3a\"], [0.8888888888888888, \"#fdca26\"], [1.0, \"#f0f921\"]], \"type\": \"contour\"}], \"contourcarpet\": [{\"colorbar\": {\"outlinewidth\": 0, \"ticks\": \"\"}, \"type\": \"contourcarpet\"}], \"heatmap\": [{\"colorbar\": {\"outlinewidth\": 0, \"ticks\": \"\"}, \"colorscale\": [[0.0, \"#0d0887\"], [0.1111111111111111, \"#46039f\"], [0.2222222222222222, \"#7201a8\"], [0.3333333333333333, \"#9c179e\"], [0.4444444444444444, \"#bd3786\"], [0.5555555555555556, \"#d8576b\"], [0.6666666666666666, \"#ed7953\"], [0.7777777777777778, \"#fb9f3a\"], [0.8888888888888888, \"#fdca26\"], [1.0, \"#f0f921\"]], \"type\": \"heatmap\"}], \"heatmapgl\": [{\"colorbar\": {\"outlinewidth\": 0, \"ticks\": \"\"}, \"colorscale\": [[0.0, \"#0d0887\"], [0.1111111111111111, \"#46039f\"], [0.2222222222222222, \"#7201a8\"], [0.3333333333333333, \"#9c179e\"], [0.4444444444444444, \"#bd3786\"], [0.5555555555555556, \"#d8576b\"], [0.6666666666666666, \"#ed7953\"], [0.7777777777777778, \"#fb9f3a\"], [0.8888888888888888, \"#fdca26\"], [1.0, \"#f0f921\"]], \"type\": \"heatmapgl\"}], \"histogram\": [{\"marker\": {\"colorbar\": {\"outlinewidth\": 0, \"ticks\": \"\"}}, \"type\": \"histogram\"}], \"histogram2d\": [{\"colorbar\": {\"outlinewidth\": 0, \"ticks\": \"\"}, \"colorscale\": [[0.0, \"#0d0887\"], [0.1111111111111111, \"#46039f\"], [0.2222222222222222, \"#7201a8\"], [0.3333333333333333, \"#9c179e\"], [0.4444444444444444, \"#bd3786\"], [0.5555555555555556, \"#d8576b\"], [0.6666666666666666, \"#ed7953\"], [0.7777777777777778, \"#fb9f3a\"], [0.8888888888888888, \"#fdca26\"], [1.0, \"#f0f921\"]], \"type\": \"histogram2d\"}], \"histogram2dcontour\": [{\"colorbar\": {\"outlinewidth\": 0, \"ticks\": \"\"}, \"colorscale\": [[0.0, \"#0d0887\"], [0.1111111111111111, \"#46039f\"], [0.2222222222222222, \"#7201a8\"], [0.3333333333333333, \"#9c179e\"], [0.4444444444444444, \"#bd3786\"], [0.5555555555555556, \"#d8576b\"], [0.6666666666666666, \"#ed7953\"], [0.7777777777777778, \"#fb9f3a\"], [0.8888888888888888, \"#fdca26\"], [1.0, \"#f0f921\"]], \"type\": \"histogram2dcontour\"}], \"mesh3d\": [{\"colorbar\": {\"outlinewidth\": 0, \"ticks\": \"\"}, \"type\": \"mesh3d\"}], \"parcoords\": [{\"line\": {\"colorbar\": {\"outlinewidth\": 0, \"ticks\": \"\"}}, \"type\": \"parcoords\"}], \"pie\": [{\"automargin\": true, \"type\": \"pie\"}], \"scatter\": [{\"marker\": {\"colorbar\": {\"outlinewidth\": 0, \"ticks\": \"\"}}, \"type\": \"scatter\"}], \"scatter3d\": [{\"line\": {\"colorbar\": {\"outlinewidth\": 0, \"ticks\": \"\"}}, \"marker\": {\"colorbar\": {\"outlinewidth\": 0, \"ticks\": \"\"}}, \"type\": \"scatter3d\"}], \"scattercarpet\": [{\"marker\": {\"colorbar\": {\"outlinewidth\": 0, \"ticks\": \"\"}}, \"type\": \"scattercarpet\"}], \"scattergeo\": [{\"marker\": {\"colorbar\": {\"outlinewidth\": 0, \"ticks\": \"\"}}, \"type\": \"scattergeo\"}], \"scattergl\": [{\"marker\": {\"colorbar\": {\"outlinewidth\": 0, \"ticks\": \"\"}}, \"type\": \"scattergl\"}], \"scattermapbox\": [{\"marker\": {\"colorbar\": {\"outlinewidth\": 0, \"ticks\": \"\"}}, \"type\": \"scattermapbox\"}], \"scatterpolar\": [{\"marker\": {\"colorbar\": {\"outlinewidth\": 0, \"ticks\": \"\"}}, \"type\": \"scatterpolar\"}], \"scatterpolargl\": [{\"marker\": {\"colorbar\": {\"outlinewidth\": 0, \"ticks\": \"\"}}, \"type\": \"scatterpolargl\"}], \"scatterternary\": [{\"marker\": {\"colorbar\": {\"outlinewidth\": 0, \"ticks\": \"\"}}, \"type\": \"scatterternary\"}], \"surface\": [{\"colorbar\": {\"outlinewidth\": 0, \"ticks\": \"\"}, \"colorscale\": [[0.0, \"#0d0887\"], [0.1111111111111111, \"#46039f\"], [0.2222222222222222, \"#7201a8\"], [0.3333333333333333, \"#9c179e\"], [0.4444444444444444, \"#bd3786\"], [0.5555555555555556, \"#d8576b\"], [0.6666666666666666, \"#ed7953\"], [0.7777777777777778, \"#fb9f3a\"], [0.8888888888888888, \"#fdca26\"], [1.0, \"#f0f921\"]], \"type\": \"surface\"}], \"table\": [{\"cells\": {\"fill\": {\"color\": \"#EBF0F8\"}, \"line\": {\"color\": \"white\"}}, \"header\": {\"fill\": {\"color\": \"#C8D4E3\"}, \"line\": {\"color\": \"white\"}}, \"type\": \"table\"}]}, \"layout\": {\"annotationdefaults\": {\"arrowcolor\": \"#2a3f5f\", \"arrowhead\": 0, \"arrowwidth\": 1}, \"coloraxis\": {\"colorbar\": {\"outlinewidth\": 0, \"ticks\": \"\"}}, \"colorscale\": {\"diverging\": [[0, \"#8e0152\"], [0.1, \"#c51b7d\"], [0.2, \"#de77ae\"], [0.3, \"#f1b6da\"], [0.4, \"#fde0ef\"], [0.5, \"#f7f7f7\"], [0.6, \"#e6f5d0\"], [0.7, \"#b8e186\"], [0.8, \"#7fbc41\"], [0.9, \"#4d9221\"], [1, \"#276419\"]], \"sequential\": [[0.0, \"#0d0887\"], [0.1111111111111111, \"#46039f\"], [0.2222222222222222, \"#7201a8\"], [0.3333333333333333, \"#9c179e\"], [0.4444444444444444, \"#bd3786\"], [0.5555555555555556, \"#d8576b\"], [0.6666666666666666, \"#ed7953\"], [0.7777777777777778, \"#fb9f3a\"], [0.8888888888888888, \"#fdca26\"], [1.0, \"#f0f921\"]], \"sequentialminus\": [[0.0, \"#0d0887\"], [0.1111111111111111, \"#46039f\"], [0.2222222222222222, \"#7201a8\"], [0.3333333333333333, \"#9c179e\"], [0.4444444444444444, \"#bd3786\"], [0.5555555555555556, \"#d8576b\"], [0.6666666666666666, \"#ed7953\"], [0.7777777777777778, \"#fb9f3a\"], [0.8888888888888888, \"#fdca26\"], [1.0, \"#f0f921\"]]}, \"colorway\": [\"#636efa\", \"#EF553B\", \"#00cc96\", \"#ab63fa\", \"#FFA15A\", \"#19d3f3\", \"#FF6692\", \"#B6E880\", \"#FF97FF\", \"#FECB52\"], \"font\": {\"color\": \"#2a3f5f\"}, \"geo\": {\"bgcolor\": \"white\", \"lakecolor\": \"white\", \"landcolor\": \"#E5ECF6\", \"showlakes\": true, \"showland\": true, \"subunitcolor\": \"white\"}, \"hoverlabel\": {\"align\": \"left\"}, \"hovermode\": \"closest\", \"mapbox\": {\"style\": \"light\"}, \"paper_bgcolor\": \"white\", \"plot_bgcolor\": \"#E5ECF6\", \"polar\": {\"angularaxis\": {\"gridcolor\": \"white\", \"linecolor\": \"white\", \"ticks\": \"\"}, \"bgcolor\": \"#E5ECF6\", \"radialaxis\": {\"gridcolor\": \"white\", \"linecolor\": \"white\", \"ticks\": \"\"}}, \"scene\": {\"xaxis\": {\"backgroundcolor\": \"#E5ECF6\", \"gridcolor\": \"white\", \"gridwidth\": 2, \"linecolor\": \"white\", \"showbackground\": true, \"ticks\": \"\", \"zerolinecolor\": \"white\"}, \"yaxis\": {\"backgroundcolor\": \"#E5ECF6\", \"gridcolor\": \"white\", \"gridwidth\": 2, \"linecolor\": \"white\", \"showbackground\": true, \"ticks\": \"\", \"zerolinecolor\": \"white\"}, \"zaxis\": {\"backgroundcolor\": \"#E5ECF6\", \"gridcolor\": \"white\", \"gridwidth\": 2, \"linecolor\": \"white\", \"showbackground\": true, \"ticks\": \"\", \"zerolinecolor\": \"white\"}}, \"shapedefaults\": {\"line\": {\"color\": \"#2a3f5f\"}}, \"ternary\": {\"aaxis\": {\"gridcolor\": \"white\", \"linecolor\": \"white\", \"ticks\": \"\"}, \"baxis\": {\"gridcolor\": \"white\", \"linecolor\": \"white\", \"ticks\": \"\"}, \"bgcolor\": \"#E5ECF6\", \"caxis\": {\"gridcolor\": \"white\", \"linecolor\": \"white\", \"ticks\": \"\"}}, \"title\": {\"x\": 0.05}, \"xaxis\": {\"automargin\": true, \"gridcolor\": \"white\", \"linecolor\": \"white\", \"ticks\": \"\", \"title\": {\"standoff\": 15}, \"zerolinecolor\": \"white\", \"zerolinewidth\": 2}, \"yaxis\": {\"automargin\": true, \"gridcolor\": \"white\", \"linecolor\": \"white\", \"ticks\": \"\", \"title\": {\"standoff\": 15}, \"zerolinecolor\": \"white\", \"zerolinewidth\": 2}}}, \"xaxis\": {\"anchor\": \"y\", \"domain\": [0.0, 1.0], \"title\": {\"text\": \"mean_y\"}}, \"yaxis\": {\"anchor\": \"x\", \"domain\": [0.0, 1.0], \"title\": {\"text\": \"mean_x\"}}},                        {\"responsive\": true}                    ).then(function(){\n",
       "                            \n",
       "var gd = document.getElementById('9d7cab9b-630e-4cc3-8bf8-ac6b03538d4e');\n",
       "var x = new MutationObserver(function (mutations, observer) {{\n",
       "        var display = window.getComputedStyle(gd).display;\n",
       "        if (!display || display === 'none') {{\n",
       "            console.log([gd, 'removed!']);\n",
       "            Plotly.purge(gd);\n",
       "            observer.disconnect();\n",
       "        }}\n",
       "}});\n",
       "\n",
       "// Listen for the removal of the full notebook cells\n",
       "var notebookContainer = gd.closest('#notebook-container');\n",
       "if (notebookContainer) {{\n",
       "    x.observe(notebookContainer, {childList: true});\n",
       "}}\n",
       "\n",
       "// Listen for the clearing of the current output cell\n",
       "var outputEl = gd.closest('.output');\n",
       "if (outputEl) {{\n",
       "    x.observe(outputEl, {childList: true});\n",
       "}}\n",
       "\n",
       "                        })                };                });            </script>        </div>"
      ]
     },
     "metadata": {},
     "output_type": "display_data"
    }
   ],
   "source": [
    "px.scatter(data_frame=resultados_merge[(resultados_merge.size_x>=20) &(resultados_merge.tecnico!='vacio')], x='mean_y',y='mean_x', color='tecnico', trendline=\"ols\")"
   ]
  },
  {
   "cell_type": "code",
   "execution_count": null,
   "metadata": {},
   "outputs": [],
   "source": []
  },
  {
   "cell_type": "code",
   "execution_count": null,
   "metadata": {},
   "outputs": [],
   "source": []
  },
  {
   "cell_type": "code",
   "execution_count": null,
   "metadata": {},
   "outputs": [],
   "source": []
  },
  {
   "cell_type": "code",
   "execution_count": null,
   "metadata": {},
   "outputs": [],
   "source": []
  },
  {
   "cell_type": "code",
   "execution_count": null,
   "metadata": {},
   "outputs": [],
   "source": []
  },
  {
   "cell_type": "code",
   "execution_count": null,
   "metadata": {},
   "outputs": [],
   "source": []
  }
 ],
 "metadata": {
  "kernelspec": {
   "display_name": "Python 3",
   "language": "python",
   "name": "python3"
  },
  "language_info": {
   "codemirror_mode": {
    "name": "ipython",
    "version": 3
   },
   "file_extension": ".py",
   "mimetype": "text/x-python",
   "name": "python",
   "nbconvert_exporter": "python",
   "pygments_lexer": "ipython3",
   "version": "3.8.3"
  },
  "latex_envs": {
   "LaTeX_envs_menu_present": true,
   "autoclose": false,
   "autocomplete": true,
   "bibliofile": "biblio.bib",
   "cite_by": "apalike",
   "current_citInitial": 1,
   "eqLabelWithNumbers": true,
   "eqNumInitial": 1,
   "hotkeys": {
    "equation": "Ctrl-E",
    "itemize": "Ctrl-I"
   },
   "labels_anchors": false,
   "latex_user_defs": false,
   "report_style_numbering": false,
   "user_envs_cfg": false
  },
  "toc": {
   "base_numbering": 1,
   "nav_menu": {},
   "number_sections": true,
   "sideBar": true,
   "skip_h1_title": false,
   "title_cell": "Table of Contents",
   "title_sidebar": "Contents",
   "toc_cell": false,
   "toc_position": {},
   "toc_section_display": true,
   "toc_window_display": false
  }
 },
 "nbformat": 4,
 "nbformat_minor": 4
}
